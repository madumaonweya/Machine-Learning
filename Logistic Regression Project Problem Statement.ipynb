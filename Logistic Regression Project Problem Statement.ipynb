{
 "cells": [
  {
   "cell_type": "markdown",
   "id": "10229d8e",
   "metadata": {},
   "source": [
    "##### The task presented is a classification task  for DeltaSquare an NGO that works with the Government on matters of social policy to bring about a change in the lives of underprivileged sections of society. \n",
    "\n",
    "##### To enable them come up with a policy framework, I will be working with the WHO data and present my recommendations"
   ]
  },
  {
   "cell_type": "code",
   "execution_count": 204,
   "id": "3894a143",
   "metadata": {},
   "outputs": [],
   "source": [
    "# Libraries needed\n",
    "import pandas as pd\n",
    "import numpy as np\n",
    "import matplotlib.pyplot as plt\n",
    "import seaborn as sns\n",
    "%matplotlib inline\n",
    "from utils import histogram_boxplot, labeled_barplot\n",
    "\n",
    "# split to train and test\n",
    "from sklearn.model_selection import train_test_split\n",
    "\n",
    "from sklearn.linear_model import LogisticRegression\n",
    "from sklearn.preprocessing import MinMaxScaler\n",
    "\n",
    "from sklearn.metrics import (precision_score, \n",
    "                             recall_score, \n",
    "                             f1_score,\n",
    "                             accuracy_score,\n",
    "                             precision_recall_curve,\n",
    "                             roc_auc_score,\n",
    "                             ConfusionMatrixDisplay,\n",
    "                             confusion_matrix,\n",
    "                             roc_curve)\n",
    "\n",
    "from imblearn.over_sampling import ADASYN, SMOTE, RandomOverSampler\n",
    "from imblearn.under_sampling import RandomUnderSampler\n",
    "# for decision tree\n",
    "from sklearn.tree import DecisionTreeClassifier\n",
    "from sklearn import tree"
   ]
  },
  {
   "cell_type": "markdown",
   "id": "208ed4e7",
   "metadata": {},
   "source": [
    "##### Loading the data"
   ]
  },
  {
   "cell_type": "code",
   "execution_count": 205,
   "id": "ba2ee8af",
   "metadata": {},
   "outputs": [],
   "source": [
    "path = r\"C:\\Users\\USER\\Desktop\\APPLIED ALLIED PYTHON AND AI TUTORIAL\\Machine Learning\\who_data.csv\""
   ]
  },
  {
   "cell_type": "code",
   "execution_count": 206,
   "id": "5d3bc695",
   "metadata": {},
   "outputs": [],
   "source": [
    "data = pd.read_csv(path) # reading the csv file in pandas"
   ]
  },
  {
   "cell_type": "code",
   "execution_count": 207,
   "id": "6d872e03",
   "metadata": {
    "scrolled": false
   },
   "outputs": [
    {
     "data": {
      "text/html": [
       "<div>\n",
       "<style scoped>\n",
       "    .dataframe tbody tr th:only-of-type {\n",
       "        vertical-align: middle;\n",
       "    }\n",
       "\n",
       "    .dataframe tbody tr th {\n",
       "        vertical-align: top;\n",
       "    }\n",
       "\n",
       "    .dataframe thead th {\n",
       "        text-align: right;\n",
       "    }\n",
       "</style>\n",
       "<table border=\"1\" class=\"dataframe\">\n",
       "  <thead>\n",
       "    <tr style=\"text-align: right;\">\n",
       "      <th></th>\n",
       "      <th>age</th>\n",
       "      <th>workclass</th>\n",
       "      <th>fnlwgt</th>\n",
       "      <th>education</th>\n",
       "      <th>education_no_of_years</th>\n",
       "      <th>marital_status</th>\n",
       "      <th>occupation</th>\n",
       "      <th>relationship</th>\n",
       "      <th>race</th>\n",
       "      <th>sex</th>\n",
       "      <th>capital_gain</th>\n",
       "      <th>capital_loss</th>\n",
       "      <th>working_hours_per_week</th>\n",
       "      <th>native_country</th>\n",
       "      <th>salary</th>\n",
       "    </tr>\n",
       "  </thead>\n",
       "  <tbody>\n",
       "    <tr>\n",
       "      <th>0</th>\n",
       "      <td>39</td>\n",
       "      <td>State-gov</td>\n",
       "      <td>77516</td>\n",
       "      <td>Bachelors</td>\n",
       "      <td>13</td>\n",
       "      <td>Never-married</td>\n",
       "      <td>Adm-clerical</td>\n",
       "      <td>Not-in-family</td>\n",
       "      <td>White</td>\n",
       "      <td>Male</td>\n",
       "      <td>2174</td>\n",
       "      <td>0</td>\n",
       "      <td>40</td>\n",
       "      <td>United-States</td>\n",
       "      <td>&lt;=50K</td>\n",
       "    </tr>\n",
       "    <tr>\n",
       "      <th>1</th>\n",
       "      <td>50</td>\n",
       "      <td>Self-emp-not-inc</td>\n",
       "      <td>83311</td>\n",
       "      <td>Bachelors</td>\n",
       "      <td>13</td>\n",
       "      <td>Married-civ-spouse</td>\n",
       "      <td>Exec-managerial</td>\n",
       "      <td>Husband</td>\n",
       "      <td>White</td>\n",
       "      <td>Male</td>\n",
       "      <td>0</td>\n",
       "      <td>0</td>\n",
       "      <td>13</td>\n",
       "      <td>United-States</td>\n",
       "      <td>&lt;=50K</td>\n",
       "    </tr>\n",
       "    <tr>\n",
       "      <th>2</th>\n",
       "      <td>38</td>\n",
       "      <td>Private</td>\n",
       "      <td>215646</td>\n",
       "      <td>HS-grad</td>\n",
       "      <td>9</td>\n",
       "      <td>Divorced</td>\n",
       "      <td>Handlers-cleaners</td>\n",
       "      <td>Not-in-family</td>\n",
       "      <td>White</td>\n",
       "      <td>Male</td>\n",
       "      <td>0</td>\n",
       "      <td>0</td>\n",
       "      <td>40</td>\n",
       "      <td>United-States</td>\n",
       "      <td>&lt;=50K</td>\n",
       "    </tr>\n",
       "    <tr>\n",
       "      <th>3</th>\n",
       "      <td>53</td>\n",
       "      <td>Private</td>\n",
       "      <td>234721</td>\n",
       "      <td>11th</td>\n",
       "      <td>7</td>\n",
       "      <td>Married-civ-spouse</td>\n",
       "      <td>Handlers-cleaners</td>\n",
       "      <td>Husband</td>\n",
       "      <td>Black</td>\n",
       "      <td>Male</td>\n",
       "      <td>0</td>\n",
       "      <td>0</td>\n",
       "      <td>40</td>\n",
       "      <td>United-States</td>\n",
       "      <td>&lt;=50K</td>\n",
       "    </tr>\n",
       "    <tr>\n",
       "      <th>4</th>\n",
       "      <td>28</td>\n",
       "      <td>Private</td>\n",
       "      <td>338409</td>\n",
       "      <td>Bachelors</td>\n",
       "      <td>13</td>\n",
       "      <td>Married-civ-spouse</td>\n",
       "      <td>Prof-specialty</td>\n",
       "      <td>Wife</td>\n",
       "      <td>Black</td>\n",
       "      <td>Female</td>\n",
       "      <td>0</td>\n",
       "      <td>0</td>\n",
       "      <td>40</td>\n",
       "      <td>Cuba</td>\n",
       "      <td>&lt;=50K</td>\n",
       "    </tr>\n",
       "  </tbody>\n",
       "</table>\n",
       "</div>"
      ],
      "text/plain": [
       "   age          workclass  fnlwgt   education  education_no_of_years  \\\n",
       "0   39          State-gov   77516   Bachelors                     13   \n",
       "1   50   Self-emp-not-inc   83311   Bachelors                     13   \n",
       "2   38            Private  215646     HS-grad                      9   \n",
       "3   53            Private  234721        11th                      7   \n",
       "4   28            Private  338409   Bachelors                     13   \n",
       "\n",
       "        marital_status          occupation    relationship    race      sex  \\\n",
       "0        Never-married        Adm-clerical   Not-in-family   White     Male   \n",
       "1   Married-civ-spouse     Exec-managerial         Husband   White     Male   \n",
       "2             Divorced   Handlers-cleaners   Not-in-family   White     Male   \n",
       "3   Married-civ-spouse   Handlers-cleaners         Husband   Black     Male   \n",
       "4   Married-civ-spouse      Prof-specialty            Wife   Black   Female   \n",
       "\n",
       "   capital_gain  capital_loss  working_hours_per_week  native_country  salary  \n",
       "0          2174             0                      40   United-States   <=50K  \n",
       "1             0             0                      13   United-States   <=50K  \n",
       "2             0             0                      40   United-States   <=50K  \n",
       "3             0             0                      40   United-States   <=50K  \n",
       "4             0             0                      40            Cuba   <=50K  "
      ]
     },
     "execution_count": 207,
     "metadata": {},
     "output_type": "execute_result"
    }
   ],
   "source": [
    "#check the first 5 rows of the data\n",
    "data.head()"
   ]
  },
  {
   "cell_type": "markdown",
   "id": "31e3c3f8",
   "metadata": {},
   "source": [
    "##### Data Exploration"
   ]
  },
  {
   "cell_type": "code",
   "execution_count": 208,
   "id": "f124e4b3",
   "metadata": {
    "scrolled": true
   },
   "outputs": [
    {
     "data": {
      "text/plain": [
       " Private             22696\n",
       " Self-emp-not-inc     2541\n",
       " Local-gov            2093\n",
       " ?                    1836\n",
       " State-gov            1298\n",
       " Self-emp-inc         1116\n",
       " Federal-gov           960\n",
       " Without-pay            14\n",
       " Never-worked            7\n",
       "Name: workclass, dtype: int64"
      ]
     },
     "execution_count": 208,
     "metadata": {},
     "output_type": "execute_result"
    }
   ],
   "source": [
    "data['workclass'].value_counts() #counts"
   ]
  },
  {
   "cell_type": "markdown",
   "id": "8cb2007e",
   "metadata": {},
   "source": [
    "Observations\n",
    "- From the above there are 1836 number of people with unknown workclass"
   ]
  },
  {
   "cell_type": "code",
   "execution_count": 209,
   "id": "8d9e39e1",
   "metadata": {
    "scrolled": true
   },
   "outputs": [
    {
     "data": {
      "text/plain": [
       " Prof-specialty       4140\n",
       " Craft-repair         4099\n",
       " Exec-managerial      4066\n",
       " Adm-clerical         3770\n",
       " Sales                3650\n",
       " Other-service        3295\n",
       " Machine-op-inspct    2002\n",
       " ?                    1843\n",
       " Transport-moving     1597\n",
       " Handlers-cleaners    1370\n",
       " Farming-fishing       994\n",
       " Tech-support          928\n",
       " Protective-serv       649\n",
       " Priv-house-serv       149\n",
       " Armed-Forces            9\n",
       "Name: occupation, dtype: int64"
      ]
     },
     "execution_count": 209,
     "metadata": {},
     "output_type": "execute_result"
    }
   ],
   "source": [
    "data['occupation'].value_counts()"
   ]
  },
  {
   "cell_type": "markdown",
   "id": "99aee4b5",
   "metadata": {},
   "source": [
    "Observations\n",
    "- From the above, there are 1843 people with unknown occupation"
   ]
  },
  {
   "cell_type": "code",
   "execution_count": 210,
   "id": "ece156fd",
   "metadata": {},
   "outputs": [
    {
     "data": {
      "text/plain": [
       " HS-grad         10501\n",
       " Some-college     7291\n",
       " Bachelors        5355\n",
       " Masters          1723\n",
       " Assoc-voc        1382\n",
       " 11th             1175\n",
       " Assoc-acdm       1067\n",
       " 10th              933\n",
       " 7th-8th           646\n",
       " Prof-school       576\n",
       " 9th               514\n",
       " 12th              433\n",
       " Doctorate         413\n",
       " 5th-6th           333\n",
       " 1st-4th           168\n",
       " Preschool          51\n",
       "Name: education, dtype: int64"
      ]
     },
     "execution_count": 210,
     "metadata": {},
     "output_type": "execute_result"
    }
   ],
   "source": [
    "data['education'].value_counts()"
   ]
  },
  {
   "cell_type": "code",
   "execution_count": 211,
   "id": "47636872",
   "metadata": {},
   "outputs": [
    {
     "data": {
      "text/plain": [
       " Married-civ-spouse       14976\n",
       " Never-married            10683\n",
       " Divorced                  4443\n",
       " Separated                 1025\n",
       " Widowed                    993\n",
       " Married-spouse-absent      418\n",
       " Married-AF-spouse           23\n",
       "Name: marital_status, dtype: int64"
      ]
     },
     "execution_count": 211,
     "metadata": {},
     "output_type": "execute_result"
    }
   ],
   "source": [
    "data['marital_status'].value_counts()"
   ]
  },
  {
   "cell_type": "code",
   "execution_count": 212,
   "id": "6e6a3769",
   "metadata": {},
   "outputs": [
    {
     "data": {
      "text/plain": [
       " Husband           13193\n",
       " Not-in-family      8305\n",
       " Own-child          5068\n",
       " Unmarried          3446\n",
       " Wife               1568\n",
       " Other-relative      981\n",
       "Name: relationship, dtype: int64"
      ]
     },
     "execution_count": 212,
     "metadata": {},
     "output_type": "execute_result"
    }
   ],
   "source": [
    "data['relationship'].value_counts()"
   ]
  },
  {
   "cell_type": "code",
   "execution_count": 213,
   "id": "6c41516e",
   "metadata": {},
   "outputs": [
    {
     "data": {
      "text/plain": [
       " White                 27816\n",
       " Black                  3124\n",
       " Asian-Pac-Islander     1039\n",
       " Amer-Indian-Eskimo      311\n",
       " Other                   271\n",
       "Name: race, dtype: int64"
      ]
     },
     "execution_count": 213,
     "metadata": {},
     "output_type": "execute_result"
    }
   ],
   "source": [
    "data['race'].value_counts()"
   ]
  },
  {
   "cell_type": "code",
   "execution_count": 214,
   "id": "683852fb",
   "metadata": {},
   "outputs": [
    {
     "data": {
      "text/plain": [
       " Male      21790\n",
       " Female    10771\n",
       "Name: sex, dtype: int64"
      ]
     },
     "execution_count": 214,
     "metadata": {},
     "output_type": "execute_result"
    }
   ],
   "source": [
    "data['sex'].value_counts()"
   ]
  },
  {
   "cell_type": "code",
   "execution_count": 215,
   "id": "ef7b6333",
   "metadata": {},
   "outputs": [
    {
     "data": {
      "text/plain": [
       " United-States                 29170\n",
       " Mexico                          643\n",
       " ?                               583\n",
       " Philippines                     198\n",
       " Germany                         137\n",
       " Canada                          121\n",
       " Puerto-Rico                     114\n",
       " El-Salvador                     106\n",
       " India                           100\n",
       " Cuba                             95\n",
       " England                          90\n",
       " Jamaica                          81\n",
       " South                            80\n",
       " China                            75\n",
       " Italy                            73\n",
       " Dominican-Republic               70\n",
       " Vietnam                          67\n",
       " Guatemala                        64\n",
       " Japan                            62\n",
       " Poland                           60\n",
       " Columbia                         59\n",
       " Taiwan                           51\n",
       " Haiti                            44\n",
       " Iran                             43\n",
       " Portugal                         37\n",
       " Nicaragua                        34\n",
       " Peru                             31\n",
       " France                           29\n",
       " Greece                           29\n",
       " Ecuador                          28\n",
       " Ireland                          24\n",
       " Hong                             20\n",
       " Cambodia                         19\n",
       " Trinadad&Tobago                  19\n",
       " Laos                             18\n",
       " Thailand                         18\n",
       " Yugoslavia                       16\n",
       " Outlying-US(Guam-USVI-etc)       14\n",
       " Honduras                         13\n",
       " Hungary                          13\n",
       " Scotland                         12\n",
       " Holand-Netherlands                1\n",
       "Name: native_country, dtype: int64"
      ]
     },
     "execution_count": 215,
     "metadata": {},
     "output_type": "execute_result"
    }
   ],
   "source": [
    "data['native_country'].value_counts()"
   ]
  },
  {
   "cell_type": "markdown",
   "id": "68db28d5",
   "metadata": {},
   "source": [
    "Observations\n",
    "- From the above there are 583 number of people with unknown countrys"
   ]
  },
  {
   "cell_type": "code",
   "execution_count": 216,
   "id": "5939c81b",
   "metadata": {},
   "outputs": [],
   "source": [
    "occ = data[data['occupation'] == ' ?'] # checking the the unknown occupation data "
   ]
  },
  {
   "cell_type": "code",
   "execution_count": 217,
   "id": "d5b06422",
   "metadata": {},
   "outputs": [
    {
     "data": {
      "text/plain": [
       " <=50K    1652\n",
       " >50K      191\n",
       "Name: salary, dtype: int64"
      ]
     },
     "execution_count": 217,
     "metadata": {},
     "output_type": "execute_result"
    }
   ],
   "source": [
    "occ['salary'].value_counts()"
   ]
  },
  {
   "cell_type": "code",
   "execution_count": 218,
   "id": "d03332a9",
   "metadata": {
    "scrolled": true
   },
   "outputs": [
    {
     "data": {
      "text/plain": [
       " ?    1843\n",
       "Name: occupation, dtype: int64"
      ]
     },
     "execution_count": 218,
     "metadata": {},
     "output_type": "execute_result"
    }
   ],
   "source": [
    "occ['occupation'].value_counts()"
   ]
  },
  {
   "cell_type": "code",
   "execution_count": 219,
   "id": "0726aaaa",
   "metadata": {},
   "outputs": [
    {
     "name": "stdout",
     "output_type": "stream",
     "text": [
      " The data have 32561 rows and 15 columns\n"
     ]
    }
   ],
   "source": [
    "# check the shape of the data\n",
    "print(f' The data have {data.shape[0]} rows and {data.shape[1]} columns')"
   ]
  },
  {
   "cell_type": "markdown",
   "id": "dc79fc4e",
   "metadata": {},
   "source": [
    "- From the above columns list and my observation made, I don't want to assume figures for the unknown ocuppation, working class and country.\n",
    "- Individuals tend not to disclose these data due to tax evasion, illegal stay in the country, Money laundering and non-consent.\n",
    "- These numbers are not significant and i will drop the rows where this issue occurs"
   ]
  },
  {
   "cell_type": "code",
   "execution_count": 220,
   "id": "f2fe95e8",
   "metadata": {},
   "outputs": [],
   "source": [
    "# make copy of the data\n",
    "df = data.copy() "
   ]
  },
  {
   "cell_type": "code",
   "execution_count": 221,
   "id": "a7e07ee7",
   "metadata": {},
   "outputs": [],
   "source": [
    "# drop rows with'?'\n",
    "df['occupation'] = df['occupation'].replace(' ?', np.nan)\n",
    "df['workclass'] = df['workclass'].replace(' ?', np.nan)\n",
    "df['native_country'] = df['native_country'].replace(' ?', np.nan)"
   ]
  },
  {
   "cell_type": "code",
   "execution_count": 222,
   "id": "1f30f371",
   "metadata": {},
   "outputs": [],
   "source": [
    "df.dropna(inplace=True)"
   ]
  },
  {
   "cell_type": "code",
   "execution_count": 223,
   "id": "358e0ada",
   "metadata": {},
   "outputs": [
    {
     "name": "stdout",
     "output_type": "stream",
     "text": [
      " The data have 30162 rows and 15 columns\n"
     ]
    }
   ],
   "source": [
    "# check the shape of the df\n",
    "print(f' The data have {df.shape[0]} rows and {df.shape[1]} columns')"
   ]
  },
  {
   "cell_type": "code",
   "execution_count": null,
   "id": "0dc7da86",
   "metadata": {},
   "outputs": [],
   "source": []
  },
  {
   "cell_type": "code",
   "execution_count": 224,
   "id": "8b77ffd3",
   "metadata": {},
   "outputs": [
    {
     "data": {
      "text/html": [
       "<div>\n",
       "<style scoped>\n",
       "    .dataframe tbody tr th:only-of-type {\n",
       "        vertical-align: middle;\n",
       "    }\n",
       "\n",
       "    .dataframe tbody tr th {\n",
       "        vertical-align: top;\n",
       "    }\n",
       "\n",
       "    .dataframe thead th {\n",
       "        text-align: right;\n",
       "    }\n",
       "</style>\n",
       "<table border=\"1\" class=\"dataframe\">\n",
       "  <thead>\n",
       "    <tr style=\"text-align: right;\">\n",
       "      <th></th>\n",
       "      <th>count</th>\n",
       "      <th>unique</th>\n",
       "      <th>top</th>\n",
       "      <th>freq</th>\n",
       "      <th>mean</th>\n",
       "      <th>std</th>\n",
       "      <th>min</th>\n",
       "      <th>25%</th>\n",
       "      <th>50%</th>\n",
       "      <th>75%</th>\n",
       "      <th>max</th>\n",
       "    </tr>\n",
       "  </thead>\n",
       "  <tbody>\n",
       "    <tr>\n",
       "      <th>age</th>\n",
       "      <td>30162.0</td>\n",
       "      <td>NaN</td>\n",
       "      <td>NaN</td>\n",
       "      <td>NaN</td>\n",
       "      <td>38.437902</td>\n",
       "      <td>13.134665</td>\n",
       "      <td>17.0</td>\n",
       "      <td>28.0</td>\n",
       "      <td>37.0</td>\n",
       "      <td>47.0</td>\n",
       "      <td>90.0</td>\n",
       "    </tr>\n",
       "    <tr>\n",
       "      <th>workclass</th>\n",
       "      <td>30162</td>\n",
       "      <td>7</td>\n",
       "      <td>Private</td>\n",
       "      <td>22286</td>\n",
       "      <td>NaN</td>\n",
       "      <td>NaN</td>\n",
       "      <td>NaN</td>\n",
       "      <td>NaN</td>\n",
       "      <td>NaN</td>\n",
       "      <td>NaN</td>\n",
       "      <td>NaN</td>\n",
       "    </tr>\n",
       "    <tr>\n",
       "      <th>fnlwgt</th>\n",
       "      <td>30162.0</td>\n",
       "      <td>NaN</td>\n",
       "      <td>NaN</td>\n",
       "      <td>NaN</td>\n",
       "      <td>189793.83393</td>\n",
       "      <td>105652.971529</td>\n",
       "      <td>13769.0</td>\n",
       "      <td>117627.25</td>\n",
       "      <td>178425.0</td>\n",
       "      <td>237628.5</td>\n",
       "      <td>1484705.0</td>\n",
       "    </tr>\n",
       "    <tr>\n",
       "      <th>education</th>\n",
       "      <td>30162</td>\n",
       "      <td>16</td>\n",
       "      <td>HS-grad</td>\n",
       "      <td>9840</td>\n",
       "      <td>NaN</td>\n",
       "      <td>NaN</td>\n",
       "      <td>NaN</td>\n",
       "      <td>NaN</td>\n",
       "      <td>NaN</td>\n",
       "      <td>NaN</td>\n",
       "      <td>NaN</td>\n",
       "    </tr>\n",
       "    <tr>\n",
       "      <th>education_no_of_years</th>\n",
       "      <td>30162.0</td>\n",
       "      <td>NaN</td>\n",
       "      <td>NaN</td>\n",
       "      <td>NaN</td>\n",
       "      <td>10.121312</td>\n",
       "      <td>2.549995</td>\n",
       "      <td>1.0</td>\n",
       "      <td>9.0</td>\n",
       "      <td>10.0</td>\n",
       "      <td>13.0</td>\n",
       "      <td>16.0</td>\n",
       "    </tr>\n",
       "    <tr>\n",
       "      <th>marital_status</th>\n",
       "      <td>30162</td>\n",
       "      <td>7</td>\n",
       "      <td>Married-civ-spouse</td>\n",
       "      <td>14065</td>\n",
       "      <td>NaN</td>\n",
       "      <td>NaN</td>\n",
       "      <td>NaN</td>\n",
       "      <td>NaN</td>\n",
       "      <td>NaN</td>\n",
       "      <td>NaN</td>\n",
       "      <td>NaN</td>\n",
       "    </tr>\n",
       "    <tr>\n",
       "      <th>occupation</th>\n",
       "      <td>30162</td>\n",
       "      <td>14</td>\n",
       "      <td>Prof-specialty</td>\n",
       "      <td>4038</td>\n",
       "      <td>NaN</td>\n",
       "      <td>NaN</td>\n",
       "      <td>NaN</td>\n",
       "      <td>NaN</td>\n",
       "      <td>NaN</td>\n",
       "      <td>NaN</td>\n",
       "      <td>NaN</td>\n",
       "    </tr>\n",
       "    <tr>\n",
       "      <th>relationship</th>\n",
       "      <td>30162</td>\n",
       "      <td>6</td>\n",
       "      <td>Husband</td>\n",
       "      <td>12463</td>\n",
       "      <td>NaN</td>\n",
       "      <td>NaN</td>\n",
       "      <td>NaN</td>\n",
       "      <td>NaN</td>\n",
       "      <td>NaN</td>\n",
       "      <td>NaN</td>\n",
       "      <td>NaN</td>\n",
       "    </tr>\n",
       "    <tr>\n",
       "      <th>race</th>\n",
       "      <td>30162</td>\n",
       "      <td>5</td>\n",
       "      <td>White</td>\n",
       "      <td>25933</td>\n",
       "      <td>NaN</td>\n",
       "      <td>NaN</td>\n",
       "      <td>NaN</td>\n",
       "      <td>NaN</td>\n",
       "      <td>NaN</td>\n",
       "      <td>NaN</td>\n",
       "      <td>NaN</td>\n",
       "    </tr>\n",
       "    <tr>\n",
       "      <th>sex</th>\n",
       "      <td>30162</td>\n",
       "      <td>2</td>\n",
       "      <td>Male</td>\n",
       "      <td>20380</td>\n",
       "      <td>NaN</td>\n",
       "      <td>NaN</td>\n",
       "      <td>NaN</td>\n",
       "      <td>NaN</td>\n",
       "      <td>NaN</td>\n",
       "      <td>NaN</td>\n",
       "      <td>NaN</td>\n",
       "    </tr>\n",
       "    <tr>\n",
       "      <th>capital_gain</th>\n",
       "      <td>30162.0</td>\n",
       "      <td>NaN</td>\n",
       "      <td>NaN</td>\n",
       "      <td>NaN</td>\n",
       "      <td>1092.007858</td>\n",
       "      <td>7406.346497</td>\n",
       "      <td>0.0</td>\n",
       "      <td>0.0</td>\n",
       "      <td>0.0</td>\n",
       "      <td>0.0</td>\n",
       "      <td>99999.0</td>\n",
       "    </tr>\n",
       "    <tr>\n",
       "      <th>capital_loss</th>\n",
       "      <td>30162.0</td>\n",
       "      <td>NaN</td>\n",
       "      <td>NaN</td>\n",
       "      <td>NaN</td>\n",
       "      <td>88.372489</td>\n",
       "      <td>404.29837</td>\n",
       "      <td>0.0</td>\n",
       "      <td>0.0</td>\n",
       "      <td>0.0</td>\n",
       "      <td>0.0</td>\n",
       "      <td>4356.0</td>\n",
       "    </tr>\n",
       "    <tr>\n",
       "      <th>working_hours_per_week</th>\n",
       "      <td>30162.0</td>\n",
       "      <td>NaN</td>\n",
       "      <td>NaN</td>\n",
       "      <td>NaN</td>\n",
       "      <td>40.931238</td>\n",
       "      <td>11.979984</td>\n",
       "      <td>1.0</td>\n",
       "      <td>40.0</td>\n",
       "      <td>40.0</td>\n",
       "      <td>45.0</td>\n",
       "      <td>99.0</td>\n",
       "    </tr>\n",
       "    <tr>\n",
       "      <th>native_country</th>\n",
       "      <td>30162</td>\n",
       "      <td>41</td>\n",
       "      <td>United-States</td>\n",
       "      <td>27504</td>\n",
       "      <td>NaN</td>\n",
       "      <td>NaN</td>\n",
       "      <td>NaN</td>\n",
       "      <td>NaN</td>\n",
       "      <td>NaN</td>\n",
       "      <td>NaN</td>\n",
       "      <td>NaN</td>\n",
       "    </tr>\n",
       "    <tr>\n",
       "      <th>salary</th>\n",
       "      <td>30162</td>\n",
       "      <td>2</td>\n",
       "      <td>&lt;=50K</td>\n",
       "      <td>22654</td>\n",
       "      <td>NaN</td>\n",
       "      <td>NaN</td>\n",
       "      <td>NaN</td>\n",
       "      <td>NaN</td>\n",
       "      <td>NaN</td>\n",
       "      <td>NaN</td>\n",
       "      <td>NaN</td>\n",
       "    </tr>\n",
       "  </tbody>\n",
       "</table>\n",
       "</div>"
      ],
      "text/plain": [
       "                          count unique                  top   freq  \\\n",
       "age                     30162.0    NaN                  NaN    NaN   \n",
       "workclass                 30162      7              Private  22286   \n",
       "fnlwgt                  30162.0    NaN                  NaN    NaN   \n",
       "education                 30162     16              HS-grad   9840   \n",
       "education_no_of_years   30162.0    NaN                  NaN    NaN   \n",
       "marital_status            30162      7   Married-civ-spouse  14065   \n",
       "occupation                30162     14       Prof-specialty   4038   \n",
       "relationship              30162      6              Husband  12463   \n",
       "race                      30162      5                White  25933   \n",
       "sex                       30162      2                 Male  20380   \n",
       "capital_gain            30162.0    NaN                  NaN    NaN   \n",
       "capital_loss            30162.0    NaN                  NaN    NaN   \n",
       "working_hours_per_week  30162.0    NaN                  NaN    NaN   \n",
       "native_country            30162     41        United-States  27504   \n",
       "salary                    30162      2                <=50K  22654   \n",
       "\n",
       "                                mean            std      min        25%  \\\n",
       "age                        38.437902      13.134665     17.0       28.0   \n",
       "workclass                        NaN            NaN      NaN        NaN   \n",
       "fnlwgt                  189793.83393  105652.971529  13769.0  117627.25   \n",
       "education                        NaN            NaN      NaN        NaN   \n",
       "education_no_of_years      10.121312       2.549995      1.0        9.0   \n",
       "marital_status                   NaN            NaN      NaN        NaN   \n",
       "occupation                       NaN            NaN      NaN        NaN   \n",
       "relationship                     NaN            NaN      NaN        NaN   \n",
       "race                             NaN            NaN      NaN        NaN   \n",
       "sex                              NaN            NaN      NaN        NaN   \n",
       "capital_gain             1092.007858    7406.346497      0.0        0.0   \n",
       "capital_loss               88.372489      404.29837      0.0        0.0   \n",
       "working_hours_per_week     40.931238      11.979984      1.0       40.0   \n",
       "native_country                   NaN            NaN      NaN        NaN   \n",
       "salary                           NaN            NaN      NaN        NaN   \n",
       "\n",
       "                             50%       75%        max  \n",
       "age                         37.0      47.0       90.0  \n",
       "workclass                    NaN       NaN        NaN  \n",
       "fnlwgt                  178425.0  237628.5  1484705.0  \n",
       "education                    NaN       NaN        NaN  \n",
       "education_no_of_years       10.0      13.0       16.0  \n",
       "marital_status               NaN       NaN        NaN  \n",
       "occupation                   NaN       NaN        NaN  \n",
       "relationship                 NaN       NaN        NaN  \n",
       "race                         NaN       NaN        NaN  \n",
       "sex                          NaN       NaN        NaN  \n",
       "capital_gain                 0.0       0.0    99999.0  \n",
       "capital_loss                 0.0       0.0     4356.0  \n",
       "working_hours_per_week      40.0      45.0       99.0  \n",
       "native_country               NaN       NaN        NaN  \n",
       "salary                       NaN       NaN        NaN  "
      ]
     },
     "execution_count": 224,
     "metadata": {},
     "output_type": "execute_result"
    }
   ],
   "source": [
    "# get the statistics of the data\n",
    "df.describe(include='all').T"
   ]
  },
  {
   "cell_type": "markdown",
   "id": "d0c517a1",
   "metadata": {},
   "source": [
    "###### From the data more people have salarys less than or equal to 50k\n",
    "\n",
    "- 29,170 people are from the united states\n",
    "- The capial loss and capital gain are greater than the median making them right skewed"
   ]
  },
  {
   "cell_type": "code",
   "execution_count": 225,
   "id": "9142b97f",
   "metadata": {},
   "outputs": [],
   "source": [
    "# encoding  <= 50 to 1 and > 50 as 0\n",
    "df['salary'].replace({' <=50K': 1, ' >50K': 0}, inplace = True)\n",
    "\n",
    "# cast to integer\n",
    "df['salary'] = df['salary'].astype(int)"
   ]
  },
  {
   "cell_type": "code",
   "execution_count": null,
   "id": "b88d38e4",
   "metadata": {},
   "outputs": [],
   "source": []
  },
  {
   "cell_type": "markdown",
   "id": "bf4c4108",
   "metadata": {},
   "source": [
    "###### The Salaries are of two classes, less than or equal to 50, greater than or equal to 50"
   ]
  },
  {
   "cell_type": "code",
   "execution_count": 226,
   "id": "b1789a30",
   "metadata": {},
   "outputs": [
    {
     "name": "stdout",
     "output_type": "stream",
     "text": [
      "There are 23 duplicated rows in the data\n"
     ]
    }
   ],
   "source": [
    "duplicate = df.duplicated().sum()\n",
    "print('There are {} duplicated rows in the data'.format(duplicate))"
   ]
  },
  {
   "cell_type": "code",
   "execution_count": 227,
   "id": "53d60318",
   "metadata": {},
   "outputs": [],
   "source": [
    "# drop the duplicate\n",
    "df.drop_duplicates(inplace=True)\n",
    "df.reset_index(inplace=True, drop=True)"
   ]
  },
  {
   "cell_type": "code",
   "execution_count": null,
   "id": "7d989313",
   "metadata": {},
   "outputs": [],
   "source": []
  },
  {
   "cell_type": "markdown",
   "id": "4f54bedf",
   "metadata": {},
   "source": [
    "#####  Visualization"
   ]
  },
  {
   "cell_type": "code",
   "execution_count": 228,
   "id": "7c272304",
   "metadata": {},
   "outputs": [],
   "source": [
    "columns = list(df)[:-1]"
   ]
  },
  {
   "cell_type": "code",
   "execution_count": 229,
   "id": "6e6c42df",
   "metadata": {
    "scrolled": false
   },
   "outputs": [
    {
     "data": {
      "image/png": "[encoded data removed]",
      "text/plain": [
       "<Figure size 864x2160 with 28 Axes>"
      ]
     },
     "metadata": {
      "needs_background": "light"
     },
     "output_type": "display_data"
    }
   ],
   "source": [
    "df[columns].hist(stacked = False, bins = 100, figsize=(12,30),\n",
    "                  layout=(14,2));\n",
    "plt.tight_layout()"
   ]
  },
  {
   "cell_type": "markdown",
   "id": "004a14e9",
   "metadata": {},
   "source": [
    "#### Observations\n",
    "- The workforce age is between the ages of 25 and 40years (More people in this age bracket work)\n",
    "- The number of education years are >= 8years, more people tend to further their studies\n",
    "- The capital loss and capital gain are mostly 0. Showiing that the individuals are neither in loss nor gain\n",
    "- the average hours of work is 40hrs as shown in the graph, more people work 40hrs per week "
   ]
  },
  {
   "cell_type": "code",
   "execution_count": 230,
   "id": "c7e4133c",
   "metadata": {},
   "outputs": [
    {
     "data": {
      "image/png": "[encoded data removed]",
      "text/plain": [
       "<Figure size 648x360 with 2 Axes>"
      ]
     },
     "metadata": {
      "needs_background": "light"
     },
     "output_type": "display_data"
    }
   ],
   "source": [
    "histogram_boxplot(data = df, feature='salary')"
   ]
  },
  {
   "cell_type": "markdown",
   "id": "8a187488",
   "metadata": {},
   "source": [
    "\n",
    "- From the above graph the number of people that earns <= 50k are higher than > 50k\n",
    "- This shows that the class has imbalance data"
   ]
  },
  {
   "cell_type": "code",
   "execution_count": null,
   "id": "8c9e69e5",
   "metadata": {},
   "outputs": [],
   "source": []
  },
  {
   "cell_type": "code",
   "execution_count": 231,
   "id": "17af7f97",
   "metadata": {
    "scrolled": false
   },
   "outputs": [
    {
     "data": {
      "image/png": "[encoded data removed]",
      "text/plain": [
       "<Figure size 864x432 with 1 Axes>"
      ]
     },
     "metadata": {
      "needs_background": "light"
     },
     "output_type": "display_data"
    }
   ],
   "source": [
    "plt.figure(figsize=(12,6))\n",
    "sns.countplot(data=df, y=\"workclass\", hue=\"salary\")\n",
    "\n",
    "plt.title('Salary of different workclass');"
   ]
  },
  {
   "cell_type": "markdown",
   "id": "df70db61",
   "metadata": {},
   "source": [
    "##### Observation\n",
    "- The number of people working for a private organization are more than other workclass\n",
    "- Individuals who earn more than 50k are from the Private sector, this has effect on the salary"
   ]
  },
  {
   "cell_type": "code",
   "execution_count": 232,
   "id": "58540a9e",
   "metadata": {},
   "outputs": [
    {
     "data": {
      "image/png": "[encoded data removed]",
      "text/plain": [
       "<Figure size 864x576 with 1 Axes>"
      ]
     },
     "metadata": {
      "needs_background": "light"
     },
     "output_type": "display_data"
    }
   ],
   "source": [
    "plt.figure(figsize=(12,8))\n",
    "sns.countplot(data=df, y=\"education\", hue=\"salary\")\n",
    "plt.xticks(rotation = 90)\n",
    "plt.title('Education and Salary');\n"
   ]
  },
  {
   "cell_type": "markdown",
   "id": "03424c49",
   "metadata": {},
   "source": [
    "##### Observations\n",
    "- Education has effect on salary\n",
    "- Individuals with Bachelors, HS-grad, Masters and college have people that earns >50k\n"
   ]
  },
  {
   "cell_type": "code",
   "execution_count": 233,
   "id": "6daaf70e",
   "metadata": {},
   "outputs": [
    {
     "data": {
      "text/plain": [
       "<AxesSubplot:>"
      ]
     },
     "execution_count": 233,
     "metadata": {},
     "output_type": "execute_result"
    },
    {
     "data": {
      "image/png": "[encoded data removed]",
      "text/plain": [
       "<Figure size 576x504 with 2 Axes>"
      ]
     },
     "metadata": {
      "needs_background": "light"
     },
     "output_type": "display_data"
    }
   ],
   "source": [
    "# plot a heatmap of the corr\n",
    "plt.figure(figsize=(8,7))\n",
    "sns.heatmap(df_corr, annot=True, vmin = -1, vmax=1, cmap = 'Spectral')"
   ]
  },
  {
   "cell_type": "markdown",
   "id": "258536fd",
   "metadata": {},
   "source": [
    "- from the above, I observed that fnlwgt has no effect on the salary\n",
    "- None of the independent variable have a correlation > 0.5. \n",
    "- Education years have more effect on salary than the rest, based on the value from the heatmap"
   ]
  },
  {
   "cell_type": "code",
   "execution_count": 234,
   "id": "130299bc",
   "metadata": {},
   "outputs": [
    {
     "data": {
      "image/png": "[encoded data removed]",
      "text/plain": [
       "<Figure size 1080x504 with 1 Axes>"
      ]
     },
     "metadata": {
      "needs_background": "light"
     },
     "output_type": "display_data"
    }
   ],
   "source": [
    "plt.figure(figsize = (15,7))\n",
    "sns.barplot(y='salary', x= 'education_no_of_years', data =df)\n",
    "plt.show()"
   ]
  },
  {
   "cell_type": "markdown",
   "id": "eeaeba76",
   "metadata": {},
   "source": [
    "#### Observations\n",
    "- Salary tends towards >50k with a increase in the number of education years. There is a linearity between salary and education number of years"
   ]
  },
  {
   "cell_type": "markdown",
   "id": "77f2ef5a",
   "metadata": {},
   "source": [
    "##### Splitting the data to train, test and validation"
   ]
  },
  {
   "cell_type": "code",
   "execution_count": 235,
   "id": "1267587d",
   "metadata": {},
   "outputs": [],
   "source": [
    "# df.head()\n",
    "df_num = df.select_dtypes(exclude ='object') # obtains the numerical data type\n",
    "df_ob = df.select_dtypes(include = 'object') # obtains all the datatypes that are objects"
   ]
  },
  {
   "cell_type": "markdown",
   "id": "e3db85d5",
   "metadata": {},
   "source": [
    "##### Independent variables that have effect on the salary are:\n",
    "- age\n",
    "- workclass\n",
    "- education_no_of_years\n",
    "- working_hours_per_week\n",
    "- capital_loss\n",
    "- capital_gain"
   ]
  },
  {
   "cell_type": "markdown",
   "id": "f8c7e955",
   "metadata": {},
   "source": [
    "#### excluding 'fnlwgt' because it has no effect on salary as shown in the correlation chart"
   ]
  },
  {
   "cell_type": "code",
   "execution_count": 236,
   "id": "8265ca14",
   "metadata": {},
   "outputs": [],
   "source": [
    "#df.columns"
   ]
  },
  {
   "cell_type": "code",
   "execution_count": 237,
   "id": "132199b2",
   "metadata": {},
   "outputs": [],
   "source": [
    "X = df[['workclass','age','education_no_of_years','working_hours_per_week', 'capital_loss','capital_gain']]\n",
    "y = df['salary']"
   ]
  },
  {
   "cell_type": "code",
   "execution_count": 238,
   "id": "48fee201",
   "metadata": {},
   "outputs": [],
   "source": [
    "X = pd.get_dummies(X, drop_first=True) # one hot encoding the work class"
   ]
  },
  {
   "cell_type": "code",
   "execution_count": 239,
   "id": "3afd7b96",
   "metadata": {},
   "outputs": [
    {
     "data": {
      "text/plain": [
       "((30139, 11), (30139,))"
      ]
     },
     "execution_count": 239,
     "metadata": {},
     "output_type": "execute_result"
    }
   ],
   "source": [
    "X.shape, y.shape# checking the shape of both the X and y variables"
   ]
  },
  {
   "cell_type": "code",
   "execution_count": 240,
   "id": "2b0b227e",
   "metadata": {},
   "outputs": [],
   "source": [
    "# split into train, validation and test data\n",
    "\n",
    "X_train_val, X_test, y_train_val, y_test = train_test_split(X, y, test_size=0.2,\n",
    "                                                           random_state= 0,\n",
    "                                                           stratify=y)\n",
    "\n",
    "X_train, X_val, y_train, y_val = train_test_split(X_train_val,\n",
    "                                                 y_train_val,\n",
    "                                                 test_size=0.2,\n",
    "                                                 random_state=0,\n",
    "                                                 stratify=y_train_val)\n",
    "# stratify splits the data and maintain the proportion of both classes in classification"
   ]
  },
  {
   "cell_type": "code",
   "execution_count": 241,
   "id": "9e384643",
   "metadata": {},
   "outputs": [
    {
     "data": {
      "text/plain": [
       "((24111, 11), (6028, 11), (24111,), (6028,))"
      ]
     },
     "execution_count": 241,
     "metadata": {},
     "output_type": "execute_result"
    }
   ],
   "source": [
    "X_train_val.shape, X_test.shape, y_train_val.shape, y_test.shape"
   ]
  },
  {
   "cell_type": "markdown",
   "id": "2cb34039",
   "metadata": {},
   "source": [
    "##### Functions that train and evaluate the models"
   ]
  },
  {
   "cell_type": "code",
   "execution_count": 242,
   "id": "6b7ecf38",
   "metadata": {},
   "outputs": [],
   "source": [
    "# function to train a model and compute train accuracy\n",
    "\n",
    "def train(model, X,y):\n",
    "    \"\"\"\n",
    "    Function to train the model and compute accuracy\n",
    "    \n",
    "    model: Model algorithm not yet traineed\n",
    "    X: train feaures\n",
    "    y: train target\n",
    "    \"\"\"\n",
    "    \n",
    "    trained_model = model.fit(X,y)\n",
    "    preds = trained_model.predict(X)\n",
    "    acc = accuracy_score(y, preds)\n",
    "    \n",
    "    print(f'Trained Accuracy: {acc}')\n",
    "    return trained_model\n",
    "\n",
    "\n",
    "# function to evaluate the model and compute metrics on test data\n",
    "def evaluate(model,X,y, threshold = 0.5): # the higher the thres the more strict u are, y can be validation or test data\n",
    "    \"\"\"\n",
    "    function to evaluate our trained model with different metrics\n",
    "    \n",
    "    model: trained model(classifier)\n",
    "    X: validation features\n",
    "    y: target in validation data\n",
    "    \n",
    "    threshold: values to filter predictions\n",
    "    \"\"\"\n",
    "    \n",
    "    pred_proba = model.predict_proba(X)[:, 1] # it predicts two columns but we are interested in the 1class (True)\n",
    "    pred_class = np.round(pred_proba > threshold) # convert to 0 or 1\n",
    "    acc = accuracy_score(y, pred_class)\n",
    "    recall = recall_score(y, pred_class)\n",
    "    precision = precision_score(y, pred_class)\n",
    "    f1 = f1_score(y, pred_class)\n",
    "    \n",
    "    df = pd.DataFrame({\n",
    "        \"Accuracy\": acc,\n",
    "        \"Precision\": precision,\n",
    "        \"Recall\": recall,\n",
    "        \"F1\": f1\n",
    "    }, index =[0])\n",
    "    \n",
    "    conf = confusion_matrix(y, pred_class, labels=[0,1]) # confusion matrix\n",
    "    disp = ConfusionMatrixDisplay(conf, display_labels=[0,1])\n",
    "    disp.plot()\n",
    "    plt.show()\n",
    "    \n",
    "    return df"
   ]
  },
  {
   "cell_type": "markdown",
   "id": "11053b0c",
   "metadata": {},
   "source": [
    "##### Normilization"
   ]
  },
  {
   "cell_type": "code",
   "execution_count": 243,
   "id": "97fde877",
   "metadata": {},
   "outputs": [],
   "source": [
    "# creating an instance of the Normalization\n",
    "scaler = MinMaxScaler()"
   ]
  },
  {
   "cell_type": "code",
   "execution_count": 244,
   "id": "0b6b1b51",
   "metadata": {},
   "outputs": [],
   "source": [
    "# scaling the data\n",
    "X_train_val_sc = scaler.fit_transform(X_train_val)\n",
    "X_test_sc = scaler.transform(X_test)"
   ]
  },
  {
   "cell_type": "markdown",
   "id": "3a62574f",
   "metadata": {},
   "source": [
    "##### Building the model"
   ]
  },
  {
   "cell_type": "code",
   "execution_count": 245,
   "id": "a5307e32",
   "metadata": {},
   "outputs": [],
   "source": [
    "log_reg = LogisticRegression(random_state=0)"
   ]
  },
  {
   "cell_type": "code",
   "execution_count": 246,
   "id": "5152618b",
   "metadata": {},
   "outputs": [
    {
     "name": "stdout",
     "output_type": "stream",
     "text": [
      "Trained Accuracy: 0.8080544149973041\n"
     ]
    }
   ],
   "source": [
    "# check train accuracy\n",
    "log_reg_model = train(log_reg,X_train_val_sc, y_train_val ) # model with training sample"
   ]
  },
  {
   "cell_type": "markdown",
   "id": "95ae3715",
   "metadata": {},
   "source": [
    "- From the above the trai data has an accuracy of 81%"
   ]
  },
  {
   "cell_type": "code",
   "execution_count": 247,
   "id": "6d8d2081",
   "metadata": {},
   "outputs": [
    {
     "data": {
      "image/png": "[encoded data removed]",
      "text/plain": [
       "<Figure size 432x288 with 2 Axes>"
      ]
     },
     "metadata": {
      "needs_background": "light"
     },
     "output_type": "display_data"
    },
    {
     "data": {
      "text/html": [
       "<div>\n",
       "<style scoped>\n",
       "    .dataframe tbody tr th:only-of-type {\n",
       "        vertical-align: middle;\n",
       "    }\n",
       "\n",
       "    .dataframe tbody tr th {\n",
       "        vertical-align: top;\n",
       "    }\n",
       "\n",
       "    .dataframe thead th {\n",
       "        text-align: right;\n",
       "    }\n",
       "</style>\n",
       "<table border=\"1\" class=\"dataframe\">\n",
       "  <thead>\n",
       "    <tr style=\"text-align: right;\">\n",
       "      <th></th>\n",
       "      <th>Accuracy</th>\n",
       "      <th>Precision</th>\n",
       "      <th>Recall</th>\n",
       "      <th>F1</th>\n",
       "    </tr>\n",
       "  </thead>\n",
       "  <tbody>\n",
       "    <tr>\n",
       "      <th>0</th>\n",
       "      <td>0.810053</td>\n",
       "      <td>0.827333</td>\n",
       "      <td>0.944113</td>\n",
       "      <td>0.881874</td>\n",
       "    </tr>\n",
       "  </tbody>\n",
       "</table>\n",
       "</div>"
      ],
      "text/plain": [
       "   Accuracy  Precision    Recall        F1\n",
       "0  0.810053   0.827333  0.944113  0.881874"
      ]
     },
     "execution_count": 247,
     "metadata": {},
     "output_type": "execute_result"
    }
   ],
   "source": [
    "eva_log =evaluate(log_reg_model, X_test_sc, y_test) # evaluation of the model\n",
    "eva_log"
   ]
  },
  {
   "cell_type": "markdown",
   "id": "279858fc",
   "metadata": {},
   "source": [
    "#### From the confusion matrix\n",
    "\n",
    "- Out of 4527 working class people, the model incorrectly predicted that 253 earns > 50k and correctly predicted 4274 earns <= 50k\n",
    "\n",
    "- There are 1501 who earn > 50k and the model is predicting that 894 of them earns <=50k salary\n",
    "\n",
    "- Precision: Out of the number of people the model predicted to earn <=50k the model predicted 83% correctly\n",
    "\n",
    "- Recall: Out of all the people in the data that earns <=50k the model predicted only 94% correctly\n",
    "\n",
    "The aim is to build a model that can predict the number of people that earns less than 50k for the organization\n"
   ]
  },
  {
   "cell_type": "markdown",
   "id": "933a350b",
   "metadata": {},
   "source": [
    "#### Model Improvement\n",
    "- Metrics\n",
    "- Here we are considering a situation where the TP rates are far from the FP rates"
   ]
  },
  {
   "cell_type": "code",
   "execution_count": 248,
   "id": "58638e63",
   "metadata": {},
   "outputs": [],
   "source": [
    "# define a function for ROC and AUC curves to get the best threshold\n",
    "def droc_curve(model, X, y):\n",
    "    \"\"\"\n",
    "    Function to create ROC Curve\n",
    "    \n",
    "    model: trained model\n",
    "    X: test or validaton features\n",
    "    y: target in the test data\n",
    "    \"\"\"\n",
    "    preds = log_reg.predict_proba(X_test_sc)[:,1]\n",
    "    auc = roc_auc_score(y_test, preds)\n",
    "    fpr, tpr, thre = roc_curve(y_test,preds)\n",
    "\n",
    "    plt.figure(figsize=(7,5))\n",
    "    plt.plot(fpr,tpr,label = f'Logistic regression {auc:.2f}')\n",
    "\n",
    "    plt.plot([0,1],[0,1], 'r--')\n",
    "    plt.xlim([0.0,1.0])\n",
    "    plt.ylim(0.0,1.05)\n",
    "    plt.xlabel(\"False Positive Rate\")\n",
    "    plt.ylabel (\"True Positive Rate\")\n",
    "    plt.title(\"ROC Curve\")\n",
    "    plt.legend(loc = 'lower right')\n",
    "    plt.show()\n",
    "    \n",
    "    return thre, tpr, fpr # threshold\n",
    "# using the threshold to tweak the model"
   ]
  },
  {
   "cell_type": "code",
   "execution_count": 249,
   "id": "e9668a5d",
   "metadata": {},
   "outputs": [
    {
     "data": {
      "image/png": "[encoded data removed]",
      "text/plain": [
       "<Figure size 504x360 with 1 Axes>"
      ]
     },
     "metadata": {
      "needs_background": "light"
     },
     "output_type": "display_data"
    }
   ],
   "source": [
    "thre, tpr, fpr= droc_curve(log_reg_model, X_test_sc, y_test)"
   ]
  },
  {
   "cell_type": "code",
   "execution_count": 250,
   "id": "029a8854",
   "metadata": {},
   "outputs": [
    {
     "name": "stdout",
     "output_type": "stream",
     "text": [
      " The threshold is at 1182\n"
     ]
    }
   ],
   "source": [
    "optimal_idx = np.argmax(tpr-fpr) # we need the position of the maximum different we use argmax\n",
    "\n",
    "print (f' The threshold is at {optimal_idx}')"
   ]
  },
  {
   "cell_type": "code",
   "execution_count": 251,
   "id": "eb2d288d",
   "metadata": {},
   "outputs": [
    {
     "data": {
      "text/plain": [
       "0.7109050572416389"
      ]
     },
     "execution_count": 251,
     "metadata": {},
     "output_type": "execute_result"
    }
   ],
   "source": [
    "optimal_thre = thre[optimal_idx]\n",
    "optimal_thre"
   ]
  },
  {
   "cell_type": "code",
   "execution_count": 252,
   "id": "44e595f5",
   "metadata": {},
   "outputs": [
    {
     "data": {
      "image/png": "[encoded data removed]",
      "text/plain": [
       "<Figure size 432x288 with 2 Axes>"
      ]
     },
     "metadata": {
      "needs_background": "light"
     },
     "output_type": "display_data"
    },
    {
     "data": {
      "text/html": [
       "<div>\n",
       "<style scoped>\n",
       "    .dataframe tbody tr th:only-of-type {\n",
       "        vertical-align: middle;\n",
       "    }\n",
       "\n",
       "    .dataframe tbody tr th {\n",
       "        vertical-align: top;\n",
       "    }\n",
       "\n",
       "    .dataframe thead th {\n",
       "        text-align: right;\n",
       "    }\n",
       "</style>\n",
       "<table border=\"1\" class=\"dataframe\">\n",
       "  <thead>\n",
       "    <tr style=\"text-align: right;\">\n",
       "      <th></th>\n",
       "      <th>Accuracy</th>\n",
       "      <th>Precision</th>\n",
       "      <th>Recall</th>\n",
       "      <th>F1</th>\n",
       "    </tr>\n",
       "  </thead>\n",
       "  <tbody>\n",
       "    <tr>\n",
       "      <th>0</th>\n",
       "      <td>0.777704</td>\n",
       "      <td>0.885182</td>\n",
       "      <td>0.808924</td>\n",
       "      <td>0.845337</td>\n",
       "    </tr>\n",
       "  </tbody>\n",
       "</table>\n",
       "</div>"
      ],
      "text/plain": [
       "   Accuracy  Precision    Recall        F1\n",
       "0  0.777704   0.885182  0.808924  0.845337"
      ]
     },
     "execution_count": 252,
     "metadata": {},
     "output_type": "execute_result"
    }
   ],
   "source": [
    "eva_log =evaluate(log_reg_model, X_test_sc, y_test, threshold= optimal_thre) # evaluation of the model\n",
    "eva_log"
   ]
  },
  {
   "cell_type": "markdown",
   "id": "5de6d0b9",
   "metadata": {},
   "source": [
    "#### From the confusion matrix\n",
    "\n",
    "- Out of 4527 working class people, the model incorrectly predicted that 865 earns > 50k and correctly predicted 3662 earns > 50k\n",
    "\n",
    "- There are 1501 who earn > 50k and the model is wrongly predicting that 475 of them earns <=50k salary\n",
    "\n",
    "- Precision: Out of the number of people the model predicted to earn <=50k only 89% earns >50k\n",
    "\n",
    "- Recall: Out of all the people in the data that earns <=50k the model predicted 81% correctly"
   ]
  },
  {
   "cell_type": "markdown",
   "id": "12361042",
   "metadata": {},
   "source": [
    "#### Model Improvement\n",
    "- Model Hyperparameters\n",
    "\n",
    "- Here we rebuild the model when we get the optimal accuracy"
   ]
  },
  {
   "cell_type": "code",
   "execution_count": 253,
   "id": "16776723",
   "metadata": {},
   "outputs": [],
   "source": [
    "c_values = np.random.rand(5,2).flatten()# the default value of c is 1, \n",
    "\n",
    "accs = []\n",
    "for c in c_values:\n",
    "    model = LogisticRegression(C=c)\n",
    "    model.fit(X_train_val_sc, y_train_val)\n",
    "    acc = model.score(X_test_sc, y_test)\n",
    "    accs.append(acc)"
   ]
  },
  {
   "cell_type": "code",
   "execution_count": 254,
   "id": "c9303521",
   "metadata": {},
   "outputs": [],
   "source": [
    "# accs"
   ]
  },
  {
   "cell_type": "code",
   "execution_count": 255,
   "id": "6852818b",
   "metadata": {},
   "outputs": [
    {
     "name": "stdout",
     "output_type": "stream",
     "text": [
      " The optimal value of C = 0.8397843482099013\n"
     ]
    }
   ],
   "source": [
    "optimal_idx = np.argmax(accs)\n",
    "\n",
    "optimal_c = c_values[optimal_idx]\n",
    "\n",
    "print(f' The optimal value of C = {optimal_c}')"
   ]
  },
  {
   "cell_type": "code",
   "execution_count": 256,
   "id": "fb2ffced",
   "metadata": {},
   "outputs": [
    {
     "name": "stdout",
     "output_type": "stream",
     "text": [
      "Trained Accuracy: 0.8072249180871801\n"
     ]
    },
    {
     "data": {
      "image/png": "[encoded data removed]",
      "text/plain": [
       "<Figure size 432x288 with 2 Axes>"
      ]
     },
     "metadata": {
      "needs_background": "light"
     },
     "output_type": "display_data"
    },
    {
     "data": {
      "text/html": [
       "<div>\n",
       "<style scoped>\n",
       "    .dataframe tbody tr th:only-of-type {\n",
       "        vertical-align: middle;\n",
       "    }\n",
       "\n",
       "    .dataframe tbody tr th {\n",
       "        vertical-align: top;\n",
       "    }\n",
       "\n",
       "    .dataframe thead th {\n",
       "        text-align: right;\n",
       "    }\n",
       "</style>\n",
       "<table border=\"1\" class=\"dataframe\">\n",
       "  <thead>\n",
       "    <tr style=\"text-align: right;\">\n",
       "      <th></th>\n",
       "      <th>Accuracy</th>\n",
       "      <th>Precision</th>\n",
       "      <th>Recall</th>\n",
       "      <th>F1</th>\n",
       "    </tr>\n",
       "  </thead>\n",
       "  <tbody>\n",
       "    <tr>\n",
       "      <th>0</th>\n",
       "      <td>0.809555</td>\n",
       "      <td>0.826979</td>\n",
       "      <td>0.943892</td>\n",
       "      <td>0.881576</td>\n",
       "    </tr>\n",
       "  </tbody>\n",
       "</table>\n",
       "</div>"
      ],
      "text/plain": [
       "   Accuracy  Precision    Recall        F1\n",
       "0  0.809555   0.826979  0.943892  0.881576"
      ]
     },
     "execution_count": 256,
     "metadata": {},
     "output_type": "execute_result"
    }
   ],
   "source": [
    "log_reg_c = LogisticRegression(random_state=0, C = optimal_c)\n",
    "\n",
    "# calling the training function and evaluate function\n",
    "\n",
    "log_reg_c_model = train(log_reg_c, X_train_val_sc, y_train_val) \n",
    "\n",
    "df_c = evaluate(log_reg_c_model, X_test_sc, y_test)\n",
    "df_c"
   ]
  },
  {
   "cell_type": "markdown",
   "id": "42163100",
   "metadata": {},
   "source": [
    "#### From the confusion matrix\n",
    "\n",
    "- Out of 4,527 working class people, the model incorrectly predicted that 254 earns > 50k and correctly predicted 4273 earns <= 50k\n",
    "\n",
    "- There are 1,501 who earn > 50k and the model is wrongly predicting that 894 of them earns <=50k salary\n",
    "\n",
    "- Precision: Out of the number of people the model predicted to earn >50k only 83% earns <=50k\n",
    "\n",
    "- Recall: Out of all the people in the data that earns <=50k the model predicted 94% correctly"
   ]
  },
  {
   "cell_type": "markdown",
   "id": "df6eecf3",
   "metadata": {},
   "source": [
    "#### Model Improvement\n",
    "- From Data aspect\n",
    "\n",
    "- Here we rebuild the model when we get the optimal accuracy"
   ]
  },
  {
   "cell_type": "code",
   "execution_count": 257,
   "id": "06c3a62d",
   "metadata": {},
   "outputs": [],
   "source": [
    "# balancing the original data before splitting, \n",
    "# only balance the training data to see if it will differentiate from new data\n",
    "# define a function to balance the data\n",
    "\n",
    "def balance_data(X,y, smote_type):\n",
    "    \"\"\"\n",
    "    X: Train features\n",
    "    y: Train target\n",
    "    smote_type: Kind of imbalance strategy\n",
    "    \"\"\"\n",
    "    \n",
    "    X_res, y_res = smote_type.fit_resample(X,y) # generating artificial data\n",
    "    return X_res, y_res"
   ]
  },
  {
   "cell_type": "code",
   "execution_count": 258,
   "id": "1e77176c",
   "metadata": {},
   "outputs": [],
   "source": [
    "# creating an instance of all the imblearn methods\n",
    "\n",
    "under = RandomUnderSampler(random_state=0)\n",
    "over = RandomOverSampler(random_state=0)\n",
    "smote = SMOTE(random_state=0)\n",
    "adasyn = ADASYN(random_state=0)"
   ]
  },
  {
   "cell_type": "code",
   "execution_count": 259,
   "id": "db09facf",
   "metadata": {},
   "outputs": [],
   "source": [
    "X_train_un,y_train_un = balance_data(X_train_val_sc, y_train_val, under)\n",
    "X_train_ov,y_train_ov = balance_data(X_train_val_sc, y_train_val, over)\n",
    "X_train_sm,y_train_sm = balance_data(X_train_val_sc, y_train_val, smote)\n",
    "X_train_ad,y_train_ad = balance_data(X_train_val_sc, y_train_val, adasyn)\n"
   ]
  },
  {
   "cell_type": "code",
   "execution_count": 260,
   "id": "11078a17",
   "metadata": {},
   "outputs": [
    {
     "data": {
      "text/plain": [
       "Counter({0: 6005, 1: 6005})"
      ]
     },
     "execution_count": 260,
     "metadata": {},
     "output_type": "execute_result"
    }
   ],
   "source": [
    "# to count the data target\n",
    "\n",
    "from collections import Counter\n",
    "\n",
    "Counter(y_train_un) # now the classes are the same"
   ]
  },
  {
   "cell_type": "markdown",
   "id": "4563ee39",
   "metadata": {},
   "source": [
    "##### Under Sampling"
   ]
  },
  {
   "cell_type": "code",
   "execution_count": 261,
   "id": "c1982945",
   "metadata": {},
   "outputs": [
    {
     "name": "stdout",
     "output_type": "stream",
     "text": [
      "Trained Accuracy: 0.7457951706910908\n"
     ]
    },
    {
     "data": {
      "image/png": "[encoded data removed]",
      "text/plain": [
       "<Figure size 432x288 with 2 Axes>"
      ]
     },
     "metadata": {
      "needs_background": "light"
     },
     "output_type": "display_data"
    },
    {
     "data": {
      "text/html": [
       "<div>\n",
       "<style scoped>\n",
       "    .dataframe tbody tr th:only-of-type {\n",
       "        vertical-align: middle;\n",
       "    }\n",
       "\n",
       "    .dataframe tbody tr th {\n",
       "        vertical-align: top;\n",
       "    }\n",
       "\n",
       "    .dataframe thead th {\n",
       "        text-align: right;\n",
       "    }\n",
       "</style>\n",
       "<table border=\"1\" class=\"dataframe\">\n",
       "  <thead>\n",
       "    <tr style=\"text-align: right;\">\n",
       "      <th></th>\n",
       "      <th>Accuracy</th>\n",
       "      <th>Precision</th>\n",
       "      <th>Recall</th>\n",
       "      <th>F1</th>\n",
       "    </tr>\n",
       "  </thead>\n",
       "  <tbody>\n",
       "    <tr>\n",
       "      <th>0</th>\n",
       "      <td>0.743198</td>\n",
       "      <td>0.89249</td>\n",
       "      <td>0.748178</td>\n",
       "      <td>0.813987</td>\n",
       "    </tr>\n",
       "  </tbody>\n",
       "</table>\n",
       "</div>"
      ],
      "text/plain": [
       "   Accuracy  Precision    Recall        F1\n",
       "0  0.743198    0.89249  0.748178  0.813987"
      ]
     },
     "execution_count": 261,
     "metadata": {},
     "output_type": "execute_result"
    }
   ],
   "source": [
    "log_reg_un = train(log_reg,X_train_un,y_train_un)# using the default paramenter\n",
    "\n",
    "df_un = evaluate(log_reg_un, X_test_sc,y_test) # we maintain the imbalance on the test data\n",
    "\n",
    "df_un\n"
   ]
  },
  {
   "cell_type": "markdown",
   "id": "dfc669b6",
   "metadata": {},
   "source": [
    "#### From the confusion matrix\n",
    "\n",
    "- Out of 4,527 working class people, the model incorrectly predicted that 1140 earns > 50k and correctly predicted 3387 earns <= 50k\n",
    "\n",
    "- There are 1,501 who earn > 50k and the model is wrongly predicting that 408 of them earns <=50k salary\n",
    "\n",
    "- Precision: Out of the number of people the model predicted to earn >50k only 89% earns <=50k\n",
    "\n",
    "- Recall: Out of all the people in the data that earns <=50k the model predicted 75% correctly"
   ]
  },
  {
   "cell_type": "markdown",
   "id": "7b81f390",
   "metadata": {},
   "source": [
    "##### Over Sampling"
   ]
  },
  {
   "cell_type": "code",
   "execution_count": 262,
   "id": "36f46aca",
   "metadata": {},
   "outputs": [
    {
     "data": {
      "text/plain": [
       "Counter({0: 18106, 1: 18106})"
      ]
     },
     "execution_count": 262,
     "metadata": {},
     "output_type": "execute_result"
    }
   ],
   "source": [
    "Counter(y_train_ov)"
   ]
  },
  {
   "cell_type": "code",
   "execution_count": 263,
   "id": "ff4e7565",
   "metadata": {},
   "outputs": [
    {
     "name": "stdout",
     "output_type": "stream",
     "text": [
      "Trained Accuracy: 0.7455263448580581\n"
     ]
    },
    {
     "data": {
      "image/png": "[encoded data removed]",
      "text/plain": [
       "<Figure size 432x288 with 2 Axes>"
      ]
     },
     "metadata": {
      "needs_background": "light"
     },
     "output_type": "display_data"
    },
    {
     "data": {
      "text/html": [
       "<div>\n",
       "<style scoped>\n",
       "    .dataframe tbody tr th:only-of-type {\n",
       "        vertical-align: middle;\n",
       "    }\n",
       "\n",
       "    .dataframe tbody tr th {\n",
       "        vertical-align: top;\n",
       "    }\n",
       "\n",
       "    .dataframe thead th {\n",
       "        text-align: right;\n",
       "    }\n",
       "</style>\n",
       "<table border=\"1\" class=\"dataframe\">\n",
       "  <thead>\n",
       "    <tr style=\"text-align: right;\">\n",
       "      <th></th>\n",
       "      <th>Accuracy</th>\n",
       "      <th>Precision</th>\n",
       "      <th>Recall</th>\n",
       "      <th>F1</th>\n",
       "    </tr>\n",
       "  </thead>\n",
       "  <tbody>\n",
       "    <tr>\n",
       "      <th>0</th>\n",
       "      <td>0.748341</td>\n",
       "      <td>0.894185</td>\n",
       "      <td>0.754142</td>\n",
       "      <td>0.818214</td>\n",
       "    </tr>\n",
       "  </tbody>\n",
       "</table>\n",
       "</div>"
      ],
      "text/plain": [
       "   Accuracy  Precision    Recall        F1\n",
       "0  0.748341   0.894185  0.754142  0.818214"
      ]
     },
     "execution_count": 263,
     "metadata": {},
     "output_type": "execute_result"
    }
   ],
   "source": [
    "log_reg_ov = train(log_reg,X_train_ov,y_train_ov)# using the default paramenter\n",
    "\n",
    "df_ov = evaluate(log_reg_ov, X_test_sc,y_test)\n",
    "\n",
    "df_ov"
   ]
  },
  {
   "cell_type": "markdown",
   "id": "fd84afec",
   "metadata": {},
   "source": [
    "#### From the confusion matrix\n",
    "\n",
    "- Out of 4,527 working class people, the model incorrectly predicted that 1113 earns > 50k and correctly predicted 3414 earns <= 50k\n",
    "\n",
    "- There are 1,501 who earn > 50k and the model is wrongly predicting that 404 of them earns <=50k salary\n",
    "\n",
    "- Precision: Out of the number of people the model predicted to earn >50k only 89% earns <=50k\n",
    "\n",
    "- Recall: Out of all the people in the data that earns <=50k the model predicted 75% correctly"
   ]
  },
  {
   "cell_type": "markdown",
   "id": "821b2f90",
   "metadata": {},
   "source": [
    "##### SMOTE"
   ]
  },
  {
   "cell_type": "code",
   "execution_count": 264,
   "id": "c08a70bf",
   "metadata": {},
   "outputs": [
    {
     "data": {
      "text/plain": [
       "Counter({0: 18106, 1: 18106})"
      ]
     },
     "execution_count": 264,
     "metadata": {},
     "output_type": "execute_result"
    }
   ],
   "source": [
    "Counter(y_train_sm)"
   ]
  },
  {
   "cell_type": "code",
   "execution_count": 265,
   "id": "d16047b1",
   "metadata": {},
   "outputs": [
    {
     "name": "stdout",
     "output_type": "stream",
     "text": [
      "Trained Accuracy: 0.744863581133326\n"
     ]
    },
    {
     "data": {
      "image/png": "[encoded data removed]",
      "text/plain": [
       "<Figure size 432x288 with 2 Axes>"
      ]
     },
     "metadata": {
      "needs_background": "light"
     },
     "output_type": "display_data"
    },
    {
     "data": {
      "text/html": [
       "<div>\n",
       "<style scoped>\n",
       "    .dataframe tbody tr th:only-of-type {\n",
       "        vertical-align: middle;\n",
       "    }\n",
       "\n",
       "    .dataframe tbody tr th {\n",
       "        vertical-align: top;\n",
       "    }\n",
       "\n",
       "    .dataframe thead th {\n",
       "        text-align: right;\n",
       "    }\n",
       "</style>\n",
       "<table border=\"1\" class=\"dataframe\">\n",
       "  <thead>\n",
       "    <tr style=\"text-align: right;\">\n",
       "      <th></th>\n",
       "      <th>Accuracy</th>\n",
       "      <th>Precision</th>\n",
       "      <th>Recall</th>\n",
       "      <th>F1</th>\n",
       "    </tr>\n",
       "  </thead>\n",
       "  <tbody>\n",
       "    <tr>\n",
       "      <th>0</th>\n",
       "      <td>0.74635</td>\n",
       "      <td>0.894266</td>\n",
       "      <td>0.751049</td>\n",
       "      <td>0.816425</td>\n",
       "    </tr>\n",
       "  </tbody>\n",
       "</table>\n",
       "</div>"
      ],
      "text/plain": [
       "   Accuracy  Precision    Recall        F1\n",
       "0   0.74635   0.894266  0.751049  0.816425"
      ]
     },
     "execution_count": 265,
     "metadata": {},
     "output_type": "execute_result"
    }
   ],
   "source": [
    "log_reg_sm = train(log_reg,X_train_sm,y_train_sm)# using the default paramenter\n",
    "\n",
    "df_sm = evaluate(log_reg_sm, X_test_sc,y_test)\n",
    "\n",
    "df_sm"
   ]
  },
  {
   "cell_type": "markdown",
   "id": "3f28ab2a",
   "metadata": {},
   "source": [
    "#### From the confusion matrix\n",
    "\n",
    "- Out of 4,527 working class people, the model incorrectly predicted that 1127 earns > 50k and correctly predicted 3400 earns <= 50k\n",
    "\n",
    "- There are 1,501 who earn > 50k and the model is wrongly predicting that 402 of them earns <=50k salary\n",
    "\n",
    "- Precision: Out of the number of people the model predicted to earn >50k only 89% earns <=50k\n",
    "\n",
    "- Recall: Out of all the people in the data that earns <=50k the model predicted 75% correctly"
   ]
  },
  {
   "cell_type": "markdown",
   "id": "367acb45",
   "metadata": {},
   "source": [
    "##### ADASYN"
   ]
  },
  {
   "cell_type": "code",
   "execution_count": 266,
   "id": "458cff9c",
   "metadata": {},
   "outputs": [
    {
     "data": {
      "text/plain": [
       "Counter({0: 18527, 1: 18106})"
      ]
     },
     "execution_count": 266,
     "metadata": {},
     "output_type": "execute_result"
    }
   ],
   "source": [
    "Counter(y_train_ad)"
   ]
  },
  {
   "cell_type": "code",
   "execution_count": 267,
   "id": "9888eae7",
   "metadata": {},
   "outputs": [
    {
     "name": "stdout",
     "output_type": "stream",
     "text": [
      "Trained Accuracy: 0.7079409275789589\n"
     ]
    },
    {
     "data": {
      "image/png": "[encoded data removed]",
      "text/plain": [
       "<Figure size 432x288 with 2 Axes>"
      ]
     },
     "metadata": {
      "needs_background": "light"
     },
     "output_type": "display_data"
    },
    {
     "data": {
      "text/html": [
       "<div>\n",
       "<style scoped>\n",
       "    .dataframe tbody tr th:only-of-type {\n",
       "        vertical-align: middle;\n",
       "    }\n",
       "\n",
       "    .dataframe tbody tr th {\n",
       "        vertical-align: top;\n",
       "    }\n",
       "\n",
       "    .dataframe thead th {\n",
       "        text-align: right;\n",
       "    }\n",
       "</style>\n",
       "<table border=\"1\" class=\"dataframe\">\n",
       "  <thead>\n",
       "    <tr style=\"text-align: right;\">\n",
       "      <th></th>\n",
       "      <th>Accuracy</th>\n",
       "      <th>Precision</th>\n",
       "      <th>Recall</th>\n",
       "      <th>F1</th>\n",
       "    </tr>\n",
       "  </thead>\n",
       "  <tbody>\n",
       "    <tr>\n",
       "      <th>0</th>\n",
       "      <td>0.71931</td>\n",
       "      <td>0.905116</td>\n",
       "      <td>0.69958</td>\n",
       "      <td>0.789185</td>\n",
       "    </tr>\n",
       "  </tbody>\n",
       "</table>\n",
       "</div>"
      ],
      "text/plain": [
       "   Accuracy  Precision   Recall        F1\n",
       "0   0.71931   0.905116  0.69958  0.789185"
      ]
     },
     "execution_count": 267,
     "metadata": {},
     "output_type": "execute_result"
    }
   ],
   "source": [
    "log_reg_ad = train(log_reg,X_train_ad,y_train_ad)# using the default paramenter\n",
    "\n",
    "df_ad = evaluate(log_reg_ad, X_test_sc,y_test)\n",
    "\n",
    "df_ad"
   ]
  },
  {
   "cell_type": "markdown",
   "id": "da6b996e",
   "metadata": {},
   "source": [
    "#### From the confusion matrix\n",
    "\n",
    "- Out of 4,527 working class people, the model incorrectly predicted that 1360 earns > 50k and correctly predicted 3167 earns <= 50k\n",
    "\n",
    "- There are 1,501 who earn > 50k and the model is wrongly predicting that 332 of them earns <=50k salary\n",
    "\n",
    "- Precision: Out of the number of people the model predicted to earn >50k only 90% earns <=50k\n",
    "\n",
    "- Recall: Out of all the people in the data that earns <=50k the model predicted 70% correctly"
   ]
  },
  {
   "cell_type": "markdown",
   "id": "df638789",
   "metadata": {},
   "source": [
    "##### CONCLUSION\n",
    "\n",
    "From the models presented, it can be observed that the model improves at the first model with 94% Recall value and 88 F1% score and the model hyperparater section with the same percentage score and slightly different values for the TPs and FNs\n",
    "\n",
    "- From the other models presented, the mistakes the model is making are more than the two listed above.\n",
    "- Some rows were dropped because of the representations of \"?\", this is because I don't want to assume values and to get results based on the remaining complete data presented"
   ]
  },
  {
   "cell_type": "markdown",
   "id": "61169ee2",
   "metadata": {},
   "source": [
    "##### RECOMMENDATION\n",
    "\n",
    "The aim of this analysis is to successfully classify the salary classes for this organization, this is a Non-governmental organization and it's impact are meant to be felt on the appropriate class. It will be more expensive in using models with more wrong classification. I recommend that:\n",
    "- For cost reduction and good classification the first model with 94% Recall value and 88% F1 score should be adopted. This was able to predict 4274 people that earns less than 50k out of 4507. It has the highest success rate and can be used to address the problem of classification faced by the NGO."
   ]
  }
 ],
 "metadata": {
  "kernelspec": {
   "display_name": "Python 3 (ipykernel)",
   "language": "python",
   "name": "python3"
  },
  "language_info": {
   "codemirror_mode": {
    "name": "ipython",
    "version": 3
   },
   "file_extension": ".py",
   "mimetype": "text/x-python",
   "name": "python",
   "nbconvert_exporter": "python",
   "pygments_lexer": "ipython3",
   "version": "3.9.7"
  }
 },
 "nbformat": 4,
 "nbformat_minor": 5
}
