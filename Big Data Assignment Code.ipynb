{
 "cells": [
  {
   "cell_type": "markdown",
   "id": "f910451c",
   "metadata": {},
   "source": [
    "##### Context \n",
    "\n",
    "The health of women throughout pregnancy, childbirth, and the postpartum period is referred to as maternal health. Despite significant advancement over the past 20 years, 295 000 women died during or after pregnancy and childbirth in 2017. This number is unacceptably high. In addition to indirect factors including anaemia, and malaria, the most frequent direct causes of maternal injury and death are excessive blood loss, infection, and high blood pressure. Most maternal deaths are preventable with timely management by skilled professionals working together across different disciplines.\n",
    "\n",
    "\n",
    "We are tasked to the analyze maternal health data provided, and identifying evidence based actions with an aim to improve health outcomes.We will be building a linear regression model for predicting the systolic BP and performing association rule on diastolic to systolic bp."
   ]
  },
  {
   "cell_type": "markdown",
   "id": "9faec637",
   "metadata": {},
   "source": [
    "##### Import Librabries needed"
   ]
  },
  {
   "cell_type": "code",
   "execution_count": 122,
   "id": "4bf3d627",
   "metadata": {},
   "outputs": [],
   "source": [
    "# Libraries o help with reading and manipulating data\n",
    "import numpy as np\n",
    "import pandas as pd\n",
    "%matplotlib inline\n",
    "from warnings import filterwarnings\n",
    "filterwarnings('ignore')\n",
    "# libraries to help with data visulization\n",
    "import matplotlib.pyplot as plt\n",
    "import seaborn as sns\n",
    "\n",
    "sns.set()\n",
    "\n",
    "# Remove the limit for the number of displayed columns\n",
    "pd.set_option(\"display.max_columns\", None)\n",
    "# Sets the limit for the number of displayed rows\n",
    "pd.set_option(\"display.max_row\", 200)\n",
    "\n",
    "from sklearn.preprocessing import MinMaxScaler\n",
    "# split to train and test\n",
    "from sklearn.model_selection import train_test_split\n",
    "# model\n",
    "from sklearn.linear_model import LinearRegression, Lasso\n",
    "\n",
    "# to check model performance\n",
    "from sklearn.metrics import mean_absolute_error, mean_squared_error, r2_score\n",
    "from sklearn.decomposition import PCA\n",
    "\n",
    "from mlxtend.feature_selection import SequentialFeatureSelector\n",
    "from mlxtend.plotting import plot_sequential_feature_selection as plot_sfs\n",
    "\n",
    "\n",
    "from sklearn.cluster import KMeans\n",
    "\n",
    "%matplotlib inline\n",
    "from mpl_toolkits.mplot3d import Axes3D\n",
    "from imblearn.over_sampling import SMOTE\n"
   ]
  },
  {
   "cell_type": "markdown",
   "id": "2ffcbdb7",
   "metadata": {},
   "source": [
    "##### Define a function for training the model"
   ]
  },
  {
   "cell_type": "code",
   "execution_count": 2,
   "id": "8878c832",
   "metadata": {},
   "outputs": [],
   "source": [
    "# function to compute adjusted R-squared\n",
    "def adj_r2_score(predictors, targets, predictions):\n",
    "    r2 = r2_score(targets, predictions)\n",
    "    n = predictors.shape[0]\n",
    "    k = predictors.shape[1]\n",
    "    return 1 - ((1 - r2) * (n - 1) / (n - k - 1))\n",
    "\n",
    "# function to compute MAPE\n",
    "def mape_score(targets, predictions):\n",
    "    return np.mean(np.abs(targets - predictions) / targets) * 100\n",
    "\n",
    "\n",
    "# function to compute different metrics to check performance of a regression model\n",
    "def model_performance_regression(model, predictors, target):\n",
    "    \"\"\"\n",
    "    Function to compute different metrics to check regression model performance\n",
    "\n",
    "    model: regressor\n",
    "    predictors: independent variables\n",
    "    target: dependent variable\n",
    "    \"\"\"\n",
    "\n",
    "    # predicting using the independent variables\n",
    "    pred = model.predict(predictors)\n",
    "\n",
    "    r2 = r2_score(target, pred)  # to compute R-squared\n",
    "    adjr2 = adj_r2_score(predictors, target, pred)  # to compute adjusted R-squared\n",
    "    rmse = np.sqrt(mean_squared_error(target, pred))  # to compute RMSE\n",
    "    mae = mean_absolute_error(target, pred)  # to compute MAE\n",
    "    mape = mape_score(target, pred)  # to compute MAPE\n",
    "\n",
    "    # creating a dataframe of metrics\n",
    "    df_perf = pd.DataFrame(\n",
    "        {\n",
    "            \"RMSE\": rmse,\n",
    "            \"MAE\": mae,\n",
    "            \"R-squared\": r2,\n",
    "            \"Adj. R-squared\": adjr2,\n",
    "            \"MAPE\": mape\n",
    "        },\n",
    "        index=[0],\n",
    "    )\n",
    "\n",
    "    return df_perf"
   ]
  },
  {
   "cell_type": "markdown",
   "id": "284c2cfd",
   "metadata": {},
   "source": [
    "##### define function for treating outliers"
   ]
  },
  {
   "cell_type": "code",
   "execution_count": 3,
   "id": "6013ba02",
   "metadata": {},
   "outputs": [],
   "source": [
    "def treat_outliers(df, col):\n",
    "    \"\"\"\n",
    "    treats outliers in a variable\n",
    "    col:  str, name of the numerical variable\n",
    "    df: data frame\n",
    "    col: name of the column    \n",
    "    \"\"\"\n",
    "    \n",
    "    Q1 = df[col].quantile(0.25) #25th quantile\n",
    "    Q3 = df[col].quantile(0.75) # 75th quantile\n",
    "    IQR = Q3 - Q1\n",
    "    \n",
    "    Lower_Whisker = Q1 - 1.5 * IQR\n",
    "    Upper_Whisker = Q3 + 1.5 * IQR\n",
    "    \n",
    "    df[col] = np.clip(df[col], Lower_Whisker, Upper_Whisker)\n",
    "    # all the values smaller than Lower_whisker will be assigned value\n",
    "    \n",
    "    return df\n",
    "\n",
    "\n",
    "\n",
    "def treat_outliers_all(df, col_list):\n",
    "    \"\"\"\n",
    "    treat outlier in all numerical variables\n",
    "    col_list: list of numerical variables\n",
    "    df: data frame\n",
    "    \"\"\"\n",
    "    \n",
    "    for c in col_list:\n",
    "        df = treat_outliers(df,c)\n",
    "        \n",
    "    return df\n"
   ]
  },
  {
   "cell_type": "markdown",
   "id": "b94579cb",
   "metadata": {},
   "source": [
    "# The data set\n",
    "\n",
    "We are provided with data set that has the following informations\n",
    "- Age: showing the ages of the women under study\n",
    "- Systolic BP: is the maximum pressure in the arteries during the contraction of the heart muscle. \n",
    "- Diastolic BP: is the minimum pressure in the arteries during the relaxation of the heart muscle between beats.\n",
    "- BS: This is the measure of the blood sugar\n",
    "- BodyTemp: present the body temperature of the women under study\n",
    "- HeartRate: the heart rate the individuals\n",
    "- RiskLevel: The susceptibility of risk for every indices provided"
   ]
  },
  {
   "cell_type": "markdown",
   "id": "4c315af3",
   "metadata": {},
   "source": [
    "##### Load the Data"
   ]
  },
  {
   "cell_type": "code",
   "execution_count": 4,
   "id": "84feaabf",
   "metadata": {},
   "outputs": [
    {
     "data": {
      "text/html": [
       "<div>\n",
       "<style scoped>\n",
       "    .dataframe tbody tr th:only-of-type {\n",
       "        vertical-align: middle;\n",
       "    }\n",
       "\n",
       "    .dataframe tbody tr th {\n",
       "        vertical-align: top;\n",
       "    }\n",
       "\n",
       "    .dataframe thead th {\n",
       "        text-align: right;\n",
       "    }\n",
       "</style>\n",
       "<table border=\"1\" class=\"dataframe\">\n",
       "  <thead>\n",
       "    <tr style=\"text-align: right;\">\n",
       "      <th></th>\n",
       "      <th>Age</th>\n",
       "      <th>SystolicBP</th>\n",
       "      <th>DiastolicBP</th>\n",
       "      <th>BS</th>\n",
       "      <th>BodyTemp</th>\n",
       "      <th>HeartRate</th>\n",
       "      <th>RiskLevel</th>\n",
       "    </tr>\n",
       "  </thead>\n",
       "  <tbody>\n",
       "    <tr>\n",
       "      <th>0</th>\n",
       "      <td>25</td>\n",
       "      <td>130</td>\n",
       "      <td>80</td>\n",
       "      <td>15.0</td>\n",
       "      <td>98.0</td>\n",
       "      <td>86</td>\n",
       "      <td>high risk</td>\n",
       "    </tr>\n",
       "    <tr>\n",
       "      <th>1</th>\n",
       "      <td>35</td>\n",
       "      <td>140</td>\n",
       "      <td>90</td>\n",
       "      <td>13.0</td>\n",
       "      <td>98.0</td>\n",
       "      <td>70</td>\n",
       "      <td>high risk</td>\n",
       "    </tr>\n",
       "    <tr>\n",
       "      <th>2</th>\n",
       "      <td>29</td>\n",
       "      <td>90</td>\n",
       "      <td>70</td>\n",
       "      <td>8.0</td>\n",
       "      <td>100.0</td>\n",
       "      <td>80</td>\n",
       "      <td>high risk</td>\n",
       "    </tr>\n",
       "    <tr>\n",
       "      <th>3</th>\n",
       "      <td>30</td>\n",
       "      <td>140</td>\n",
       "      <td>85</td>\n",
       "      <td>7.0</td>\n",
       "      <td>98.0</td>\n",
       "      <td>70</td>\n",
       "      <td>high risk</td>\n",
       "    </tr>\n",
       "    <tr>\n",
       "      <th>4</th>\n",
       "      <td>35</td>\n",
       "      <td>120</td>\n",
       "      <td>60</td>\n",
       "      <td>6.1</td>\n",
       "      <td>98.0</td>\n",
       "      <td>76</td>\n",
       "      <td>low risk</td>\n",
       "    </tr>\n",
       "  </tbody>\n",
       "</table>\n",
       "</div>"
      ],
      "text/plain": [
       "   Age  SystolicBP  DiastolicBP    BS  BodyTemp  HeartRate  RiskLevel\n",
       "0   25         130           80  15.0      98.0         86  high risk\n",
       "1   35         140           90  13.0      98.0         70  high risk\n",
       "2   29          90           70   8.0     100.0         80  high risk\n",
       "3   30         140           85   7.0      98.0         70  high risk\n",
       "4   35         120           60   6.1      98.0         76   low risk"
      ]
     },
     "execution_count": 4,
     "metadata": {},
     "output_type": "execute_result"
    }
   ],
   "source": [
    "data = pd.read_excel('mhs.xls') # load the data\n",
    "data.head() # check the head"
   ]
  },
  {
   "cell_type": "code",
   "execution_count": 5,
   "id": "7100acb4",
   "metadata": {},
   "outputs": [
    {
     "data": {
      "text/plain": [
       "Age            0\n",
       "SystolicBP     0\n",
       "DiastolicBP    0\n",
       "BS             0\n",
       "BodyTemp       0\n",
       "HeartRate      0\n",
       "RiskLevel      0\n",
       "dtype: int64"
      ]
     },
     "execution_count": 5,
     "metadata": {},
     "output_type": "execute_result"
    }
   ],
   "source": [
    "# check for null values\n",
    "data.isnull().sum()"
   ]
  },
  {
   "cell_type": "markdown",
   "id": "822ae314",
   "metadata": {},
   "source": [
    "- From the above the data has no null values"
   ]
  },
  {
   "cell_type": "code",
   "execution_count": 6,
   "id": "703bf065",
   "metadata": {
    "scrolled": true
   },
   "outputs": [
    {
     "name": "stdout",
     "output_type": "stream",
     "text": [
      "<class 'pandas.core.frame.DataFrame'>\n",
      "RangeIndex: 1014 entries, 0 to 1013\n",
      "Data columns (total 7 columns):\n",
      " #   Column       Non-Null Count  Dtype  \n",
      "---  ------       --------------  -----  \n",
      " 0   Age          1014 non-null   int64  \n",
      " 1   SystolicBP   1014 non-null   int64  \n",
      " 2   DiastolicBP  1014 non-null   int64  \n",
      " 3   BS           1014 non-null   float64\n",
      " 4   BodyTemp     1014 non-null   float64\n",
      " 5   HeartRate    1014 non-null   int64  \n",
      " 6   RiskLevel    1014 non-null   object \n",
      "dtypes: float64(2), int64(4), object(1)\n",
      "memory usage: 55.6+ KB\n"
     ]
    }
   ],
   "source": [
    "data.info() # check the info to ascertain the data types"
   ]
  },
  {
   "cell_type": "code",
   "execution_count": 7,
   "id": "9f5e0e0c",
   "metadata": {},
   "outputs": [
    {
     "data": {
      "text/html": [
       "<div>\n",
       "<style scoped>\n",
       "    .dataframe tbody tr th:only-of-type {\n",
       "        vertical-align: middle;\n",
       "    }\n",
       "\n",
       "    .dataframe tbody tr th {\n",
       "        vertical-align: top;\n",
       "    }\n",
       "\n",
       "    .dataframe thead th {\n",
       "        text-align: right;\n",
       "    }\n",
       "</style>\n",
       "<table border=\"1\" class=\"dataframe\">\n",
       "  <thead>\n",
       "    <tr style=\"text-align: right;\">\n",
       "      <th></th>\n",
       "      <th>count</th>\n",
       "      <th>mean</th>\n",
       "      <th>std</th>\n",
       "      <th>min</th>\n",
       "      <th>25%</th>\n",
       "      <th>50%</th>\n",
       "      <th>75%</th>\n",
       "      <th>max</th>\n",
       "    </tr>\n",
       "  </thead>\n",
       "  <tbody>\n",
       "    <tr>\n",
       "      <th>Age</th>\n",
       "      <td>1014.0</td>\n",
       "      <td>29.871795</td>\n",
       "      <td>13.474386</td>\n",
       "      <td>10.0</td>\n",
       "      <td>19.0</td>\n",
       "      <td>26.0</td>\n",
       "      <td>39.0</td>\n",
       "      <td>70.0</td>\n",
       "    </tr>\n",
       "    <tr>\n",
       "      <th>SystolicBP</th>\n",
       "      <td>1014.0</td>\n",
       "      <td>113.198225</td>\n",
       "      <td>18.403913</td>\n",
       "      <td>70.0</td>\n",
       "      <td>100.0</td>\n",
       "      <td>120.0</td>\n",
       "      <td>120.0</td>\n",
       "      <td>160.0</td>\n",
       "    </tr>\n",
       "    <tr>\n",
       "      <th>DiastolicBP</th>\n",
       "      <td>1014.0</td>\n",
       "      <td>76.460552</td>\n",
       "      <td>13.885796</td>\n",
       "      <td>49.0</td>\n",
       "      <td>65.0</td>\n",
       "      <td>80.0</td>\n",
       "      <td>90.0</td>\n",
       "      <td>100.0</td>\n",
       "    </tr>\n",
       "    <tr>\n",
       "      <th>BS</th>\n",
       "      <td>1014.0</td>\n",
       "      <td>8.725986</td>\n",
       "      <td>3.293532</td>\n",
       "      <td>6.0</td>\n",
       "      <td>6.9</td>\n",
       "      <td>7.5</td>\n",
       "      <td>8.0</td>\n",
       "      <td>19.0</td>\n",
       "    </tr>\n",
       "    <tr>\n",
       "      <th>BodyTemp</th>\n",
       "      <td>1014.0</td>\n",
       "      <td>98.665089</td>\n",
       "      <td>1.371384</td>\n",
       "      <td>98.0</td>\n",
       "      <td>98.0</td>\n",
       "      <td>98.0</td>\n",
       "      <td>98.0</td>\n",
       "      <td>103.0</td>\n",
       "    </tr>\n",
       "    <tr>\n",
       "      <th>HeartRate</th>\n",
       "      <td>1014.0</td>\n",
       "      <td>74.301775</td>\n",
       "      <td>8.088702</td>\n",
       "      <td>7.0</td>\n",
       "      <td>70.0</td>\n",
       "      <td>76.0</td>\n",
       "      <td>80.0</td>\n",
       "      <td>90.0</td>\n",
       "    </tr>\n",
       "  </tbody>\n",
       "</table>\n",
       "</div>"
      ],
      "text/plain": [
       "              count        mean        std   min    25%    50%    75%    max\n",
       "Age          1014.0   29.871795  13.474386  10.0   19.0   26.0   39.0   70.0\n",
       "SystolicBP   1014.0  113.198225  18.403913  70.0  100.0  120.0  120.0  160.0\n",
       "DiastolicBP  1014.0   76.460552  13.885796  49.0   65.0   80.0   90.0  100.0\n",
       "BS           1014.0    8.725986   3.293532   6.0    6.9    7.5    8.0   19.0\n",
       "BodyTemp     1014.0   98.665089   1.371384  98.0   98.0   98.0   98.0  103.0\n",
       "HeartRate    1014.0   74.301775   8.088702   7.0   70.0   76.0   80.0   90.0"
      ]
     },
     "execution_count": 7,
     "metadata": {},
     "output_type": "execute_result"
    }
   ],
   "source": [
    "data.describe().T # see the statistic of the data"
   ]
  },
  {
   "cell_type": "markdown",
   "id": "ac85a9d6",
   "metadata": {},
   "source": [
    "##### Observations\n",
    "\n",
    "- The Age has a minimum age of 10 and maximum age of 70.\n",
    "- The median Age of the data provided is 26years, less than the mean showing that this is right skewed\n",
    "- The miniun Systolic BP is 70 and the maximum is 160\n",
    "- The median Systolic BP is 120, greater than the mean showing that this is left skewed\n",
    "- The minimum Diastolic BP is 49.0 and maximum of 100\n",
    "- The median Diastolic BP is 80.0 greater than the mean 76.5 showing that this is slightly left skewed\n",
    "- The Blood Sugar has a minimum of 6.0 and maximum of 19.0 and the median is 7.5.\n",
    "- The maximum Body Temperature is 103 and the minimum is 98\n",
    "- The maximum Heartrate is 90 and the minimum is 7.0. This value of 7 is questionable \n"
   ]
  },
  {
   "cell_type": "code",
   "execution_count": 8,
   "id": "48895c93",
   "metadata": {},
   "outputs": [
    {
     "data": {
      "text/plain": [
       "array([86, 70, 80, 76, 78, 77, 88, 90, 66, 82, 60, 75, 67, 65, 68,  7],\n",
       "      dtype=int64)"
      ]
     },
     "execution_count": 8,
     "metadata": {},
     "output_type": "execute_result"
    }
   ],
   "source": [
    "data['HeartRate'].unique() # check the unique heart rates"
   ]
  },
  {
   "cell_type": "markdown",
   "id": "cb1a3cb8",
   "metadata": {},
   "source": [
    "\n",
    "##### Note\n",
    "- low, normal and high are <110, 110-140, >=140 respectively for the Systolic BP\n",
    "- low, normal and high are <70, 70-90, >= 90 respectively for the Diastolic BP"
   ]
  },
  {
   "cell_type": "code",
   "execution_count": 9,
   "id": "59faf2cc",
   "metadata": {},
   "outputs": [
    {
     "data": {
      "text/plain": [
       "array(['high risk', 'low risk', 'mid risk'], dtype=object)"
      ]
     },
     "execution_count": 9,
     "metadata": {},
     "output_type": "execute_result"
    }
   ],
   "source": [
    "data['RiskLevel'].unique()"
   ]
  },
  {
   "cell_type": "code",
   "execution_count": 10,
   "id": "8cfae8fb",
   "metadata": {},
   "outputs": [],
   "source": [
    "# Replacing the values of the Risk Level to 0,1,2 to represent low risk, mid risk and high risk respectively\n",
    "# using a dictionary to collect the details to replace and the value to assign to them\n",
    "levels = {'high risk': 2,'low risk': 0,'mid risk': 1}\n",
    "data['RiskLevel'].replace(levels, inplace = True)"
   ]
  },
  {
   "cell_type": "code",
   "execution_count": 11,
   "id": "1768906e",
   "metadata": {
    "scrolled": true
   },
   "outputs": [
    {
     "data": {
      "text/html": [
       "<div>\n",
       "<style scoped>\n",
       "    .dataframe tbody tr th:only-of-type {\n",
       "        vertical-align: middle;\n",
       "    }\n",
       "\n",
       "    .dataframe tbody tr th {\n",
       "        vertical-align: top;\n",
       "    }\n",
       "\n",
       "    .dataframe thead th {\n",
       "        text-align: right;\n",
       "    }\n",
       "</style>\n",
       "<table border=\"1\" class=\"dataframe\">\n",
       "  <thead>\n",
       "    <tr style=\"text-align: right;\">\n",
       "      <th></th>\n",
       "      <th>Age</th>\n",
       "      <th>SystolicBP</th>\n",
       "      <th>DiastolicBP</th>\n",
       "      <th>BS</th>\n",
       "      <th>BodyTemp</th>\n",
       "      <th>HeartRate</th>\n",
       "      <th>RiskLevel</th>\n",
       "    </tr>\n",
       "  </thead>\n",
       "  <tbody>\n",
       "    <tr>\n",
       "      <th>0</th>\n",
       "      <td>25</td>\n",
       "      <td>130</td>\n",
       "      <td>80</td>\n",
       "      <td>15.0</td>\n",
       "      <td>98.0</td>\n",
       "      <td>86</td>\n",
       "      <td>2</td>\n",
       "    </tr>\n",
       "    <tr>\n",
       "      <th>1</th>\n",
       "      <td>35</td>\n",
       "      <td>140</td>\n",
       "      <td>90</td>\n",
       "      <td>13.0</td>\n",
       "      <td>98.0</td>\n",
       "      <td>70</td>\n",
       "      <td>2</td>\n",
       "    </tr>\n",
       "    <tr>\n",
       "      <th>2</th>\n",
       "      <td>29</td>\n",
       "      <td>90</td>\n",
       "      <td>70</td>\n",
       "      <td>8.0</td>\n",
       "      <td>100.0</td>\n",
       "      <td>80</td>\n",
       "      <td>2</td>\n",
       "    </tr>\n",
       "    <tr>\n",
       "      <th>3</th>\n",
       "      <td>30</td>\n",
       "      <td>140</td>\n",
       "      <td>85</td>\n",
       "      <td>7.0</td>\n",
       "      <td>98.0</td>\n",
       "      <td>70</td>\n",
       "      <td>2</td>\n",
       "    </tr>\n",
       "    <tr>\n",
       "      <th>4</th>\n",
       "      <td>35</td>\n",
       "      <td>120</td>\n",
       "      <td>60</td>\n",
       "      <td>6.1</td>\n",
       "      <td>98.0</td>\n",
       "      <td>76</td>\n",
       "      <td>0</td>\n",
       "    </tr>\n",
       "  </tbody>\n",
       "</table>\n",
       "</div>"
      ],
      "text/plain": [
       "   Age  SystolicBP  DiastolicBP    BS  BodyTemp  HeartRate  RiskLevel\n",
       "0   25         130           80  15.0      98.0         86          2\n",
       "1   35         140           90  13.0      98.0         70          2\n",
       "2   29          90           70   8.0     100.0         80          2\n",
       "3   30         140           85   7.0      98.0         70          2\n",
       "4   35         120           60   6.1      98.0         76          0"
      ]
     },
     "execution_count": 11,
     "metadata": {},
     "output_type": "execute_result"
    }
   ],
   "source": [
    "# check\n",
    "data.head()"
   ]
  },
  {
   "cell_type": "markdown",
   "id": "9771269a",
   "metadata": {},
   "source": [
    "### Visualizations"
   ]
  },
  {
   "cell_type": "code",
   "execution_count": 12,
   "id": "0dafb39e",
   "metadata": {
    "scrolled": false
   },
   "outputs": [
    {
     "data": {
      "text/plain": [
       "120    0.442801\n",
       "90     0.151874\n",
       "140    0.118343\n",
       "100    0.090730\n",
       "130    0.059172\n",
       "85     0.042406\n",
       "110    0.018738\n",
       "76     0.015779\n",
       "95     0.011834\n",
       "160    0.009862\n",
       "75     0.007890\n",
       "115    0.007890\n",
       "70     0.006903\n",
       "80     0.004931\n",
       "135    0.002959\n",
       "78     0.002959\n",
       "83     0.001972\n",
       "99     0.001972\n",
       "129    0.000986\n",
       "Name: SystolicBP, dtype: float64"
      ]
     },
     "execution_count": 12,
     "metadata": {},
     "output_type": "execute_result"
    },
    {
     "data": {
      "image/png": "[encoded data removed]",
      "text/plain": [
       "<Figure size 864x432 with 1 Axes>"
      ]
     },
     "metadata": {
      "needs_background": "light"
     },
     "output_type": "display_data"
    }
   ],
   "source": [
    "# check the counts of high low and normal rates in Systolic BP\n",
    "plt.figure(figsize=(12,6))\n",
    "sns.countplot(data = data, x = 'SystolicBP')\n",
    "plt.title('Count of the Systolic BP')\n",
    "data['SystolicBP'].value_counts(normalize=True)"
   ]
  },
  {
   "cell_type": "markdown",
   "id": "54f04972",
   "metadata": {},
   "source": [
    "From the Systolic BP diagram we observed that more women have normal BP rate"
   ]
  },
  {
   "cell_type": "code",
   "execution_count": 13,
   "id": "df658850",
   "metadata": {},
   "outputs": [
    {
     "data": {
      "text/plain": [
       "80     0.222880\n",
       "60     0.171598\n",
       "90     0.150888\n",
       "70     0.098619\n",
       "100    0.085799\n",
       "65     0.085799\n",
       "85     0.048323\n",
       "75     0.037475\n",
       "95     0.035503\n",
       "49     0.024655\n",
       "50     0.023669\n",
       "63     0.007890\n",
       "76     0.002959\n",
       "68     0.001972\n",
       "89     0.000986\n",
       "69     0.000986\n",
       "Name: DiastolicBP, dtype: float64"
      ]
     },
     "execution_count": 13,
     "metadata": {},
     "output_type": "execute_result"
    },
    {
     "data": {
      "image/png": "[encoded data removed]",
      "text/plain": [
       "<Figure size 864x432 with 1 Axes>"
      ]
     },
     "metadata": {
      "needs_background": "light"
     },
     "output_type": "display_data"
    }
   ],
   "source": [
    "# check the counts of high low and normal rates in Diastolic BP Rate\n",
    "plt.figure(figsize=(12,6))\n",
    "sns.countplot(data = data, x = 'DiastolicBP')\n",
    "plt.title('Count of the Diastolic BP Rate')\n",
    "data['DiastolicBP'].value_counts(normalize=True)"
   ]
  },
  {
   "cell_type": "markdown",
   "id": "237cf6ff",
   "metadata": {},
   "source": [
    "The distribution of Diastolic BP rate shows that the rate of normal BP is higher from the population"
   ]
  },
  {
   "cell_type": "code",
   "execution_count": 14,
   "id": "4b4b5124",
   "metadata": {},
   "outputs": [
    {
     "data": {
      "text/plain": [
       "Text(0.5, 1.0, 'Distribution of Blodd Sugar')"
      ]
     },
     "execution_count": 14,
     "metadata": {},
     "output_type": "execute_result"
    },
    {
     "data": {
      "image/png": "[encoded data removed]",
      "text/plain": [
       "<Figure size 864x432 with 1 Axes>"
      ]
     },
     "metadata": {
      "needs_background": "light"
     },
     "output_type": "display_data"
    }
   ],
   "source": [
    "# check the blood sugar\n",
    "plt.figure(figsize=(12,6))\n",
    "sns.countplot(data = data, x = 'BS')\n",
    "plt.title('Distribution of Blodd Sugar')"
   ]
  },
  {
   "cell_type": "code",
   "execution_count": 15,
   "id": "8ef9b846",
   "metadata": {},
   "outputs": [
    {
     "data": {
      "text/plain": [
       "Text(0.5, 1.0, 'Distribution of BodyTemp')"
      ]
     },
     "execution_count": 15,
     "metadata": {},
     "output_type": "execute_result"
    },
    {
     "data": {
      "image/png": "[encoded data removed]",
      "text/plain": [
       "<Figure size 864x432 with 1 Axes>"
      ]
     },
     "metadata": {
      "needs_background": "light"
     },
     "output_type": "display_data"
    }
   ],
   "source": [
    "# check the Body Temperature\n",
    "plt.figure(figsize=(12,6))\n",
    "sns.countplot(data = data, x = 'BodyTemp')\n",
    "plt.title('Distribution of BodyTemp')"
   ]
  },
  {
   "cell_type": "code",
   "execution_count": 16,
   "id": "841967d3",
   "metadata": {},
   "outputs": [
    {
     "data": {
      "text/plain": [
       "Text(0.5, 1.0, 'Distribution of RiskLevel')"
      ]
     },
     "execution_count": 16,
     "metadata": {},
     "output_type": "execute_result"
    },
    {
     "data": {
      "image/png": "[encoded data removed]",
      "text/plain": [
       "<Figure size 864x432 with 1 Axes>"
      ]
     },
     "metadata": {
      "needs_background": "light"
     },
     "output_type": "display_data"
    }
   ],
   "source": [
    "# check the Body Temperature\n",
    "plt.figure(figsize=(12,6))\n",
    "sns.countplot(data = data, x = 'RiskLevel')\n",
    "plt.title('Distribution of RiskLevel')"
   ]
  },
  {
   "cell_type": "code",
   "execution_count": 17,
   "id": "aa2842d6",
   "metadata": {},
   "outputs": [
    {
     "data": {
      "text/plain": [
       "Text(0.5, 1.0, 'Distribution of HeartRate')"
      ]
     },
     "execution_count": 17,
     "metadata": {},
     "output_type": "execute_result"
    },
    {
     "data": {
      "image/png": "[encoded data removed]",
      "text/plain": [
       "<Figure size 864x432 with 1 Axes>"
      ]
     },
     "metadata": {
      "needs_background": "light"
     },
     "output_type": "display_data"
    }
   ],
   "source": [
    "# check the Body Temperature\n",
    "plt.figure(figsize=(12,6))\n",
    "sns.countplot(data = data, x = 'HeartRate')\n",
    "plt.title('Distribution of HeartRate')"
   ]
  },
  {
   "cell_type": "code",
   "execution_count": 18,
   "id": "58048b27",
   "metadata": {},
   "outputs": [
    {
     "data": {
      "text/plain": [
       "Text(0.5, 1.0, 'SystolicBP and RiskLevel')"
      ]
     },
     "execution_count": 18,
     "metadata": {},
     "output_type": "execute_result"
    },
    {
     "data": {
      "image/png": "[encoded data removed]",
      "text/plain": [
       "<Figure size 864x432 with 1 Axes>"
      ]
     },
     "metadata": {
      "needs_background": "light"
     },
     "output_type": "display_data"
    }
   ],
   "source": [
    "# relationship between the systolic BP and risk level\n",
    "plt.figure(figsize =(12,6))\n",
    "sns.countplot(data = data, x = 'SystolicBP', hue = 'RiskLevel')\n",
    "plt.title('SystolicBP and RiskLevel')\n"
   ]
  },
  {
   "cell_type": "code",
   "execution_count": 19,
   "id": "0118e790",
   "metadata": {},
   "outputs": [
    {
     "data": {
      "text/plain": [
       "Text(0.5, 1.0, 'DiastolicBP and RiskLevel')"
      ]
     },
     "execution_count": 19,
     "metadata": {},
     "output_type": "execute_result"
    },
    {
     "data": {
      "image/png": "[encoded data removed]",
      "text/plain": [
       "<Figure size 864x432 with 1 Axes>"
      ]
     },
     "metadata": {
      "needs_background": "light"
     },
     "output_type": "display_data"
    }
   ],
   "source": [
    "# relationship between the Diastolic BP and risk level\n",
    "plt.figure(figsize =(12,6))\n",
    "sns.countplot(data = data, x = 'DiastolicBP', hue = 'RiskLevel')\n",
    "plt.title('DiastolicBP and RiskLevel')\n"
   ]
  },
  {
   "cell_type": "code",
   "execution_count": 20,
   "id": "4d76fc11",
   "metadata": {},
   "outputs": [
    {
     "data": {
      "text/plain": [
       "Text(0.5, 1.0, 'Heart Rate and RiskLevel')"
      ]
     },
     "execution_count": 20,
     "metadata": {},
     "output_type": "execute_result"
    },
    {
     "data": {
      "image/png": "[encoded data removed]",
      "text/plain": [
       "<Figure size 864x432 with 1 Axes>"
      ]
     },
     "metadata": {
      "needs_background": "light"
     },
     "output_type": "display_data"
    }
   ],
   "source": [
    "# relationship between the Heartrate and risk level\n",
    "plt.figure(figsize =(12,6))\n",
    "sns.countplot(data = data, x = 'HeartRate', hue = 'RiskLevel')\n",
    "plt.title('Heart Rate and RiskLevel')"
   ]
  },
  {
   "cell_type": "code",
   "execution_count": 21,
   "id": "1016cc91",
   "metadata": {},
   "outputs": [
    {
     "data": {
      "image/png": "[encoded data removed]",
      "text/plain": [
       "<Figure size 864x432 with 1 Axes>"
      ]
     },
     "metadata": {
      "needs_background": "light"
     },
     "output_type": "display_data"
    }
   ],
   "source": [
    "# Create a boxplot of SystolicBP\n",
    "plt.figure(figsize =(12,6))\n",
    "sns.boxplot(data=data, x=\"SystolicBP\")\n",
    "plt.title('Boxplot of the Systolic BP')\n",
    "plt.show()\n"
   ]
  },
  {
   "cell_type": "markdown",
   "id": "4fc53347",
   "metadata": {},
   "source": [
    "##### Observations\n",
    "\n",
    "From the target boxplot, we observe that 160 systolic BP is the outlier and the BP rate of our dataset is between 40 - 140 and the majority of the rate is between 100-120"
   ]
  },
  {
   "cell_type": "code",
   "execution_count": 22,
   "id": "8667cb19",
   "metadata": {},
   "outputs": [
    {
     "data": {
      "text/plain": [
       "Index(['Age', 'SystolicBP', 'DiastolicBP', 'BS', 'BodyTemp', 'HeartRate',\n",
       "       'RiskLevel'],\n",
       "      dtype='object')"
      ]
     },
     "execution_count": 22,
     "metadata": {},
     "output_type": "execute_result"
    }
   ],
   "source": [
    "# choosing the features\n",
    "data.columns"
   ]
  },
  {
   "cell_type": "code",
   "execution_count": 23,
   "id": "0700b88a",
   "metadata": {},
   "outputs": [],
   "source": [
    "# making copy of the data\n",
    "df = data[['Age','DiastolicBP','BS','BodyTemp','HeartRate','RiskLevel','SystolicBP']]"
   ]
  },
  {
   "cell_type": "code",
   "execution_count": 24,
   "id": "afb1ed6b",
   "metadata": {},
   "outputs": [
    {
     "data": {
      "image/png": "[encoded data removed]",
      "text/plain": [
       "<Figure size 1440x720 with 2 Axes>"
      ]
     },
     "metadata": {
      "needs_background": "light"
     },
     "output_type": "display_data"
    }
   ],
   "source": [
    "# plotting the heat diagram\n",
    "\n",
    "plt.figure(figsize=(20,10))\n",
    "\n",
    "corr =  df.corr()\n",
    "\n",
    "corr = df.corr(method='pearson')\n",
    "sns.heatmap(corr, annot=True,cmap='tab20c', vmin=-1, vmax=1)\n",
    "plt.show()"
   ]
  },
  {
   "cell_type": "markdown",
   "id": "fc3254a6",
   "metadata": {},
   "source": [
    "##### Observations\n",
    "\n",
    "From the heatmap\n",
    "\n",
    "- The Diastolic BP has high correlation with the Systolic BP\n",
    "- The body temperature and Heart rate have low correlation with the Systolic BP\n",
    "- The other independent variables are moderately correlated to the Systolic BP"
   ]
  },
  {
   "cell_type": "code",
   "execution_count": 25,
   "id": "43eec2f6",
   "metadata": {},
   "outputs": [
    {
     "data": {
      "image/png": "[encoded data removed]",
      "text/plain": [
       "<Figure size 1440x2160 with 7 Axes>"
      ]
     },
     "metadata": {
      "needs_background": "light"
     },
     "output_type": "display_data"
    }
   ],
   "source": [
    "# check for outliers in the dats\n",
    "plt.figure(figsize=(20, 30))\n",
    "\n",
    "for i, variable in enumerate(df):\n",
    "    plt.subplot(5,4, i +1)\n",
    "    plt.boxplot(df[variable])\n",
    "    plt.title(variable)\n",
    "\n",
    "plt.show()"
   ]
  },
  {
   "cell_type": "markdown",
   "id": "8db66514",
   "metadata": {},
   "source": [
    "##### Observations\n",
    "\n",
    "- There existis outliers in the Heartrate, Systolic BP, Body temperature and Blood Sugar\n",
    "- We will build the model without treating the outliers and build another model after treating outliers to compare"
   ]
  },
  {
   "cell_type": "markdown",
   "id": "c5c4091b",
   "metadata": {},
   "source": [
    "##### Splitting the data"
   ]
  },
  {
   "cell_type": "code",
   "execution_count": 26,
   "id": "d585fc7d",
   "metadata": {},
   "outputs": [],
   "source": [
    "X = df.drop('SystolicBP', axis =1)\n",
    "\n",
    "y = df['SystolicBP']"
   ]
  },
  {
   "cell_type": "code",
   "execution_count": 27,
   "id": "6611f935",
   "metadata": {},
   "outputs": [
    {
     "data": {
      "text/plain": [
       "((1014, 6), (1014,))"
      ]
     },
     "execution_count": 27,
     "metadata": {},
     "output_type": "execute_result"
    }
   ],
   "source": [
    "X.shape, y.shape# checking the shape of both the X and y variables"
   ]
  },
  {
   "cell_type": "code",
   "execution_count": 28,
   "id": "541cd19b",
   "metadata": {},
   "outputs": [
    {
     "data": {
      "text/html": [
       "<div>\n",
       "<style scoped>\n",
       "    .dataframe tbody tr th:only-of-type {\n",
       "        vertical-align: middle;\n",
       "    }\n",
       "\n",
       "    .dataframe tbody tr th {\n",
       "        vertical-align: top;\n",
       "    }\n",
       "\n",
       "    .dataframe thead th {\n",
       "        text-align: right;\n",
       "    }\n",
       "</style>\n",
       "<table border=\"1\" class=\"dataframe\">\n",
       "  <thead>\n",
       "    <tr style=\"text-align: right;\">\n",
       "      <th></th>\n",
       "      <th>Age</th>\n",
       "      <th>DiastolicBP</th>\n",
       "      <th>BS</th>\n",
       "      <th>BodyTemp</th>\n",
       "      <th>HeartRate</th>\n",
       "      <th>RiskLevel</th>\n",
       "    </tr>\n",
       "  </thead>\n",
       "  <tbody>\n",
       "    <tr>\n",
       "      <th>0</th>\n",
       "      <td>25</td>\n",
       "      <td>80</td>\n",
       "      <td>15.0</td>\n",
       "      <td>98.0</td>\n",
       "      <td>86</td>\n",
       "      <td>2</td>\n",
       "    </tr>\n",
       "    <tr>\n",
       "      <th>1</th>\n",
       "      <td>35</td>\n",
       "      <td>90</td>\n",
       "      <td>13.0</td>\n",
       "      <td>98.0</td>\n",
       "      <td>70</td>\n",
       "      <td>2</td>\n",
       "    </tr>\n",
       "    <tr>\n",
       "      <th>2</th>\n",
       "      <td>29</td>\n",
       "      <td>70</td>\n",
       "      <td>8.0</td>\n",
       "      <td>100.0</td>\n",
       "      <td>80</td>\n",
       "      <td>2</td>\n",
       "    </tr>\n",
       "    <tr>\n",
       "      <th>3</th>\n",
       "      <td>30</td>\n",
       "      <td>85</td>\n",
       "      <td>7.0</td>\n",
       "      <td>98.0</td>\n",
       "      <td>70</td>\n",
       "      <td>2</td>\n",
       "    </tr>\n",
       "    <tr>\n",
       "      <th>4</th>\n",
       "      <td>35</td>\n",
       "      <td>60</td>\n",
       "      <td>6.1</td>\n",
       "      <td>98.0</td>\n",
       "      <td>76</td>\n",
       "      <td>0</td>\n",
       "    </tr>\n",
       "    <tr>\n",
       "      <th>...</th>\n",
       "      <td>...</td>\n",
       "      <td>...</td>\n",
       "      <td>...</td>\n",
       "      <td>...</td>\n",
       "      <td>...</td>\n",
       "      <td>...</td>\n",
       "    </tr>\n",
       "    <tr>\n",
       "      <th>1009</th>\n",
       "      <td>22</td>\n",
       "      <td>60</td>\n",
       "      <td>15.0</td>\n",
       "      <td>98.0</td>\n",
       "      <td>80</td>\n",
       "      <td>2</td>\n",
       "    </tr>\n",
       "    <tr>\n",
       "      <th>1010</th>\n",
       "      <td>55</td>\n",
       "      <td>90</td>\n",
       "      <td>18.0</td>\n",
       "      <td>98.0</td>\n",
       "      <td>60</td>\n",
       "      <td>2</td>\n",
       "    </tr>\n",
       "    <tr>\n",
       "      <th>1011</th>\n",
       "      <td>35</td>\n",
       "      <td>60</td>\n",
       "      <td>19.0</td>\n",
       "      <td>98.0</td>\n",
       "      <td>86</td>\n",
       "      <td>2</td>\n",
       "    </tr>\n",
       "    <tr>\n",
       "      <th>1012</th>\n",
       "      <td>43</td>\n",
       "      <td>90</td>\n",
       "      <td>18.0</td>\n",
       "      <td>98.0</td>\n",
       "      <td>70</td>\n",
       "      <td>2</td>\n",
       "    </tr>\n",
       "    <tr>\n",
       "      <th>1013</th>\n",
       "      <td>32</td>\n",
       "      <td>65</td>\n",
       "      <td>6.0</td>\n",
       "      <td>101.0</td>\n",
       "      <td>76</td>\n",
       "      <td>1</td>\n",
       "    </tr>\n",
       "  </tbody>\n",
       "</table>\n",
       "<p>1014 rows × 6 columns</p>\n",
       "</div>"
      ],
      "text/plain": [
       "      Age  DiastolicBP    BS  BodyTemp  HeartRate  RiskLevel\n",
       "0      25           80  15.0      98.0         86          2\n",
       "1      35           90  13.0      98.0         70          2\n",
       "2      29           70   8.0     100.0         80          2\n",
       "3      30           85   7.0      98.0         70          2\n",
       "4      35           60   6.1      98.0         76          0\n",
       "...   ...          ...   ...       ...        ...        ...\n",
       "1009   22           60  15.0      98.0         80          2\n",
       "1010   55           90  18.0      98.0         60          2\n",
       "1011   35           60  19.0      98.0         86          2\n",
       "1012   43           90  18.0      98.0         70          2\n",
       "1013   32           65   6.0     101.0         76          1\n",
       "\n",
       "[1014 rows x 6 columns]"
      ]
     },
     "execution_count": 28,
     "metadata": {},
     "output_type": "execute_result"
    }
   ],
   "source": [
    "X"
   ]
  },
  {
   "cell_type": "code",
   "execution_count": 29,
   "id": "f44073cb",
   "metadata": {},
   "outputs": [],
   "source": [
    " # split to train and test data\n",
    "X_train, X_test, y_train, y_test = train_test_split(X, y, test_size=0.2, random_state=0) # using 20% of the data for testing"
   ]
  },
  {
   "cell_type": "code",
   "execution_count": 30,
   "id": "56cd24ea",
   "metadata": {},
   "outputs": [
    {
     "name": "stdout",
     "output_type": "stream",
     "text": [
      "Number of rows in train data = 811\n",
      "Number of rows in test data = 203\n"
     ]
    }
   ],
   "source": [
    "print(\"Number of rows in train data =\", X_train.shape[0])\n",
    "print('Number of rows in test data =', X_test.shape[0])"
   ]
  },
  {
   "cell_type": "markdown",
   "id": "fb2b5669",
   "metadata": {},
   "source": [
    "##### Normalize the data"
   ]
  },
  {
   "cell_type": "code",
   "execution_count": 31,
   "id": "ccaa074d",
   "metadata": {},
   "outputs": [],
   "source": [
    "# create an instance of the scaler\n",
    "scaler = MinMaxScaler()"
   ]
  },
  {
   "cell_type": "code",
   "execution_count": 32,
   "id": "65b16544",
   "metadata": {},
   "outputs": [],
   "source": [
    "X_train_sc = scaler.fit_transform(X_train) # scaled train data\n",
    "X_test_sc = scaler.transform(X_test) # scaled test data"
   ]
  },
  {
   "cell_type": "markdown",
   "id": "cb798798",
   "metadata": {},
   "source": [
    "##### Building the model"
   ]
  },
  {
   "cell_type": "code",
   "execution_count": 33,
   "id": "5d7e5cc5",
   "metadata": {},
   "outputs": [],
   "source": [
    "#creating instance of the model\n",
    "\n",
    "lin_reg = LinearRegression()"
   ]
  },
  {
   "cell_type": "code",
   "execution_count": 34,
   "id": "7e3d6017",
   "metadata": {},
   "outputs": [
    {
     "data": {
      "text/html": [
       "<style>#sk-container-id-1 {color: black;background-color: white;}#sk-container-id-1 pre{padding: 0;}#sk-container-id-1 div.sk-toggleable {background-color: white;}#sk-container-id-1 label.sk-toggleable__label {cursor: pointer;display: block;width: 100%;margin-bottom: 0;padding: 0.3em;box-sizing: border-box;text-align: center;}#sk-container-id-1 label.sk-toggleable__label-arrow:before {content: \"▸\";float: left;margin-right: 0.25em;color: #696969;}#sk-container-id-1 label.sk-toggleable__label-arrow:hover:before {color: black;}#sk-container-id-1 div.sk-estimator:hover label.sk-toggleable__label-arrow:before {color: black;}#sk-container-id-1 div.sk-toggleable__content {max-height: 0;max-width: 0;overflow: hidden;text-align: left;background-color: #f0f8ff;}#sk-container-id-1 div.sk-toggleable__content pre {margin: 0.2em;color: black;border-radius: 0.25em;background-color: #f0f8ff;}#sk-container-id-1 input.sk-toggleable__control:checked~div.sk-toggleable__content {max-height: 200px;max-width: 100%;overflow: auto;}#sk-container-id-1 input.sk-toggleable__control:checked~label.sk-toggleable__label-arrow:before {content: \"▾\";}#sk-container-id-1 div.sk-estimator input.sk-toggleable__control:checked~label.sk-toggleable__label {background-color: #d4ebff;}#sk-container-id-1 div.sk-label input.sk-toggleable__control:checked~label.sk-toggleable__label {background-color: #d4ebff;}#sk-container-id-1 input.sk-hidden--visually {border: 0;clip: rect(1px 1px 1px 1px);clip: rect(1px, 1px, 1px, 1px);height: 1px;margin: -1px;overflow: hidden;padding: 0;position: absolute;width: 1px;}#sk-container-id-1 div.sk-estimator {font-family: monospace;background-color: #f0f8ff;border: 1px dotted black;border-radius: 0.25em;box-sizing: border-box;margin-bottom: 0.5em;}#sk-container-id-1 div.sk-estimator:hover {background-color: #d4ebff;}#sk-container-id-1 div.sk-parallel-item::after {content: \"\";width: 100%;border-bottom: 1px solid gray;flex-grow: 1;}#sk-container-id-1 div.sk-label:hover label.sk-toggleable__label {background-color: #d4ebff;}#sk-container-id-1 div.sk-serial::before {content: \"\";position: absolute;border-left: 1px solid gray;box-sizing: border-box;top: 0;bottom: 0;left: 50%;z-index: 0;}#sk-container-id-1 div.sk-serial {display: flex;flex-direction: column;align-items: center;background-color: white;padding-right: 0.2em;padding-left: 0.2em;position: relative;}#sk-container-id-1 div.sk-item {position: relative;z-index: 1;}#sk-container-id-1 div.sk-parallel {display: flex;align-items: stretch;justify-content: center;background-color: white;position: relative;}#sk-container-id-1 div.sk-item::before, #sk-container-id-1 div.sk-parallel-item::before {content: \"\";position: absolute;border-left: 1px solid gray;box-sizing: border-box;top: 0;bottom: 0;left: 50%;z-index: -1;}#sk-container-id-1 div.sk-parallel-item {display: flex;flex-direction: column;z-index: 1;position: relative;background-color: white;}#sk-container-id-1 div.sk-parallel-item:first-child::after {align-self: flex-end;width: 50%;}#sk-container-id-1 div.sk-parallel-item:last-child::after {align-self: flex-start;width: 50%;}#sk-container-id-1 div.sk-parallel-item:only-child::after {width: 0;}#sk-container-id-1 div.sk-dashed-wrapped {border: 1px dashed gray;margin: 0 0.4em 0.5em 0.4em;box-sizing: border-box;padding-bottom: 0.4em;background-color: white;}#sk-container-id-1 div.sk-label label {font-family: monospace;font-weight: bold;display: inline-block;line-height: 1.2em;}#sk-container-id-1 div.sk-label-container {text-align: center;}#sk-container-id-1 div.sk-container {/* jupyter's `normalize.less` sets `[hidden] { display: none; }` but bootstrap.min.css set `[hidden] { display: none !important; }` so we also need the `!important` here to be able to override the default hidden behavior on the sphinx rendered scikit-learn.org. See: https://github.com/scikit-learn/scikit-learn/issues/21755 */display: inline-block !important;position: relative;}#sk-container-id-1 div.sk-text-repr-fallback {display: none;}</style><div id=\"sk-container-id-1\" class=\"sk-top-container\"><div class=\"sk-text-repr-fallback\"><pre>LinearRegression()</pre><b>In a Jupyter environment, please rerun this cell to show the HTML representation or trust the notebook. <br />On GitHub, the HTML representation is unable to render, please try loading this page with nbviewer.org.</b></div><div class=\"sk-container\" hidden><div class=\"sk-item\"><div class=\"sk-estimator sk-toggleable\"><input class=\"sk-toggleable__control sk-hidden--visually\" id=\"sk-estimator-id-1\" type=\"checkbox\" checked><label for=\"sk-estimator-id-1\" class=\"sk-toggleable__label sk-toggleable__label-arrow\">LinearRegression</label><div class=\"sk-toggleable__content\"><pre>LinearRegression()</pre></div></div></div></div></div>"
      ],
      "text/plain": [
       "LinearRegression()"
      ]
     },
     "execution_count": 34,
     "metadata": {},
     "output_type": "execute_result"
    }
   ],
   "source": [
    "# Training the model\n",
    "\n",
    "lin_reg.fit(X_train_sc,y_train )"
   ]
  },
  {
   "cell_type": "code",
   "execution_count": 35,
   "id": "d3cace4f",
   "metadata": {},
   "outputs": [
    {
     "data": {
      "text/plain": [
       "array([ 6.4349766 , 45.31444809,  2.48649066, -7.17920662, -4.49943321,\n",
       "        6.8659804 ])"
      ]
     },
     "execution_count": 35,
     "metadata": {},
     "output_type": "execute_result"
    }
   ],
   "source": [
    "lin_reg.coef_ # The model coefficients."
   ]
  },
  {
   "cell_type": "markdown",
   "id": "8d617168",
   "metadata": {},
   "source": [
    "#### Observations from the model coefficients\n",
    "\n",
    "- Given that every other variables remains constant, a 7.2 unit increase in the age of the women will produce a change in the Systolic BP\n",
    "\n",
    "- 45.1 unit increase in the Diastolic BP will produce change in the Systolic BP, having other varibles constant\n",
    "- 0.05 unit increase in the blood sugar will produce change in the Systolic BP, given that other variables remains constant\n",
    "- -0.81 unit decrease in the heart rate will produce change in the Systolic BP, given that other variables remains constant"
   ]
  },
  {
   "cell_type": "code",
   "execution_count": 36,
   "id": "2f0f19cc",
   "metadata": {},
   "outputs": [],
   "source": [
    "model_train = model_performance_regression(lin_reg, X_train_sc, y_train)"
   ]
  },
  {
   "cell_type": "code",
   "execution_count": 37,
   "id": "6a2198e6",
   "metadata": {},
   "outputs": [
    {
     "data": {
      "text/html": [
       "<div>\n",
       "<style scoped>\n",
       "    .dataframe tbody tr th:only-of-type {\n",
       "        vertical-align: middle;\n",
       "    }\n",
       "\n",
       "    .dataframe tbody tr th {\n",
       "        vertical-align: top;\n",
       "    }\n",
       "\n",
       "    .dataframe thead th {\n",
       "        text-align: right;\n",
       "    }\n",
       "</style>\n",
       "<table border=\"1\" class=\"dataframe\">\n",
       "  <thead>\n",
       "    <tr style=\"text-align: right;\">\n",
       "      <th></th>\n",
       "      <th>RMSE</th>\n",
       "      <th>MAE</th>\n",
       "      <th>R-squared</th>\n",
       "      <th>Adj. R-squared</th>\n",
       "      <th>MAPE</th>\n",
       "    </tr>\n",
       "  </thead>\n",
       "  <tbody>\n",
       "    <tr>\n",
       "      <th>0</th>\n",
       "      <td>10.5428</td>\n",
       "      <td>8.381557</td>\n",
       "      <td>0.670355</td>\n",
       "      <td>0.667895</td>\n",
       "      <td>7.719724</td>\n",
       "    </tr>\n",
       "  </tbody>\n",
       "</table>\n",
       "</div>"
      ],
      "text/plain": [
       "      RMSE       MAE  R-squared  Adj. R-squared      MAPE\n",
       "0  10.5428  8.381557   0.670355        0.667895  7.719724"
      ]
     },
     "execution_count": 37,
     "metadata": {},
     "output_type": "execute_result"
    }
   ],
   "source": [
    "model_train"
   ]
  },
  {
   "cell_type": "markdown",
   "id": "28154140",
   "metadata": {},
   "source": [
    "##### Observations from the trained model\n",
    "\n",
    "- The model is making a RMSE error of 10.5 and a mean absolute error of 8.4\n",
    "- We have a R-squared of 67% and adjusted R squared of 66% in predicting the Systolic BP\n",
    "- We can improve our model to reduce the error and Adjusted R-squared"
   ]
  },
  {
   "cell_type": "code",
   "execution_count": 38,
   "id": "ad2adce4",
   "metadata": {},
   "outputs": [],
   "source": [
    "# applying to the test data\n",
    "model_test = model_performance_regression(lin_reg, X_test_sc, y_test)"
   ]
  },
  {
   "cell_type": "code",
   "execution_count": 39,
   "id": "7fe95f0f",
   "metadata": {},
   "outputs": [
    {
     "data": {
      "text/html": [
       "<div>\n",
       "<style scoped>\n",
       "    .dataframe tbody tr th:only-of-type {\n",
       "        vertical-align: middle;\n",
       "    }\n",
       "\n",
       "    .dataframe tbody tr th {\n",
       "        vertical-align: top;\n",
       "    }\n",
       "\n",
       "    .dataframe thead th {\n",
       "        text-align: right;\n",
       "    }\n",
       "</style>\n",
       "<table border=\"1\" class=\"dataframe\">\n",
       "  <thead>\n",
       "    <tr style=\"text-align: right;\">\n",
       "      <th></th>\n",
       "      <th>RMSE</th>\n",
       "      <th>MAE</th>\n",
       "      <th>R-squared</th>\n",
       "      <th>Adj. R-squared</th>\n",
       "      <th>MAPE</th>\n",
       "    </tr>\n",
       "  </thead>\n",
       "  <tbody>\n",
       "    <tr>\n",
       "      <th>0</th>\n",
       "      <td>11.63507</td>\n",
       "      <td>9.282426</td>\n",
       "      <td>0.605092</td>\n",
       "      <td>0.593003</td>\n",
       "      <td>8.565452</td>\n",
       "    </tr>\n",
       "  </tbody>\n",
       "</table>\n",
       "</div>"
      ],
      "text/plain": [
       "       RMSE       MAE  R-squared  Adj. R-squared      MAPE\n",
       "0  11.63507  9.282426   0.605092        0.593003  8.565452"
      ]
     },
     "execution_count": 39,
     "metadata": {},
     "output_type": "execute_result"
    }
   ],
   "source": [
    "model_test"
   ]
  },
  {
   "cell_type": "markdown",
   "id": "5699dd8d",
   "metadata": {},
   "source": [
    "##### Observations from the test model\n",
    "\n",
    "- The model is making a RMSE error of 11.6 and a mean absolute error of 9.3\n",
    "- We have a R-squared of 60% and adjusted R squared of 59% in predicting the Systolic BP"
   ]
  },
  {
   "cell_type": "code",
   "execution_count": 40,
   "id": "fa572a8d",
   "metadata": {},
   "outputs": [
    {
     "name": "stdout",
     "output_type": "stream",
     "text": [
      "Training Accuracy: 0.670\n",
      "Test Accuracy: 0.605\n"
     ]
    }
   ],
   "source": [
    "print(\"Training Accuracy: {:.3f}\".format(lin_reg.score(X_train_sc, y_train)))\n",
    "print(\"Test Accuracy: {:.3f}\".format(lin_reg.score(X_test_sc, y_test)))"
   ]
  },
  {
   "cell_type": "code",
   "execution_count": 41,
   "id": "98b0c52d",
   "metadata": {},
   "outputs": [
    {
     "data": {
      "text/plain": [
       "0.6050924236737121"
      ]
     },
     "execution_count": 41,
     "metadata": {},
     "output_type": "execute_result"
    }
   ],
   "source": [
    "pred = lin_reg.predict(X_test_sc)\n",
    "r2_score(y_test,pred)"
   ]
  },
  {
   "cell_type": "markdown",
   "id": "2724dc99",
   "metadata": {},
   "source": [
    "##### Benchmarking our features to 0.4 correlation with the Systolic BP from the heat map"
   ]
  },
  {
   "cell_type": "code",
   "execution_count": 42,
   "id": "5b3d3726",
   "metadata": {},
   "outputs": [],
   "source": [
    "# features with 0.4 corr with the systolic bp\n",
    "df_1 = df[['Age','DiastolicBP','BS','RiskLevel', 'SystolicBP']]"
   ]
  },
  {
   "cell_type": "code",
   "execution_count": 43,
   "id": "1546fa93",
   "metadata": {},
   "outputs": [],
   "source": [
    "X = df_1.drop('SystolicBP', axis =1)\n",
    "\n",
    "y = df_1['SystolicBP']"
   ]
  },
  {
   "cell_type": "code",
   "execution_count": 44,
   "id": "e5a5a359",
   "metadata": {},
   "outputs": [
    {
     "data": {
      "text/html": [
       "<div>\n",
       "<style scoped>\n",
       "    .dataframe tbody tr th:only-of-type {\n",
       "        vertical-align: middle;\n",
       "    }\n",
       "\n",
       "    .dataframe tbody tr th {\n",
       "        vertical-align: top;\n",
       "    }\n",
       "\n",
       "    .dataframe thead th {\n",
       "        text-align: right;\n",
       "    }\n",
       "</style>\n",
       "<table border=\"1\" class=\"dataframe\">\n",
       "  <thead>\n",
       "    <tr style=\"text-align: right;\">\n",
       "      <th></th>\n",
       "      <th>Age</th>\n",
       "      <th>DiastolicBP</th>\n",
       "      <th>BS</th>\n",
       "      <th>RiskLevel</th>\n",
       "    </tr>\n",
       "  </thead>\n",
       "  <tbody>\n",
       "    <tr>\n",
       "      <th>0</th>\n",
       "      <td>25</td>\n",
       "      <td>80</td>\n",
       "      <td>15.0</td>\n",
       "      <td>2</td>\n",
       "    </tr>\n",
       "    <tr>\n",
       "      <th>1</th>\n",
       "      <td>35</td>\n",
       "      <td>90</td>\n",
       "      <td>13.0</td>\n",
       "      <td>2</td>\n",
       "    </tr>\n",
       "    <tr>\n",
       "      <th>2</th>\n",
       "      <td>29</td>\n",
       "      <td>70</td>\n",
       "      <td>8.0</td>\n",
       "      <td>2</td>\n",
       "    </tr>\n",
       "    <tr>\n",
       "      <th>3</th>\n",
       "      <td>30</td>\n",
       "      <td>85</td>\n",
       "      <td>7.0</td>\n",
       "      <td>2</td>\n",
       "    </tr>\n",
       "    <tr>\n",
       "      <th>4</th>\n",
       "      <td>35</td>\n",
       "      <td>60</td>\n",
       "      <td>6.1</td>\n",
       "      <td>0</td>\n",
       "    </tr>\n",
       "    <tr>\n",
       "      <th>...</th>\n",
       "      <td>...</td>\n",
       "      <td>...</td>\n",
       "      <td>...</td>\n",
       "      <td>...</td>\n",
       "    </tr>\n",
       "    <tr>\n",
       "      <th>1009</th>\n",
       "      <td>22</td>\n",
       "      <td>60</td>\n",
       "      <td>15.0</td>\n",
       "      <td>2</td>\n",
       "    </tr>\n",
       "    <tr>\n",
       "      <th>1010</th>\n",
       "      <td>55</td>\n",
       "      <td>90</td>\n",
       "      <td>18.0</td>\n",
       "      <td>2</td>\n",
       "    </tr>\n",
       "    <tr>\n",
       "      <th>1011</th>\n",
       "      <td>35</td>\n",
       "      <td>60</td>\n",
       "      <td>19.0</td>\n",
       "      <td>2</td>\n",
       "    </tr>\n",
       "    <tr>\n",
       "      <th>1012</th>\n",
       "      <td>43</td>\n",
       "      <td>90</td>\n",
       "      <td>18.0</td>\n",
       "      <td>2</td>\n",
       "    </tr>\n",
       "    <tr>\n",
       "      <th>1013</th>\n",
       "      <td>32</td>\n",
       "      <td>65</td>\n",
       "      <td>6.0</td>\n",
       "      <td>1</td>\n",
       "    </tr>\n",
       "  </tbody>\n",
       "</table>\n",
       "<p>1014 rows × 4 columns</p>\n",
       "</div>"
      ],
      "text/plain": [
       "      Age  DiastolicBP    BS  RiskLevel\n",
       "0      25           80  15.0          2\n",
       "1      35           90  13.0          2\n",
       "2      29           70   8.0          2\n",
       "3      30           85   7.0          2\n",
       "4      35           60   6.1          0\n",
       "...   ...          ...   ...        ...\n",
       "1009   22           60  15.0          2\n",
       "1010   55           90  18.0          2\n",
       "1011   35           60  19.0          2\n",
       "1012   43           90  18.0          2\n",
       "1013   32           65   6.0          1\n",
       "\n",
       "[1014 rows x 4 columns]"
      ]
     },
     "execution_count": 44,
     "metadata": {},
     "output_type": "execute_result"
    }
   ],
   "source": [
    "X"
   ]
  },
  {
   "cell_type": "code",
   "execution_count": 45,
   "id": "fa4a6ffd",
   "metadata": {},
   "outputs": [],
   "source": [
    " # split to train and test data\n",
    "X_train, X_test, y_train, y_test = train_test_split(X, y, test_size=0.2, random_state=0) # using 20% of the data for testing"
   ]
  },
  {
   "cell_type": "code",
   "execution_count": 46,
   "id": "84f837a0",
   "metadata": {},
   "outputs": [
    {
     "name": "stdout",
     "output_type": "stream",
     "text": [
      "Number of rows in train data = 811\n",
      "Number of rows in test data = 203\n"
     ]
    }
   ],
   "source": [
    "print(\"Number of rows in train data =\", X_train.shape[0])\n",
    "print('Number of rows in test data =', X_test.shape[0])"
   ]
  },
  {
   "cell_type": "markdown",
   "id": "37c3cd38",
   "metadata": {},
   "source": [
    "##### Normalize the data"
   ]
  },
  {
   "cell_type": "code",
   "execution_count": 47,
   "id": "5d00a55a",
   "metadata": {},
   "outputs": [],
   "source": [
    "# create an instance of the scaler\n",
    "scaler = MinMaxScaler()"
   ]
  },
  {
   "cell_type": "code",
   "execution_count": 48,
   "id": "f6d7d9cb",
   "metadata": {},
   "outputs": [],
   "source": [
    "X_train_sc = scaler.fit_transform(X_train) # scaled train data\n",
    "X_test_sc = scaler.transform(X_test) # scaled test data"
   ]
  },
  {
   "cell_type": "markdown",
   "id": "33e191f8",
   "metadata": {},
   "source": [
    "##### Building the model"
   ]
  },
  {
   "cell_type": "code",
   "execution_count": 49,
   "id": "3cdc1c04",
   "metadata": {},
   "outputs": [],
   "source": [
    "#creating instance of the model\n",
    "\n",
    "lin_reg = LinearRegression()"
   ]
  },
  {
   "cell_type": "code",
   "execution_count": 50,
   "id": "0f1bee58",
   "metadata": {},
   "outputs": [
    {
     "data": {
      "text/html": [
       "<style>#sk-container-id-2 {color: black;background-color: white;}#sk-container-id-2 pre{padding: 0;}#sk-container-id-2 div.sk-toggleable {background-color: white;}#sk-container-id-2 label.sk-toggleable__label {cursor: pointer;display: block;width: 100%;margin-bottom: 0;padding: 0.3em;box-sizing: border-box;text-align: center;}#sk-container-id-2 label.sk-toggleable__label-arrow:before {content: \"▸\";float: left;margin-right: 0.25em;color: #696969;}#sk-container-id-2 label.sk-toggleable__label-arrow:hover:before {color: black;}#sk-container-id-2 div.sk-estimator:hover label.sk-toggleable__label-arrow:before {color: black;}#sk-container-id-2 div.sk-toggleable__content {max-height: 0;max-width: 0;overflow: hidden;text-align: left;background-color: #f0f8ff;}#sk-container-id-2 div.sk-toggleable__content pre {margin: 0.2em;color: black;border-radius: 0.25em;background-color: #f0f8ff;}#sk-container-id-2 input.sk-toggleable__control:checked~div.sk-toggleable__content {max-height: 200px;max-width: 100%;overflow: auto;}#sk-container-id-2 input.sk-toggleable__control:checked~label.sk-toggleable__label-arrow:before {content: \"▾\";}#sk-container-id-2 div.sk-estimator input.sk-toggleable__control:checked~label.sk-toggleable__label {background-color: #d4ebff;}#sk-container-id-2 div.sk-label input.sk-toggleable__control:checked~label.sk-toggleable__label {background-color: #d4ebff;}#sk-container-id-2 input.sk-hidden--visually {border: 0;clip: rect(1px 1px 1px 1px);clip: rect(1px, 1px, 1px, 1px);height: 1px;margin: -1px;overflow: hidden;padding: 0;position: absolute;width: 1px;}#sk-container-id-2 div.sk-estimator {font-family: monospace;background-color: #f0f8ff;border: 1px dotted black;border-radius: 0.25em;box-sizing: border-box;margin-bottom: 0.5em;}#sk-container-id-2 div.sk-estimator:hover {background-color: #d4ebff;}#sk-container-id-2 div.sk-parallel-item::after {content: \"\";width: 100%;border-bottom: 1px solid gray;flex-grow: 1;}#sk-container-id-2 div.sk-label:hover label.sk-toggleable__label {background-color: #d4ebff;}#sk-container-id-2 div.sk-serial::before {content: \"\";position: absolute;border-left: 1px solid gray;box-sizing: border-box;top: 0;bottom: 0;left: 50%;z-index: 0;}#sk-container-id-2 div.sk-serial {display: flex;flex-direction: column;align-items: center;background-color: white;padding-right: 0.2em;padding-left: 0.2em;position: relative;}#sk-container-id-2 div.sk-item {position: relative;z-index: 1;}#sk-container-id-2 div.sk-parallel {display: flex;align-items: stretch;justify-content: center;background-color: white;position: relative;}#sk-container-id-2 div.sk-item::before, #sk-container-id-2 div.sk-parallel-item::before {content: \"\";position: absolute;border-left: 1px solid gray;box-sizing: border-box;top: 0;bottom: 0;left: 50%;z-index: -1;}#sk-container-id-2 div.sk-parallel-item {display: flex;flex-direction: column;z-index: 1;position: relative;background-color: white;}#sk-container-id-2 div.sk-parallel-item:first-child::after {align-self: flex-end;width: 50%;}#sk-container-id-2 div.sk-parallel-item:last-child::after {align-self: flex-start;width: 50%;}#sk-container-id-2 div.sk-parallel-item:only-child::after {width: 0;}#sk-container-id-2 div.sk-dashed-wrapped {border: 1px dashed gray;margin: 0 0.4em 0.5em 0.4em;box-sizing: border-box;padding-bottom: 0.4em;background-color: white;}#sk-container-id-2 div.sk-label label {font-family: monospace;font-weight: bold;display: inline-block;line-height: 1.2em;}#sk-container-id-2 div.sk-label-container {text-align: center;}#sk-container-id-2 div.sk-container {/* jupyter's `normalize.less` sets `[hidden] { display: none; }` but bootstrap.min.css set `[hidden] { display: none !important; }` so we also need the `!important` here to be able to override the default hidden behavior on the sphinx rendered scikit-learn.org. See: https://github.com/scikit-learn/scikit-learn/issues/21755 */display: inline-block !important;position: relative;}#sk-container-id-2 div.sk-text-repr-fallback {display: none;}</style><div id=\"sk-container-id-2\" class=\"sk-top-container\"><div class=\"sk-text-repr-fallback\"><pre>LinearRegression()</pre><b>In a Jupyter environment, please rerun this cell to show the HTML representation or trust the notebook. <br />On GitHub, the HTML representation is unable to render, please try loading this page with nbviewer.org.</b></div><div class=\"sk-container\" hidden><div class=\"sk-item\"><div class=\"sk-estimator sk-toggleable\"><input class=\"sk-toggleable__control sk-hidden--visually\" id=\"sk-estimator-id-2\" type=\"checkbox\" checked><label for=\"sk-estimator-id-2\" class=\"sk-toggleable__label sk-toggleable__label-arrow\">LinearRegression</label><div class=\"sk-toggleable__content\"><pre>LinearRegression()</pre></div></div></div></div></div>"
      ],
      "text/plain": [
       "LinearRegression()"
      ]
     },
     "execution_count": 50,
     "metadata": {},
     "output_type": "execute_result"
    }
   ],
   "source": [
    "# Training the model\n",
    "\n",
    "lin_reg.fit(X_train_sc,y_train )"
   ]
  },
  {
   "cell_type": "code",
   "execution_count": 51,
   "id": "e2ae76c4",
   "metadata": {},
   "outputs": [],
   "source": [
    "model_train_1 = model_performance_regression(lin_reg, X_train_sc, y_train)"
   ]
  },
  {
   "cell_type": "code",
   "execution_count": 52,
   "id": "8f102ca5",
   "metadata": {},
   "outputs": [
    {
     "data": {
      "text/html": [
       "<div>\n",
       "<style scoped>\n",
       "    .dataframe tbody tr th:only-of-type {\n",
       "        vertical-align: middle;\n",
       "    }\n",
       "\n",
       "    .dataframe tbody tr th {\n",
       "        vertical-align: top;\n",
       "    }\n",
       "\n",
       "    .dataframe thead th {\n",
       "        text-align: right;\n",
       "    }\n",
       "</style>\n",
       "<table border=\"1\" class=\"dataframe\">\n",
       "  <thead>\n",
       "    <tr style=\"text-align: right;\">\n",
       "      <th></th>\n",
       "      <th>RMSE</th>\n",
       "      <th>MAE</th>\n",
       "      <th>R-squared</th>\n",
       "      <th>Adj. R-squared</th>\n",
       "      <th>MAPE</th>\n",
       "    </tr>\n",
       "  </thead>\n",
       "  <tbody>\n",
       "    <tr>\n",
       "      <th>0</th>\n",
       "      <td>10.71043</td>\n",
       "      <td>8.554163</td>\n",
       "      <td>0.659789</td>\n",
       "      <td>0.658101</td>\n",
       "      <td>7.890341</td>\n",
       "    </tr>\n",
       "  </tbody>\n",
       "</table>\n",
       "</div>"
      ],
      "text/plain": [
       "       RMSE       MAE  R-squared  Adj. R-squared      MAPE\n",
       "0  10.71043  8.554163   0.659789        0.658101  7.890341"
      ]
     },
     "execution_count": 52,
     "metadata": {},
     "output_type": "execute_result"
    }
   ],
   "source": [
    "model_train_1"
   ]
  },
  {
   "cell_type": "markdown",
   "id": "b51e9c53",
   "metadata": {},
   "source": [
    "##### Observations from the trained model\n",
    "\n",
    "- The model is making a RMSE error of 10.7 and a mean absolute error of 8.5\n",
    "- We have a R-squared of 65% and adjusted R squared of 65% in predicting the Systolic BP\n",
    "- We can improve our model to reduce the error and Adjusted R-squared"
   ]
  },
  {
   "cell_type": "code",
   "execution_count": 53,
   "id": "b6299938",
   "metadata": {},
   "outputs": [],
   "source": [
    "# applying to the test data\n",
    "model_test_1 = model_performance_regression(lin_reg, X_test_sc, y_test)"
   ]
  },
  {
   "cell_type": "code",
   "execution_count": 54,
   "id": "f0f90d3c",
   "metadata": {},
   "outputs": [
    {
     "data": {
      "text/html": [
       "<div>\n",
       "<style scoped>\n",
       "    .dataframe tbody tr th:only-of-type {\n",
       "        vertical-align: middle;\n",
       "    }\n",
       "\n",
       "    .dataframe tbody tr th {\n",
       "        vertical-align: top;\n",
       "    }\n",
       "\n",
       "    .dataframe thead th {\n",
       "        text-align: right;\n",
       "    }\n",
       "</style>\n",
       "<table border=\"1\" class=\"dataframe\">\n",
       "  <thead>\n",
       "    <tr style=\"text-align: right;\">\n",
       "      <th></th>\n",
       "      <th>RMSE</th>\n",
       "      <th>MAE</th>\n",
       "      <th>R-squared</th>\n",
       "      <th>Adj. R-squared</th>\n",
       "      <th>MAPE</th>\n",
       "    </tr>\n",
       "  </thead>\n",
       "  <tbody>\n",
       "    <tr>\n",
       "      <th>0</th>\n",
       "      <td>11.915312</td>\n",
       "      <td>9.636408</td>\n",
       "      <td>0.58584</td>\n",
       "      <td>0.577473</td>\n",
       "      <td>8.870816</td>\n",
       "    </tr>\n",
       "  </tbody>\n",
       "</table>\n",
       "</div>"
      ],
      "text/plain": [
       "        RMSE       MAE  R-squared  Adj. R-squared      MAPE\n",
       "0  11.915312  9.636408    0.58584        0.577473  8.870816"
      ]
     },
     "execution_count": 54,
     "metadata": {},
     "output_type": "execute_result"
    }
   ],
   "source": [
    "model_test_1"
   ]
  },
  {
   "cell_type": "markdown",
   "id": "f57ed8e5",
   "metadata": {},
   "source": [
    "##### Observations from the test model\n",
    "\n",
    "- The model is making a RMSE error of 11.9 and a mean absolute error of 9.6\n",
    "- We have a R-squared of 58% and adjusted R squared of 57% in predicting the Systolic BP\n",
    "- We can improve our model to reduce the error and Adjusted R-squared"
   ]
  },
  {
   "cell_type": "markdown",
   "id": "0f38d024",
   "metadata": {},
   "source": [
    "##### Treating the outliers and building the model"
   ]
  },
  {
   "cell_type": "code",
   "execution_count": 55,
   "id": "7e3b980b",
   "metadata": {},
   "outputs": [],
   "source": [
    "# treating the outliers\n",
    "\n",
    "df_2 = treat_outliers_all(df, df)"
   ]
  },
  {
   "cell_type": "code",
   "execution_count": 56,
   "id": "093c455e",
   "metadata": {},
   "outputs": [
    {
     "data": {
      "image/png": "[encoded data removed]",
      "text/plain": [
       "<Figure size 1440x2160 with 7 Axes>"
      ]
     },
     "metadata": {
      "needs_background": "light"
     },
     "output_type": "display_data"
    }
   ],
   "source": [
    "# view the treated outliers\n",
    "plt.figure(figsize=(20,30))\n",
    "\n",
    "for i, variable in enumerate(df):\n",
    "    plt.subplot(5,4,i+1)\n",
    "    plt.boxplot(df[variable], whis = 1.5)\n",
    "    plt.title(variable)\n",
    "    \n",
    "plt.show()"
   ]
  },
  {
   "cell_type": "code",
   "execution_count": 57,
   "id": "cbbbed43",
   "metadata": {},
   "outputs": [],
   "source": [
    "# split to X and y\n",
    "X = df_2.drop('SystolicBP', axis =1)\n",
    "\n",
    "y = df_2['SystolicBP']"
   ]
  },
  {
   "cell_type": "code",
   "execution_count": 58,
   "id": "53744389",
   "metadata": {},
   "outputs": [],
   "source": [
    " # split to train and test data\n",
    "X_train, X_test, y_train, y_test = train_test_split(X, y, test_size=0.2, random_state=0) # using 20% of the data for testing"
   ]
  },
  {
   "cell_type": "code",
   "execution_count": 59,
   "id": "ac848db1",
   "metadata": {},
   "outputs": [
    {
     "name": "stdout",
     "output_type": "stream",
     "text": [
      "Number of rows in train data = 811\n",
      "Number of rows in test data = 203\n"
     ]
    }
   ],
   "source": [
    "print(\"Number of rows in train data =\", X_train.shape[0])\n",
    "print('Number of rows in test data =', X_test.shape[0])"
   ]
  },
  {
   "cell_type": "markdown",
   "id": "fc74bf15",
   "metadata": {},
   "source": [
    "##### Normalize the data"
   ]
  },
  {
   "cell_type": "code",
   "execution_count": 60,
   "id": "33c682e6",
   "metadata": {},
   "outputs": [],
   "source": [
    "# create an instance of the scaler\n",
    "scaler = MinMaxScaler()"
   ]
  },
  {
   "cell_type": "code",
   "execution_count": 61,
   "id": "400c936b",
   "metadata": {},
   "outputs": [],
   "source": [
    "X_train_sc = scaler.fit_transform(X_train) # scaled train data\n",
    "X_test_sc = scaler.transform(X_test) # scaled test data"
   ]
  },
  {
   "cell_type": "markdown",
   "id": "39f4e4bb",
   "metadata": {},
   "source": [
    "##### Build the model"
   ]
  },
  {
   "cell_type": "code",
   "execution_count": 62,
   "id": "9dce2980",
   "metadata": {},
   "outputs": [],
   "source": [
    "#creating instance of the model\n",
    "\n",
    "lin_reg = LinearRegression()"
   ]
  },
  {
   "cell_type": "code",
   "execution_count": 63,
   "id": "d29d9f80",
   "metadata": {},
   "outputs": [
    {
     "data": {
      "text/html": [
       "<style>#sk-container-id-3 {color: black;background-color: white;}#sk-container-id-3 pre{padding: 0;}#sk-container-id-3 div.sk-toggleable {background-color: white;}#sk-container-id-3 label.sk-toggleable__label {cursor: pointer;display: block;width: 100%;margin-bottom: 0;padding: 0.3em;box-sizing: border-box;text-align: center;}#sk-container-id-3 label.sk-toggleable__label-arrow:before {content: \"▸\";float: left;margin-right: 0.25em;color: #696969;}#sk-container-id-3 label.sk-toggleable__label-arrow:hover:before {color: black;}#sk-container-id-3 div.sk-estimator:hover label.sk-toggleable__label-arrow:before {color: black;}#sk-container-id-3 div.sk-toggleable__content {max-height: 0;max-width: 0;overflow: hidden;text-align: left;background-color: #f0f8ff;}#sk-container-id-3 div.sk-toggleable__content pre {margin: 0.2em;color: black;border-radius: 0.25em;background-color: #f0f8ff;}#sk-container-id-3 input.sk-toggleable__control:checked~div.sk-toggleable__content {max-height: 200px;max-width: 100%;overflow: auto;}#sk-container-id-3 input.sk-toggleable__control:checked~label.sk-toggleable__label-arrow:before {content: \"▾\";}#sk-container-id-3 div.sk-estimator input.sk-toggleable__control:checked~label.sk-toggleable__label {background-color: #d4ebff;}#sk-container-id-3 div.sk-label input.sk-toggleable__control:checked~label.sk-toggleable__label {background-color: #d4ebff;}#sk-container-id-3 input.sk-hidden--visually {border: 0;clip: rect(1px 1px 1px 1px);clip: rect(1px, 1px, 1px, 1px);height: 1px;margin: -1px;overflow: hidden;padding: 0;position: absolute;width: 1px;}#sk-container-id-3 div.sk-estimator {font-family: monospace;background-color: #f0f8ff;border: 1px dotted black;border-radius: 0.25em;box-sizing: border-box;margin-bottom: 0.5em;}#sk-container-id-3 div.sk-estimator:hover {background-color: #d4ebff;}#sk-container-id-3 div.sk-parallel-item::after {content: \"\";width: 100%;border-bottom: 1px solid gray;flex-grow: 1;}#sk-container-id-3 div.sk-label:hover label.sk-toggleable__label {background-color: #d4ebff;}#sk-container-id-3 div.sk-serial::before {content: \"\";position: absolute;border-left: 1px solid gray;box-sizing: border-box;top: 0;bottom: 0;left: 50%;z-index: 0;}#sk-container-id-3 div.sk-serial {display: flex;flex-direction: column;align-items: center;background-color: white;padding-right: 0.2em;padding-left: 0.2em;position: relative;}#sk-container-id-3 div.sk-item {position: relative;z-index: 1;}#sk-container-id-3 div.sk-parallel {display: flex;align-items: stretch;justify-content: center;background-color: white;position: relative;}#sk-container-id-3 div.sk-item::before, #sk-container-id-3 div.sk-parallel-item::before {content: \"\";position: absolute;border-left: 1px solid gray;box-sizing: border-box;top: 0;bottom: 0;left: 50%;z-index: -1;}#sk-container-id-3 div.sk-parallel-item {display: flex;flex-direction: column;z-index: 1;position: relative;background-color: white;}#sk-container-id-3 div.sk-parallel-item:first-child::after {align-self: flex-end;width: 50%;}#sk-container-id-3 div.sk-parallel-item:last-child::after {align-self: flex-start;width: 50%;}#sk-container-id-3 div.sk-parallel-item:only-child::after {width: 0;}#sk-container-id-3 div.sk-dashed-wrapped {border: 1px dashed gray;margin: 0 0.4em 0.5em 0.4em;box-sizing: border-box;padding-bottom: 0.4em;background-color: white;}#sk-container-id-3 div.sk-label label {font-family: monospace;font-weight: bold;display: inline-block;line-height: 1.2em;}#sk-container-id-3 div.sk-label-container {text-align: center;}#sk-container-id-3 div.sk-container {/* jupyter's `normalize.less` sets `[hidden] { display: none; }` but bootstrap.min.css set `[hidden] { display: none !important; }` so we also need the `!important` here to be able to override the default hidden behavior on the sphinx rendered scikit-learn.org. See: https://github.com/scikit-learn/scikit-learn/issues/21755 */display: inline-block !important;position: relative;}#sk-container-id-3 div.sk-text-repr-fallback {display: none;}</style><div id=\"sk-container-id-3\" class=\"sk-top-container\"><div class=\"sk-text-repr-fallback\"><pre>LinearRegression()</pre><b>In a Jupyter environment, please rerun this cell to show the HTML representation or trust the notebook. <br />On GitHub, the HTML representation is unable to render, please try loading this page with nbviewer.org.</b></div><div class=\"sk-container\" hidden><div class=\"sk-item\"><div class=\"sk-estimator sk-toggleable\"><input class=\"sk-toggleable__control sk-hidden--visually\" id=\"sk-estimator-id-3\" type=\"checkbox\" checked><label for=\"sk-estimator-id-3\" class=\"sk-toggleable__label sk-toggleable__label-arrow\">LinearRegression</label><div class=\"sk-toggleable__content\"><pre>LinearRegression()</pre></div></div></div></div></div>"
      ],
      "text/plain": [
       "LinearRegression()"
      ]
     },
     "execution_count": 63,
     "metadata": {},
     "output_type": "execute_result"
    }
   ],
   "source": [
    "# Training the model\n",
    "\n",
    "lin_reg.fit(X_train_sc,y_train )"
   ]
  },
  {
   "cell_type": "code",
   "execution_count": 64,
   "id": "a24eba22",
   "metadata": {},
   "outputs": [
    {
     "data": {
      "text/html": [
       "<div>\n",
       "<style scoped>\n",
       "    .dataframe tbody tr th:only-of-type {\n",
       "        vertical-align: middle;\n",
       "    }\n",
       "\n",
       "    .dataframe tbody tr th {\n",
       "        vertical-align: top;\n",
       "    }\n",
       "\n",
       "    .dataframe thead th {\n",
       "        text-align: right;\n",
       "    }\n",
       "</style>\n",
       "<table border=\"1\" class=\"dataframe\">\n",
       "  <thead>\n",
       "    <tr style=\"text-align: right;\">\n",
       "      <th></th>\n",
       "      <th>RMSE</th>\n",
       "      <th>MAE</th>\n",
       "      <th>R-squared</th>\n",
       "      <th>Adj. R-squared</th>\n",
       "      <th>MAPE</th>\n",
       "    </tr>\n",
       "  </thead>\n",
       "  <tbody>\n",
       "    <tr>\n",
       "      <th>0</th>\n",
       "      <td>10.473364</td>\n",
       "      <td>8.33083</td>\n",
       "      <td>0.666542</td>\n",
       "      <td>0.664053</td>\n",
       "      <td>7.687103</td>\n",
       "    </tr>\n",
       "  </tbody>\n",
       "</table>\n",
       "</div>"
      ],
      "text/plain": [
       "        RMSE      MAE  R-squared  Adj. R-squared      MAPE\n",
       "0  10.473364  8.33083   0.666542        0.664053  7.687103"
      ]
     },
     "execution_count": 64,
     "metadata": {},
     "output_type": "execute_result"
    }
   ],
   "source": [
    "model_train_2= model_performance_regression(lin_reg, X_train_sc, y_train)\n",
    "model_train_2"
   ]
  },
  {
   "cell_type": "markdown",
   "id": "b60e264b",
   "metadata": {},
   "source": [
    "##### Observations from the trained model\n",
    "\n",
    "- The model is making a RMSE error of 10.4 and a mean absolute error of 8.3\n",
    "- We have a R-squared of 66% and adjusted R squared of 66% in predicting the Systolic BP\n",
    "- We can improve our model to reduce the error and Adjusted R-squared"
   ]
  },
  {
   "cell_type": "code",
   "execution_count": 65,
   "id": "a7f31e56",
   "metadata": {},
   "outputs": [
    {
     "data": {
      "text/html": [
       "<div>\n",
       "<style scoped>\n",
       "    .dataframe tbody tr th:only-of-type {\n",
       "        vertical-align: middle;\n",
       "    }\n",
       "\n",
       "    .dataframe tbody tr th {\n",
       "        vertical-align: top;\n",
       "    }\n",
       "\n",
       "    .dataframe thead th {\n",
       "        text-align: right;\n",
       "    }\n",
       "</style>\n",
       "<table border=\"1\" class=\"dataframe\">\n",
       "  <thead>\n",
       "    <tr style=\"text-align: right;\">\n",
       "      <th></th>\n",
       "      <th>RMSE</th>\n",
       "      <th>MAE</th>\n",
       "      <th>R-squared</th>\n",
       "      <th>Adj. R-squared</th>\n",
       "      <th>MAPE</th>\n",
       "    </tr>\n",
       "  </thead>\n",
       "  <tbody>\n",
       "    <tr>\n",
       "      <th>0</th>\n",
       "      <td>11.396303</td>\n",
       "      <td>9.158318</td>\n",
       "      <td>0.611681</td>\n",
       "      <td>0.599794</td>\n",
       "      <td>8.457872</td>\n",
       "    </tr>\n",
       "  </tbody>\n",
       "</table>\n",
       "</div>"
      ],
      "text/plain": [
       "        RMSE       MAE  R-squared  Adj. R-squared      MAPE\n",
       "0  11.396303  9.158318   0.611681        0.599794  8.457872"
      ]
     },
     "execution_count": 65,
     "metadata": {},
     "output_type": "execute_result"
    }
   ],
   "source": [
    "# applying to the test data\n",
    "model_test_2 = model_performance_regression(lin_reg, X_test_sc, y_test)\n",
    "model_test_2"
   ]
  },
  {
   "cell_type": "markdown",
   "id": "7856da0f",
   "metadata": {},
   "source": [
    "##### Observations from the test model\n",
    "\n",
    "- The model is making a RMSE error of 11.3 and a mean absolute error of 9.1\n",
    "- We have a R-squared of 61% and adjusted R squared of 59% in predicting the Systolic BP\n",
    "- We can improve our model to reduce the error and Adjusted R-squared"
   ]
  },
  {
   "cell_type": "markdown",
   "id": "01986bc4",
   "metadata": {},
   "source": [
    "##### Benchmarking our features to 0.4 correlation with the Systolic BP from the heat map"
   ]
  },
  {
   "cell_type": "code",
   "execution_count": 66,
   "id": "ff948f1d",
   "metadata": {},
   "outputs": [],
   "source": [
    "# features with 0.4 corr with the systolic bp\n",
    "df_3 = df_2[['Age','DiastolicBP','BS','RiskLevel', 'SystolicBP']]"
   ]
  },
  {
   "cell_type": "code",
   "execution_count": 67,
   "id": "fa80a060",
   "metadata": {},
   "outputs": [],
   "source": [
    "X = df_3.drop('SystolicBP', axis =1)\n",
    "\n",
    "y = df_3['SystolicBP']"
   ]
  },
  {
   "cell_type": "code",
   "execution_count": 68,
   "id": "9978e2b1",
   "metadata": {},
   "outputs": [],
   "source": [
    " # split to train and test data\n",
    "X_train_v, X_test_v, y_train_v, y_test_v = train_test_split(X, y, test_size=0.2, random_state=0) # using 20% of the data for testing"
   ]
  },
  {
   "cell_type": "markdown",
   "id": "eb861372",
   "metadata": {},
   "source": [
    "##### Normalize the data"
   ]
  },
  {
   "cell_type": "code",
   "execution_count": 69,
   "id": "286ae608",
   "metadata": {},
   "outputs": [],
   "source": [
    "# create an instance of the scaler\n",
    "scaler = MinMaxScaler()"
   ]
  },
  {
   "cell_type": "code",
   "execution_count": 70,
   "id": "34973a1d",
   "metadata": {},
   "outputs": [],
   "source": [
    "X_train_s = scaler.fit_transform(X_train_v) # scaled train data\n",
    "X_test_s = scaler.transform(X_test_v) # scaled test data"
   ]
  },
  {
   "cell_type": "markdown",
   "id": "7f913923",
   "metadata": {},
   "source": [
    "##### Build the model"
   ]
  },
  {
   "cell_type": "code",
   "execution_count": 71,
   "id": "0ad57d0f",
   "metadata": {},
   "outputs": [],
   "source": [
    "#creating instance of the model\n",
    "\n",
    "lin_reg = LinearRegression()"
   ]
  },
  {
   "cell_type": "code",
   "execution_count": 72,
   "id": "b2d61c56",
   "metadata": {},
   "outputs": [
    {
     "data": {
      "text/html": [
       "<style>#sk-container-id-4 {color: black;background-color: white;}#sk-container-id-4 pre{padding: 0;}#sk-container-id-4 div.sk-toggleable {background-color: white;}#sk-container-id-4 label.sk-toggleable__label {cursor: pointer;display: block;width: 100%;margin-bottom: 0;padding: 0.3em;box-sizing: border-box;text-align: center;}#sk-container-id-4 label.sk-toggleable__label-arrow:before {content: \"▸\";float: left;margin-right: 0.25em;color: #696969;}#sk-container-id-4 label.sk-toggleable__label-arrow:hover:before {color: black;}#sk-container-id-4 div.sk-estimator:hover label.sk-toggleable__label-arrow:before {color: black;}#sk-container-id-4 div.sk-toggleable__content {max-height: 0;max-width: 0;overflow: hidden;text-align: left;background-color: #f0f8ff;}#sk-container-id-4 div.sk-toggleable__content pre {margin: 0.2em;color: black;border-radius: 0.25em;background-color: #f0f8ff;}#sk-container-id-4 input.sk-toggleable__control:checked~div.sk-toggleable__content {max-height: 200px;max-width: 100%;overflow: auto;}#sk-container-id-4 input.sk-toggleable__control:checked~label.sk-toggleable__label-arrow:before {content: \"▾\";}#sk-container-id-4 div.sk-estimator input.sk-toggleable__control:checked~label.sk-toggleable__label {background-color: #d4ebff;}#sk-container-id-4 div.sk-label input.sk-toggleable__control:checked~label.sk-toggleable__label {background-color: #d4ebff;}#sk-container-id-4 input.sk-hidden--visually {border: 0;clip: rect(1px 1px 1px 1px);clip: rect(1px, 1px, 1px, 1px);height: 1px;margin: -1px;overflow: hidden;padding: 0;position: absolute;width: 1px;}#sk-container-id-4 div.sk-estimator {font-family: monospace;background-color: #f0f8ff;border: 1px dotted black;border-radius: 0.25em;box-sizing: border-box;margin-bottom: 0.5em;}#sk-container-id-4 div.sk-estimator:hover {background-color: #d4ebff;}#sk-container-id-4 div.sk-parallel-item::after {content: \"\";width: 100%;border-bottom: 1px solid gray;flex-grow: 1;}#sk-container-id-4 div.sk-label:hover label.sk-toggleable__label {background-color: #d4ebff;}#sk-container-id-4 div.sk-serial::before {content: \"\";position: absolute;border-left: 1px solid gray;box-sizing: border-box;top: 0;bottom: 0;left: 50%;z-index: 0;}#sk-container-id-4 div.sk-serial {display: flex;flex-direction: column;align-items: center;background-color: white;padding-right: 0.2em;padding-left: 0.2em;position: relative;}#sk-container-id-4 div.sk-item {position: relative;z-index: 1;}#sk-container-id-4 div.sk-parallel {display: flex;align-items: stretch;justify-content: center;background-color: white;position: relative;}#sk-container-id-4 div.sk-item::before, #sk-container-id-4 div.sk-parallel-item::before {content: \"\";position: absolute;border-left: 1px solid gray;box-sizing: border-box;top: 0;bottom: 0;left: 50%;z-index: -1;}#sk-container-id-4 div.sk-parallel-item {display: flex;flex-direction: column;z-index: 1;position: relative;background-color: white;}#sk-container-id-4 div.sk-parallel-item:first-child::after {align-self: flex-end;width: 50%;}#sk-container-id-4 div.sk-parallel-item:last-child::after {align-self: flex-start;width: 50%;}#sk-container-id-4 div.sk-parallel-item:only-child::after {width: 0;}#sk-container-id-4 div.sk-dashed-wrapped {border: 1px dashed gray;margin: 0 0.4em 0.5em 0.4em;box-sizing: border-box;padding-bottom: 0.4em;background-color: white;}#sk-container-id-4 div.sk-label label {font-family: monospace;font-weight: bold;display: inline-block;line-height: 1.2em;}#sk-container-id-4 div.sk-label-container {text-align: center;}#sk-container-id-4 div.sk-container {/* jupyter's `normalize.less` sets `[hidden] { display: none; }` but bootstrap.min.css set `[hidden] { display: none !important; }` so we also need the `!important` here to be able to override the default hidden behavior on the sphinx rendered scikit-learn.org. See: https://github.com/scikit-learn/scikit-learn/issues/21755 */display: inline-block !important;position: relative;}#sk-container-id-4 div.sk-text-repr-fallback {display: none;}</style><div id=\"sk-container-id-4\" class=\"sk-top-container\"><div class=\"sk-text-repr-fallback\"><pre>LinearRegression()</pre><b>In a Jupyter environment, please rerun this cell to show the HTML representation or trust the notebook. <br />On GitHub, the HTML representation is unable to render, please try loading this page with nbviewer.org.</b></div><div class=\"sk-container\" hidden><div class=\"sk-item\"><div class=\"sk-estimator sk-toggleable\"><input class=\"sk-toggleable__control sk-hidden--visually\" id=\"sk-estimator-id-4\" type=\"checkbox\" checked><label for=\"sk-estimator-id-4\" class=\"sk-toggleable__label sk-toggleable__label-arrow\">LinearRegression</label><div class=\"sk-toggleable__content\"><pre>LinearRegression()</pre></div></div></div></div></div>"
      ],
      "text/plain": [
       "LinearRegression()"
      ]
     },
     "execution_count": 72,
     "metadata": {},
     "output_type": "execute_result"
    }
   ],
   "source": [
    "# Training the model\n",
    "\n",
    "lin_reg.fit(X_train_s,y_train_v )"
   ]
  },
  {
   "cell_type": "code",
   "execution_count": 73,
   "id": "f0c3d4c6",
   "metadata": {},
   "outputs": [
    {
     "data": {
      "text/html": [
       "<div>\n",
       "<style scoped>\n",
       "    .dataframe tbody tr th:only-of-type {\n",
       "        vertical-align: middle;\n",
       "    }\n",
       "\n",
       "    .dataframe tbody tr th {\n",
       "        vertical-align: top;\n",
       "    }\n",
       "\n",
       "    .dataframe thead th {\n",
       "        text-align: right;\n",
       "    }\n",
       "</style>\n",
       "<table border=\"1\" class=\"dataframe\">\n",
       "  <thead>\n",
       "    <tr style=\"text-align: right;\">\n",
       "      <th></th>\n",
       "      <th>RMSE</th>\n",
       "      <th>MAE</th>\n",
       "      <th>R-squared</th>\n",
       "      <th>Adj. R-squared</th>\n",
       "      <th>MAPE</th>\n",
       "    </tr>\n",
       "  </thead>\n",
       "  <tbody>\n",
       "    <tr>\n",
       "      <th>0</th>\n",
       "      <td>10.47378</td>\n",
       "      <td>8.329035</td>\n",
       "      <td>0.666515</td>\n",
       "      <td>0.66486</td>\n",
       "      <td>7.686362</td>\n",
       "    </tr>\n",
       "  </tbody>\n",
       "</table>\n",
       "</div>"
      ],
      "text/plain": [
       "       RMSE       MAE  R-squared  Adj. R-squared      MAPE\n",
       "0  10.47378  8.329035   0.666515         0.66486  7.686362"
      ]
     },
     "execution_count": 73,
     "metadata": {},
     "output_type": "execute_result"
    }
   ],
   "source": [
    "model_train_3= model_performance_regression(lin_reg, X_train_s, y_train_v)\n",
    "model_train_3"
   ]
  },
  {
   "cell_type": "markdown",
   "id": "39ab65ee",
   "metadata": {},
   "source": [
    "##### Observations from the trained model\n",
    "\n",
    "- The model is making a RMSE error of 10.4 and a mean absolute error of 8.3\n",
    "- We have a R-squared of 66% and adjusted R squared of 66% in predicting the Systolic BP\n",
    "- We can improve our model to reduce the error and Adjusted R-squared"
   ]
  },
  {
   "cell_type": "code",
   "execution_count": 74,
   "id": "785b7458",
   "metadata": {},
   "outputs": [
    {
     "data": {
      "text/html": [
       "<div>\n",
       "<style scoped>\n",
       "    .dataframe tbody tr th:only-of-type {\n",
       "        vertical-align: middle;\n",
       "    }\n",
       "\n",
       "    .dataframe tbody tr th {\n",
       "        vertical-align: top;\n",
       "    }\n",
       "\n",
       "    .dataframe thead th {\n",
       "        text-align: right;\n",
       "    }\n",
       "</style>\n",
       "<table border=\"1\" class=\"dataframe\">\n",
       "  <thead>\n",
       "    <tr style=\"text-align: right;\">\n",
       "      <th></th>\n",
       "      <th>RMSE</th>\n",
       "      <th>MAE</th>\n",
       "      <th>R-squared</th>\n",
       "      <th>Adj. R-squared</th>\n",
       "      <th>MAPE</th>\n",
       "    </tr>\n",
       "  </thead>\n",
       "  <tbody>\n",
       "    <tr>\n",
       "      <th>0</th>\n",
       "      <td>11.397162</td>\n",
       "      <td>9.157717</td>\n",
       "      <td>0.611623</td>\n",
       "      <td>0.603777</td>\n",
       "      <td>8.458817</td>\n",
       "    </tr>\n",
       "  </tbody>\n",
       "</table>\n",
       "</div>"
      ],
      "text/plain": [
       "        RMSE       MAE  R-squared  Adj. R-squared      MAPE\n",
       "0  11.397162  9.157717   0.611623        0.603777  8.458817"
      ]
     },
     "execution_count": 74,
     "metadata": {},
     "output_type": "execute_result"
    }
   ],
   "source": [
    "# applying to the test data\n",
    "model_test_3 = model_performance_regression(lin_reg, X_test_s, y_test_v)\n",
    "model_test_3"
   ]
  },
  {
   "cell_type": "markdown",
   "id": "c8b70c2b",
   "metadata": {},
   "source": [
    "##### Observations from the test model\n",
    "\n",
    "- The model is making a RMSE error of 11.3 and a mean absolute error of 9.1\n",
    "- We have a R-squared of 61% and adjusted R squared of 60% in predicting the Systolic BP\n",
    "- We can improve our model to reduce the error and Adjusted R-squared"
   ]
  },
  {
   "cell_type": "markdown",
   "id": "03f5c291",
   "metadata": {},
   "source": [
    " ### Forward Feature Selection"
   ]
  },
  {
   "cell_type": "code",
   "execution_count": 75,
   "id": "f9574365",
   "metadata": {},
   "outputs": [
    {
     "name": "stderr",
     "output_type": "stream",
     "text": [
      "[Parallel(n_jobs=-1)]: Using backend LokyBackend with 4 concurrent workers.\n",
      "[Parallel(n_jobs=-1)]: Done   3 out of   6 | elapsed:    7.2s remaining:    7.2s\n",
      "[Parallel(n_jobs=-1)]: Done   6 out of   6 | elapsed:    7.4s finished\n",
      "\n",
      "[2023-05-12 10:58:56] Features: 1/6 -- score: 0.6255976590267925[Parallel(n_jobs=-1)]: Using backend LokyBackend with 4 concurrent workers.\n",
      "[Parallel(n_jobs=-1)]: Done   5 out of   5 | elapsed:    0.0s finished\n",
      "\n",
      "[2023-05-12 10:58:56] Features: 2/6 -- score: 0.6407321417113477[Parallel(n_jobs=-1)]: Using backend LokyBackend with 4 concurrent workers.\n",
      "[Parallel(n_jobs=-1)]: Done   4 out of   4 | elapsed:    0.0s finished\n",
      "\n",
      "[2023-05-12 10:58:57] Features: 3/6 -- score: 0.6511513005124303[Parallel(n_jobs=-1)]: Using backend LokyBackend with 4 concurrent workers.\n",
      "[Parallel(n_jobs=-1)]: Done   3 out of   3 | elapsed:    0.0s finished\n",
      "\n",
      "[2023-05-12 10:58:57] Features: 4/6 -- score: 0.65598393492297[Parallel(n_jobs=-1)]: Using backend LokyBackend with 4 concurrent workers.\n",
      "[Parallel(n_jobs=-1)]: Done   2 out of   2 | elapsed:    0.0s finished\n",
      "\n",
      "[2023-05-12 10:58:57] Features: 5/6 -- score: 0.65598393492297[Parallel(n_jobs=-1)]: Using backend LokyBackend with 4 concurrent workers.\n",
      "[Parallel(n_jobs=-1)]: Done   1 out of   1 | elapsed:    0.0s finished\n",
      "\n",
      "[2023-05-12 10:58:57] Features: 6/6 -- score: 0.6546467062362815"
     ]
    },
    {
     "data": {
      "text/html": [
       "<style>#sk-container-id-5 {color: black;background-color: white;}#sk-container-id-5 pre{padding: 0;}#sk-container-id-5 div.sk-toggleable {background-color: white;}#sk-container-id-5 label.sk-toggleable__label {cursor: pointer;display: block;width: 100%;margin-bottom: 0;padding: 0.3em;box-sizing: border-box;text-align: center;}#sk-container-id-5 label.sk-toggleable__label-arrow:before {content: \"▸\";float: left;margin-right: 0.25em;color: #696969;}#sk-container-id-5 label.sk-toggleable__label-arrow:hover:before {color: black;}#sk-container-id-5 div.sk-estimator:hover label.sk-toggleable__label-arrow:before {color: black;}#sk-container-id-5 div.sk-toggleable__content {max-height: 0;max-width: 0;overflow: hidden;text-align: left;background-color: #f0f8ff;}#sk-container-id-5 div.sk-toggleable__content pre {margin: 0.2em;color: black;border-radius: 0.25em;background-color: #f0f8ff;}#sk-container-id-5 input.sk-toggleable__control:checked~div.sk-toggleable__content {max-height: 200px;max-width: 100%;overflow: auto;}#sk-container-id-5 input.sk-toggleable__control:checked~label.sk-toggleable__label-arrow:before {content: \"▾\";}#sk-container-id-5 div.sk-estimator input.sk-toggleable__control:checked~label.sk-toggleable__label {background-color: #d4ebff;}#sk-container-id-5 div.sk-label input.sk-toggleable__control:checked~label.sk-toggleable__label {background-color: #d4ebff;}#sk-container-id-5 input.sk-hidden--visually {border: 0;clip: rect(1px 1px 1px 1px);clip: rect(1px, 1px, 1px, 1px);height: 1px;margin: -1px;overflow: hidden;padding: 0;position: absolute;width: 1px;}#sk-container-id-5 div.sk-estimator {font-family: monospace;background-color: #f0f8ff;border: 1px dotted black;border-radius: 0.25em;box-sizing: border-box;margin-bottom: 0.5em;}#sk-container-id-5 div.sk-estimator:hover {background-color: #d4ebff;}#sk-container-id-5 div.sk-parallel-item::after {content: \"\";width: 100%;border-bottom: 1px solid gray;flex-grow: 1;}#sk-container-id-5 div.sk-label:hover label.sk-toggleable__label {background-color: #d4ebff;}#sk-container-id-5 div.sk-serial::before {content: \"\";position: absolute;border-left: 1px solid gray;box-sizing: border-box;top: 0;bottom: 0;left: 50%;z-index: 0;}#sk-container-id-5 div.sk-serial {display: flex;flex-direction: column;align-items: center;background-color: white;padding-right: 0.2em;padding-left: 0.2em;position: relative;}#sk-container-id-5 div.sk-item {position: relative;z-index: 1;}#sk-container-id-5 div.sk-parallel {display: flex;align-items: stretch;justify-content: center;background-color: white;position: relative;}#sk-container-id-5 div.sk-item::before, #sk-container-id-5 div.sk-parallel-item::before {content: \"\";position: absolute;border-left: 1px solid gray;box-sizing: border-box;top: 0;bottom: 0;left: 50%;z-index: -1;}#sk-container-id-5 div.sk-parallel-item {display: flex;flex-direction: column;z-index: 1;position: relative;background-color: white;}#sk-container-id-5 div.sk-parallel-item:first-child::after {align-self: flex-end;width: 50%;}#sk-container-id-5 div.sk-parallel-item:last-child::after {align-self: flex-start;width: 50%;}#sk-container-id-5 div.sk-parallel-item:only-child::after {width: 0;}#sk-container-id-5 div.sk-dashed-wrapped {border: 1px dashed gray;margin: 0 0.4em 0.5em 0.4em;box-sizing: border-box;padding-bottom: 0.4em;background-color: white;}#sk-container-id-5 div.sk-label label {font-family: monospace;font-weight: bold;display: inline-block;line-height: 1.2em;}#sk-container-id-5 div.sk-label-container {text-align: center;}#sk-container-id-5 div.sk-container {/* jupyter's `normalize.less` sets `[hidden] { display: none; }` but bootstrap.min.css set `[hidden] { display: none !important; }` so we also need the `!important` here to be able to override the default hidden behavior on the sphinx rendered scikit-learn.org. See: https://github.com/scikit-learn/scikit-learn/issues/21755 */display: inline-block !important;position: relative;}#sk-container-id-5 div.sk-text-repr-fallback {display: none;}</style><div id=\"sk-container-id-5\" class=\"sk-top-container\"><div class=\"sk-text-repr-fallback\"><pre>SequentialFeatureSelector(estimator=LinearRegression(), k_features=(6, 6),\n",
       "                          n_jobs=-1, scoring=&#x27;r2&#x27;, verbose=2)</pre><b>In a Jupyter environment, please rerun this cell to show the HTML representation or trust the notebook. <br />On GitHub, the HTML representation is unable to render, please try loading this page with nbviewer.org.</b></div><div class=\"sk-container\" hidden><div class=\"sk-item sk-dashed-wrapped\"><div class=\"sk-label-container\"><div class=\"sk-label sk-toggleable\"><input class=\"sk-toggleable__control sk-hidden--visually\" id=\"sk-estimator-id-5\" type=\"checkbox\" ><label for=\"sk-estimator-id-5\" class=\"sk-toggleable__label sk-toggleable__label-arrow\">SequentialFeatureSelector</label><div class=\"sk-toggleable__content\"><pre>SequentialFeatureSelector(estimator=LinearRegression(), k_features=(6, 6),\n",
       "                          n_jobs=-1, scoring=&#x27;r2&#x27;, verbose=2)</pre></div></div></div><div class=\"sk-parallel\"><div class=\"sk-parallel-item\"><div class=\"sk-item\"><div class=\"sk-label-container\"><div class=\"sk-label sk-toggleable\"><input class=\"sk-toggleable__control sk-hidden--visually\" id=\"sk-estimator-id-6\" type=\"checkbox\" ><label for=\"sk-estimator-id-6\" class=\"sk-toggleable__label sk-toggleable__label-arrow\">estimator: LinearRegression</label><div class=\"sk-toggleable__content\"><pre>LinearRegression()</pre></div></div></div><div class=\"sk-serial\"><div class=\"sk-item\"><div class=\"sk-estimator sk-toggleable\"><input class=\"sk-toggleable__control sk-hidden--visually\" id=\"sk-estimator-id-7\" type=\"checkbox\" ><label for=\"sk-estimator-id-7\" class=\"sk-toggleable__label sk-toggleable__label-arrow\">LinearRegression</label><div class=\"sk-toggleable__content\"><pre>LinearRegression()</pre></div></div></div></div></div></div></div></div></div></div>"
      ],
      "text/plain": [
       "SequentialFeatureSelector(estimator=LinearRegression(), k_features=(6, 6),\n",
       "                          n_jobs=-1, scoring='r2', verbose=2)"
      ]
     },
     "execution_count": 75,
     "metadata": {},
     "output_type": "execute_result"
    }
   ],
   "source": [
    "# initializing the sequential feature selector with hyper-parameters\n",
    "sfx = SequentialFeatureSelector(estimator= lin_reg,\n",
    "                               k_features= X_train.shape[1],\n",
    "                               n_jobs= -1,\n",
    "                               verbose= 2)\n",
    "sfx.fit(X_train_sc, y_train)"
   ]
  },
  {
   "cell_type": "code",
   "execution_count": 76,
   "id": "e56bf64b",
   "metadata": {},
   "outputs": [
    {
     "data": {
      "image/png": "[encoded data removed]",
      "text/plain": [
       "<Figure size 864x360 with 1 Axes>"
      ]
     },
     "metadata": {
      "needs_background": "light"
     },
     "output_type": "display_data"
    }
   ],
   "source": [
    "# visualizing to choose the number of features\n",
    "fig1 = plot_sfs(sfx.get_metric_dict(), kind=\"std_err\", figsize = (12, 5))\n",
    "plt.xticks(rotation = 90)\n",
    "plt.show()"
   ]
  },
  {
   "cell_type": "code",
   "execution_count": 77,
   "id": "fa73c2eb",
   "metadata": {},
   "outputs": [
    {
     "name": "stderr",
     "output_type": "stream",
     "text": [
      "[Parallel(n_jobs=-1)]: Using backend LokyBackend with 4 concurrent workers.\n",
      "[Parallel(n_jobs=-1)]: Done   3 out of   6 | elapsed:    0.0s remaining:    0.0s\n",
      "[Parallel(n_jobs=-1)]: Done   6 out of   6 | elapsed:    0.0s finished\n",
      "\n",
      "[2023-05-12 10:58:57] Features: 1/4 -- score: 0.6255976590267925[Parallel(n_jobs=-1)]: Using backend LokyBackend with 4 concurrent workers.\n",
      "[Parallel(n_jobs=-1)]: Done   5 out of   5 | elapsed:    0.0s finished\n",
      "\n",
      "[2023-05-12 10:58:57] Features: 2/4 -- score: 0.6407321417113477[Parallel(n_jobs=-1)]: Using backend LokyBackend with 4 concurrent workers.\n",
      "[Parallel(n_jobs=-1)]: Done   4 out of   4 | elapsed:    0.0s finished\n",
      "\n",
      "[2023-05-12 10:58:57] Features: 3/4 -- score: 0.6511513005124303[Parallel(n_jobs=-1)]: Using backend LokyBackend with 4 concurrent workers.\n",
      "[Parallel(n_jobs=-1)]: Done   3 out of   3 | elapsed:    0.1s finished\n",
      "\n",
      "[2023-05-12 10:58:58] Features: 4/4 -- score: 0.65598393492297"
     ]
    },
    {
     "data": {
      "text/html": [
       "<style>#sk-container-id-6 {color: black;background-color: white;}#sk-container-id-6 pre{padding: 0;}#sk-container-id-6 div.sk-toggleable {background-color: white;}#sk-container-id-6 label.sk-toggleable__label {cursor: pointer;display: block;width: 100%;margin-bottom: 0;padding: 0.3em;box-sizing: border-box;text-align: center;}#sk-container-id-6 label.sk-toggleable__label-arrow:before {content: \"▸\";float: left;margin-right: 0.25em;color: #696969;}#sk-container-id-6 label.sk-toggleable__label-arrow:hover:before {color: black;}#sk-container-id-6 div.sk-estimator:hover label.sk-toggleable__label-arrow:before {color: black;}#sk-container-id-6 div.sk-toggleable__content {max-height: 0;max-width: 0;overflow: hidden;text-align: left;background-color: #f0f8ff;}#sk-container-id-6 div.sk-toggleable__content pre {margin: 0.2em;color: black;border-radius: 0.25em;background-color: #f0f8ff;}#sk-container-id-6 input.sk-toggleable__control:checked~div.sk-toggleable__content {max-height: 200px;max-width: 100%;overflow: auto;}#sk-container-id-6 input.sk-toggleable__control:checked~label.sk-toggleable__label-arrow:before {content: \"▾\";}#sk-container-id-6 div.sk-estimator input.sk-toggleable__control:checked~label.sk-toggleable__label {background-color: #d4ebff;}#sk-container-id-6 div.sk-label input.sk-toggleable__control:checked~label.sk-toggleable__label {background-color: #d4ebff;}#sk-container-id-6 input.sk-hidden--visually {border: 0;clip: rect(1px 1px 1px 1px);clip: rect(1px, 1px, 1px, 1px);height: 1px;margin: -1px;overflow: hidden;padding: 0;position: absolute;width: 1px;}#sk-container-id-6 div.sk-estimator {font-family: monospace;background-color: #f0f8ff;border: 1px dotted black;border-radius: 0.25em;box-sizing: border-box;margin-bottom: 0.5em;}#sk-container-id-6 div.sk-estimator:hover {background-color: #d4ebff;}#sk-container-id-6 div.sk-parallel-item::after {content: \"\";width: 100%;border-bottom: 1px solid gray;flex-grow: 1;}#sk-container-id-6 div.sk-label:hover label.sk-toggleable__label {background-color: #d4ebff;}#sk-container-id-6 div.sk-serial::before {content: \"\";position: absolute;border-left: 1px solid gray;box-sizing: border-box;top: 0;bottom: 0;left: 50%;z-index: 0;}#sk-container-id-6 div.sk-serial {display: flex;flex-direction: column;align-items: center;background-color: white;padding-right: 0.2em;padding-left: 0.2em;position: relative;}#sk-container-id-6 div.sk-item {position: relative;z-index: 1;}#sk-container-id-6 div.sk-parallel {display: flex;align-items: stretch;justify-content: center;background-color: white;position: relative;}#sk-container-id-6 div.sk-item::before, #sk-container-id-6 div.sk-parallel-item::before {content: \"\";position: absolute;border-left: 1px solid gray;box-sizing: border-box;top: 0;bottom: 0;left: 50%;z-index: -1;}#sk-container-id-6 div.sk-parallel-item {display: flex;flex-direction: column;z-index: 1;position: relative;background-color: white;}#sk-container-id-6 div.sk-parallel-item:first-child::after {align-self: flex-end;width: 50%;}#sk-container-id-6 div.sk-parallel-item:last-child::after {align-self: flex-start;width: 50%;}#sk-container-id-6 div.sk-parallel-item:only-child::after {width: 0;}#sk-container-id-6 div.sk-dashed-wrapped {border: 1px dashed gray;margin: 0 0.4em 0.5em 0.4em;box-sizing: border-box;padding-bottom: 0.4em;background-color: white;}#sk-container-id-6 div.sk-label label {font-family: monospace;font-weight: bold;display: inline-block;line-height: 1.2em;}#sk-container-id-6 div.sk-label-container {text-align: center;}#sk-container-id-6 div.sk-container {/* jupyter's `normalize.less` sets `[hidden] { display: none; }` but bootstrap.min.css set `[hidden] { display: none !important; }` so we also need the `!important` here to be able to override the default hidden behavior on the sphinx rendered scikit-learn.org. See: https://github.com/scikit-learn/scikit-learn/issues/21755 */display: inline-block !important;position: relative;}#sk-container-id-6 div.sk-text-repr-fallback {display: none;}</style><div id=\"sk-container-id-6\" class=\"sk-top-container\"><div class=\"sk-text-repr-fallback\"><pre>SequentialFeatureSelector(estimator=LinearRegression(), k_features=(4, 4),\n",
       "                          n_jobs=-1, scoring=&#x27;r2&#x27;, verbose=2)</pre><b>In a Jupyter environment, please rerun this cell to show the HTML representation or trust the notebook. <br />On GitHub, the HTML representation is unable to render, please try loading this page with nbviewer.org.</b></div><div class=\"sk-container\" hidden><div class=\"sk-item sk-dashed-wrapped\"><div class=\"sk-label-container\"><div class=\"sk-label sk-toggleable\"><input class=\"sk-toggleable__control sk-hidden--visually\" id=\"sk-estimator-id-8\" type=\"checkbox\" ><label for=\"sk-estimator-id-8\" class=\"sk-toggleable__label sk-toggleable__label-arrow\">SequentialFeatureSelector</label><div class=\"sk-toggleable__content\"><pre>SequentialFeatureSelector(estimator=LinearRegression(), k_features=(4, 4),\n",
       "                          n_jobs=-1, scoring=&#x27;r2&#x27;, verbose=2)</pre></div></div></div><div class=\"sk-parallel\"><div class=\"sk-parallel-item\"><div class=\"sk-item\"><div class=\"sk-label-container\"><div class=\"sk-label sk-toggleable\"><input class=\"sk-toggleable__control sk-hidden--visually\" id=\"sk-estimator-id-9\" type=\"checkbox\" ><label for=\"sk-estimator-id-9\" class=\"sk-toggleable__label sk-toggleable__label-arrow\">estimator: LinearRegression</label><div class=\"sk-toggleable__content\"><pre>LinearRegression()</pre></div></div></div><div class=\"sk-serial\"><div class=\"sk-item\"><div class=\"sk-estimator sk-toggleable\"><input class=\"sk-toggleable__control sk-hidden--visually\" id=\"sk-estimator-id-10\" type=\"checkbox\" ><label for=\"sk-estimator-id-10\" class=\"sk-toggleable__label sk-toggleable__label-arrow\">LinearRegression</label><div class=\"sk-toggleable__content\"><pre>LinearRegression()</pre></div></div></div></div></div></div></div></div></div></div>"
      ],
      "text/plain": [
       "SequentialFeatureSelector(estimator=LinearRegression(), k_features=(4, 4),\n",
       "                          n_jobs=-1, scoring='r2', verbose=2)"
      ]
     },
     "execution_count": 77,
     "metadata": {},
     "output_type": "execute_result"
    }
   ],
   "source": [
    "# applyin the 4 features to the sequential feature selector\n",
    "sfs = SequentialFeatureSelector(estimator=lin_reg,\n",
    "                               k_features=4,\n",
    "                               n_jobs=-1,\n",
    "                               verbose=2)\n",
    "sfs.fit(X_train_sc, y_train)"
   ]
  },
  {
   "cell_type": "code",
   "execution_count": 78,
   "id": "56734865",
   "metadata": {},
   "outputs": [],
   "source": [
    "feat_cols = list(sfs.k_feature_idx_) #index of the feature in the original data, converting it to list"
   ]
  },
  {
   "cell_type": "code",
   "execution_count": 79,
   "id": "18cdf98f",
   "metadata": {},
   "outputs": [
    {
     "data": {
      "text/plain": [
       "[0, 1, 2, 5]"
      ]
     },
     "execution_count": 79,
     "metadata": {},
     "output_type": "execute_result"
    }
   ],
   "source": [
    "feat_cols"
   ]
  },
  {
   "cell_type": "markdown",
   "id": "f6b50fa3",
   "metadata": {},
   "source": [
    "##### These are the index of the 4 important features to the model\n",
    "0 - Age\n",
    "\n",
    "1 - Diastolic BP\n",
    "\n",
    "2 - Blood Sugar\n",
    "\n",
    "5 - Risk Level"
   ]
  },
  {
   "cell_type": "code",
   "execution_count": 80,
   "id": "0f24360f",
   "metadata": {},
   "outputs": [],
   "source": [
    "# select the important features in training and test sets\n",
    "X_train_new = X_train[X_train.columns[feat_cols]]\n",
    "X_test_new = X_test[X_train.columns[feat_cols]]"
   ]
  },
  {
   "cell_type": "code",
   "execution_count": 81,
   "id": "7ba7cebf",
   "metadata": {},
   "outputs": [],
   "source": [
    "# we also need to normalize the new train and test sets\n",
    "\n",
    "\n",
    "scaler_new = MinMaxScaler() #instance\n",
    "X_train_new_sc = scaler_new.fit_transform(X_train_new)\n",
    "X_test_new_sc = scaler_new.transform(X_test_new)"
   ]
  },
  {
   "cell_type": "markdown",
   "id": "7fa85190",
   "metadata": {},
   "source": [
    "### Re-build the models with the new features"
   ]
  },
  {
   "cell_type": "code",
   "execution_count": 82,
   "id": "4b61009d",
   "metadata": {},
   "outputs": [
    {
     "data": {
      "text/html": [
       "<style>#sk-container-id-7 {color: black;background-color: white;}#sk-container-id-7 pre{padding: 0;}#sk-container-id-7 div.sk-toggleable {background-color: white;}#sk-container-id-7 label.sk-toggleable__label {cursor: pointer;display: block;width: 100%;margin-bottom: 0;padding: 0.3em;box-sizing: border-box;text-align: center;}#sk-container-id-7 label.sk-toggleable__label-arrow:before {content: \"▸\";float: left;margin-right: 0.25em;color: #696969;}#sk-container-id-7 label.sk-toggleable__label-arrow:hover:before {color: black;}#sk-container-id-7 div.sk-estimator:hover label.sk-toggleable__label-arrow:before {color: black;}#sk-container-id-7 div.sk-toggleable__content {max-height: 0;max-width: 0;overflow: hidden;text-align: left;background-color: #f0f8ff;}#sk-container-id-7 div.sk-toggleable__content pre {margin: 0.2em;color: black;border-radius: 0.25em;background-color: #f0f8ff;}#sk-container-id-7 input.sk-toggleable__control:checked~div.sk-toggleable__content {max-height: 200px;max-width: 100%;overflow: auto;}#sk-container-id-7 input.sk-toggleable__control:checked~label.sk-toggleable__label-arrow:before {content: \"▾\";}#sk-container-id-7 div.sk-estimator input.sk-toggleable__control:checked~label.sk-toggleable__label {background-color: #d4ebff;}#sk-container-id-7 div.sk-label input.sk-toggleable__control:checked~label.sk-toggleable__label {background-color: #d4ebff;}#sk-container-id-7 input.sk-hidden--visually {border: 0;clip: rect(1px 1px 1px 1px);clip: rect(1px, 1px, 1px, 1px);height: 1px;margin: -1px;overflow: hidden;padding: 0;position: absolute;width: 1px;}#sk-container-id-7 div.sk-estimator {font-family: monospace;background-color: #f0f8ff;border: 1px dotted black;border-radius: 0.25em;box-sizing: border-box;margin-bottom: 0.5em;}#sk-container-id-7 div.sk-estimator:hover {background-color: #d4ebff;}#sk-container-id-7 div.sk-parallel-item::after {content: \"\";width: 100%;border-bottom: 1px solid gray;flex-grow: 1;}#sk-container-id-7 div.sk-label:hover label.sk-toggleable__label {background-color: #d4ebff;}#sk-container-id-7 div.sk-serial::before {content: \"\";position: absolute;border-left: 1px solid gray;box-sizing: border-box;top: 0;bottom: 0;left: 50%;z-index: 0;}#sk-container-id-7 div.sk-serial {display: flex;flex-direction: column;align-items: center;background-color: white;padding-right: 0.2em;padding-left: 0.2em;position: relative;}#sk-container-id-7 div.sk-item {position: relative;z-index: 1;}#sk-container-id-7 div.sk-parallel {display: flex;align-items: stretch;justify-content: center;background-color: white;position: relative;}#sk-container-id-7 div.sk-item::before, #sk-container-id-7 div.sk-parallel-item::before {content: \"\";position: absolute;border-left: 1px solid gray;box-sizing: border-box;top: 0;bottom: 0;left: 50%;z-index: -1;}#sk-container-id-7 div.sk-parallel-item {display: flex;flex-direction: column;z-index: 1;position: relative;background-color: white;}#sk-container-id-7 div.sk-parallel-item:first-child::after {align-self: flex-end;width: 50%;}#sk-container-id-7 div.sk-parallel-item:last-child::after {align-self: flex-start;width: 50%;}#sk-container-id-7 div.sk-parallel-item:only-child::after {width: 0;}#sk-container-id-7 div.sk-dashed-wrapped {border: 1px dashed gray;margin: 0 0.4em 0.5em 0.4em;box-sizing: border-box;padding-bottom: 0.4em;background-color: white;}#sk-container-id-7 div.sk-label label {font-family: monospace;font-weight: bold;display: inline-block;line-height: 1.2em;}#sk-container-id-7 div.sk-label-container {text-align: center;}#sk-container-id-7 div.sk-container {/* jupyter's `normalize.less` sets `[hidden] { display: none; }` but bootstrap.min.css set `[hidden] { display: none !important; }` so we also need the `!important` here to be able to override the default hidden behavior on the sphinx rendered scikit-learn.org. See: https://github.com/scikit-learn/scikit-learn/issues/21755 */display: inline-block !important;position: relative;}#sk-container-id-7 div.sk-text-repr-fallback {display: none;}</style><div id=\"sk-container-id-7\" class=\"sk-top-container\"><div class=\"sk-text-repr-fallback\"><pre>LinearRegression()</pre><b>In a Jupyter environment, please rerun this cell to show the HTML representation or trust the notebook. <br />On GitHub, the HTML representation is unable to render, please try loading this page with nbviewer.org.</b></div><div class=\"sk-container\" hidden><div class=\"sk-item\"><div class=\"sk-estimator sk-toggleable\"><input class=\"sk-toggleable__control sk-hidden--visually\" id=\"sk-estimator-id-11\" type=\"checkbox\" checked><label for=\"sk-estimator-id-11\" class=\"sk-toggleable__label sk-toggleable__label-arrow\">LinearRegression</label><div class=\"sk-toggleable__content\"><pre>LinearRegression()</pre></div></div></div></div></div>"
      ],
      "text/plain": [
       "LinearRegression()"
      ]
     },
     "execution_count": 82,
     "metadata": {},
     "output_type": "execute_result"
    }
   ],
   "source": [
    "lin_reg2 = LinearRegression()\n",
    "lin_reg2.fit(X_train_new_sc,y_train)"
   ]
  },
  {
   "cell_type": "code",
   "execution_count": 83,
   "id": "bfe39d10",
   "metadata": {},
   "outputs": [
    {
     "data": {
      "text/html": [
       "<div>\n",
       "<style scoped>\n",
       "    .dataframe tbody tr th:only-of-type {\n",
       "        vertical-align: middle;\n",
       "    }\n",
       "\n",
       "    .dataframe tbody tr th {\n",
       "        vertical-align: top;\n",
       "    }\n",
       "\n",
       "    .dataframe thead th {\n",
       "        text-align: right;\n",
       "    }\n",
       "</style>\n",
       "<table border=\"1\" class=\"dataframe\">\n",
       "  <thead>\n",
       "    <tr style=\"text-align: right;\">\n",
       "      <th></th>\n",
       "      <th>RMSE</th>\n",
       "      <th>MAE</th>\n",
       "      <th>R-squared</th>\n",
       "      <th>Adj. R-squared</th>\n",
       "      <th>MAPE</th>\n",
       "    </tr>\n",
       "  </thead>\n",
       "  <tbody>\n",
       "    <tr>\n",
       "      <th>0</th>\n",
       "      <td>10.47378</td>\n",
       "      <td>8.329035</td>\n",
       "      <td>0.666515</td>\n",
       "      <td>0.66486</td>\n",
       "      <td>7.686362</td>\n",
       "    </tr>\n",
       "  </tbody>\n",
       "</table>\n",
       "</div>"
      ],
      "text/plain": [
       "       RMSE       MAE  R-squared  Adj. R-squared      MAPE\n",
       "0  10.47378  8.329035   0.666515         0.66486  7.686362"
      ]
     },
     "execution_count": 83,
     "metadata": {},
     "output_type": "execute_result"
    }
   ],
   "source": [
    "model_train_4= model_performance_regression(lin_reg2, X_train_new_sc, y_train)\n",
    "model_train_4"
   ]
  },
  {
   "cell_type": "markdown",
   "id": "58756c29",
   "metadata": {},
   "source": [
    "##### Observations from the train model\n",
    "\n",
    "- The model is making a RMSE error of 10.4 and a mean absolute error of 8.3\n",
    "- We have a R-squared of 66% and adjusted R squared of 66% in predicting the Systolic BP\n"
   ]
  },
  {
   "cell_type": "code",
   "execution_count": 84,
   "id": "d22c53ea",
   "metadata": {},
   "outputs": [
    {
     "data": {
      "text/html": [
       "<div>\n",
       "<style scoped>\n",
       "    .dataframe tbody tr th:only-of-type {\n",
       "        vertical-align: middle;\n",
       "    }\n",
       "\n",
       "    .dataframe tbody tr th {\n",
       "        vertical-align: top;\n",
       "    }\n",
       "\n",
       "    .dataframe thead th {\n",
       "        text-align: right;\n",
       "    }\n",
       "</style>\n",
       "<table border=\"1\" class=\"dataframe\">\n",
       "  <thead>\n",
       "    <tr style=\"text-align: right;\">\n",
       "      <th></th>\n",
       "      <th>RMSE</th>\n",
       "      <th>MAE</th>\n",
       "      <th>R-squared</th>\n",
       "      <th>Adj. R-squared</th>\n",
       "      <th>MAPE</th>\n",
       "    </tr>\n",
       "  </thead>\n",
       "  <tbody>\n",
       "    <tr>\n",
       "      <th>0</th>\n",
       "      <td>11.397162</td>\n",
       "      <td>9.157717</td>\n",
       "      <td>0.611623</td>\n",
       "      <td>0.603777</td>\n",
       "      <td>8.458817</td>\n",
       "    </tr>\n",
       "  </tbody>\n",
       "</table>\n",
       "</div>"
      ],
      "text/plain": [
       "        RMSE       MAE  R-squared  Adj. R-squared      MAPE\n",
       "0  11.397162  9.157717   0.611623        0.603777  8.458817"
      ]
     },
     "execution_count": 84,
     "metadata": {},
     "output_type": "execute_result"
    }
   ],
   "source": [
    "# applying to the test data\n",
    "model_test_4 = model_performance_regression(lin_reg, X_test_new_sc, y_test)\n",
    "model_test_4"
   ]
  },
  {
   "cell_type": "markdown",
   "id": "0a511044",
   "metadata": {},
   "source": [
    "##### Observations from the test model\n",
    "- The model is making a RMSE error of 11.3 and a mean absolute error of 9.1\n",
    "- We have a R-squared of 61% and adjusted R squared of 60% in predicting the Systolic BP"
   ]
  },
  {
   "cell_type": "markdown",
   "id": "9d92f9dd",
   "metadata": {},
   "source": [
    "### Applying PCA"
   ]
  },
  {
   "cell_type": "code",
   "execution_count": 85,
   "id": "0a879094",
   "metadata": {},
   "outputs": [
    {
     "data": {
      "text/plain": [
       "Index(['Age', 'DiastolicBP', 'BS', 'BodyTemp', 'HeartRate', 'RiskLevel',\n",
       "       'SystolicBP'],\n",
       "      dtype='object')"
      ]
     },
     "execution_count": 85,
     "metadata": {},
     "output_type": "execute_result"
    }
   ],
   "source": [
    "df_2.columns"
   ]
  },
  {
   "cell_type": "code",
   "execution_count": 86,
   "id": "6814dee9",
   "metadata": {},
   "outputs": [
    {
     "data": {
      "text/plain": [
       "array([[0.25423729, 0.60784314, 1.        , 0.        , 0.88571429,\n",
       "        1.        ],\n",
       "       [0.42372881, 0.80392157, 1.        , 0.        , 0.42857143,\n",
       "        1.        ],\n",
       "       [0.3220339 , 0.41176471, 0.54794521, 0.        , 0.71428571,\n",
       "        1.        ],\n",
       "       ...,\n",
       "       [0.42372881, 0.21568627, 1.        , 0.        , 0.88571429,\n",
       "        1.        ],\n",
       "       [0.55932203, 0.80392157, 1.        , 0.        , 0.42857143,\n",
       "        1.        ],\n",
       "       [0.37288136, 0.31372549, 0.        , 0.        , 0.6       ,\n",
       "        0.5       ]])"
      ]
     },
     "execution_count": 86,
     "metadata": {},
     "output_type": "execute_result"
    }
   ],
   "source": [
    "feat = ['Age', 'DiastolicBP', 'BS', 'BodyTemp', 'HeartRate', 'RiskLevel']\n",
    "\n",
    "x = df_2.loc[:, feat].values\n",
    "y = df_2.loc[:,['SystolicBP']].values\n",
    "x = MinMaxScaler().fit_transform(x)\n",
    "\n",
    "x"
   ]
  },
  {
   "cell_type": "code",
   "execution_count": 87,
   "id": "2e97b9b6",
   "metadata": {},
   "outputs": [
    {
     "data": {
      "text/html": [
       "<div>\n",
       "<style scoped>\n",
       "    .dataframe tbody tr th:only-of-type {\n",
       "        vertical-align: middle;\n",
       "    }\n",
       "\n",
       "    .dataframe tbody tr th {\n",
       "        vertical-align: top;\n",
       "    }\n",
       "\n",
       "    .dataframe thead th {\n",
       "        text-align: right;\n",
       "    }\n",
       "</style>\n",
       "<table border=\"1\" class=\"dataframe\">\n",
       "  <thead>\n",
       "    <tr style=\"text-align: right;\">\n",
       "      <th></th>\n",
       "      <th>PC1</th>\n",
       "      <th>PC2</th>\n",
       "    </tr>\n",
       "  </thead>\n",
       "  <tbody>\n",
       "    <tr>\n",
       "      <th>0</th>\n",
       "      <td>0.739873</td>\n",
       "      <td>0.260944</td>\n",
       "    </tr>\n",
       "    <tr>\n",
       "      <th>1</th>\n",
       "      <td>0.791925</td>\n",
       "      <td>-0.064132</td>\n",
       "    </tr>\n",
       "    <tr>\n",
       "      <th>2</th>\n",
       "      <td>0.443923</td>\n",
       "      <td>0.399980</td>\n",
       "    </tr>\n",
       "    <tr>\n",
       "      <th>3</th>\n",
       "      <td>0.367883</td>\n",
       "      <td>0.170216</td>\n",
       "    </tr>\n",
       "    <tr>\n",
       "      <th>4</th>\n",
       "      <td>-0.632608</td>\n",
       "      <td>0.054168</td>\n",
       "    </tr>\n",
       "    <tr>\n",
       "      <th>...</th>\n",
       "      <td>...</td>\n",
       "      <td>...</td>\n",
       "    </tr>\n",
       "    <tr>\n",
       "      <th>1009</th>\n",
       "      <td>0.589412</td>\n",
       "      <td>0.504357</td>\n",
       "    </tr>\n",
       "    <tr>\n",
       "      <th>1010</th>\n",
       "      <td>0.839737</td>\n",
       "      <td>-0.289294</td>\n",
       "    </tr>\n",
       "    <tr>\n",
       "      <th>1011</th>\n",
       "      <td>0.657354</td>\n",
       "      <td>0.449251</td>\n",
       "    </tr>\n",
       "    <tr>\n",
       "      <th>1012</th>\n",
       "      <td>0.822846</td>\n",
       "      <td>-0.124997</td>\n",
       "    </tr>\n",
       "    <tr>\n",
       "      <th>1013</th>\n",
       "      <td>-0.248597</td>\n",
       "      <td>0.264066</td>\n",
       "    </tr>\n",
       "  </tbody>\n",
       "</table>\n",
       "<p>1014 rows × 2 columns</p>\n",
       "</div>"
      ],
      "text/plain": [
       "           PC1       PC2\n",
       "0     0.739873  0.260944\n",
       "1     0.791925 -0.064132\n",
       "2     0.443923  0.399980\n",
       "3     0.367883  0.170216\n",
       "4    -0.632608  0.054168\n",
       "...        ...       ...\n",
       "1009  0.589412  0.504357\n",
       "1010  0.839737 -0.289294\n",
       "1011  0.657354  0.449251\n",
       "1012  0.822846 -0.124997\n",
       "1013 -0.248597  0.264066\n",
       "\n",
       "[1014 rows x 2 columns]"
      ]
     },
     "execution_count": 87,
     "metadata": {},
     "output_type": "execute_result"
    }
   ],
   "source": [
    "#Now that we've standardized the values of the variables, we will apply the PCA.\n",
    "\n",
    "pca = PCA(n_components=2)\n",
    "principalComponents = pca.fit_transform(x)\n",
    "New_df = pd.DataFrame(data = principalComponents, columns = ['PC1', 'PC2'])\n",
    "\n",
    "New_df"
   ]
  },
  {
   "cell_type": "code",
   "execution_count": 88,
   "id": "fb8c7035",
   "metadata": {},
   "outputs": [
    {
     "data": {
      "text/html": [
       "<div>\n",
       "<style scoped>\n",
       "    .dataframe tbody tr th:only-of-type {\n",
       "        vertical-align: middle;\n",
       "    }\n",
       "\n",
       "    .dataframe tbody tr th {\n",
       "        vertical-align: top;\n",
       "    }\n",
       "\n",
       "    .dataframe thead th {\n",
       "        text-align: right;\n",
       "    }\n",
       "</style>\n",
       "<table border=\"1\" class=\"dataframe\">\n",
       "  <thead>\n",
       "    <tr style=\"text-align: right;\">\n",
       "      <th></th>\n",
       "      <th>PC1</th>\n",
       "      <th>PC2</th>\n",
       "      <th>SystolicBP</th>\n",
       "    </tr>\n",
       "  </thead>\n",
       "  <tbody>\n",
       "    <tr>\n",
       "      <th>0</th>\n",
       "      <td>0.739873</td>\n",
       "      <td>0.260944</td>\n",
       "      <td>130.0</td>\n",
       "    </tr>\n",
       "    <tr>\n",
       "      <th>1</th>\n",
       "      <td>0.791925</td>\n",
       "      <td>-0.064132</td>\n",
       "      <td>140.0</td>\n",
       "    </tr>\n",
       "    <tr>\n",
       "      <th>2</th>\n",
       "      <td>0.443923</td>\n",
       "      <td>0.399980</td>\n",
       "      <td>90.0</td>\n",
       "    </tr>\n",
       "    <tr>\n",
       "      <th>3</th>\n",
       "      <td>0.367883</td>\n",
       "      <td>0.170216</td>\n",
       "      <td>140.0</td>\n",
       "    </tr>\n",
       "    <tr>\n",
       "      <th>4</th>\n",
       "      <td>-0.632608</td>\n",
       "      <td>0.054168</td>\n",
       "      <td>120.0</td>\n",
       "    </tr>\n",
       "    <tr>\n",
       "      <th>...</th>\n",
       "      <td>...</td>\n",
       "      <td>...</td>\n",
       "      <td>...</td>\n",
       "    </tr>\n",
       "    <tr>\n",
       "      <th>1009</th>\n",
       "      <td>0.589412</td>\n",
       "      <td>0.504357</td>\n",
       "      <td>120.0</td>\n",
       "    </tr>\n",
       "    <tr>\n",
       "      <th>1010</th>\n",
       "      <td>0.839737</td>\n",
       "      <td>-0.289294</td>\n",
       "      <td>120.0</td>\n",
       "    </tr>\n",
       "    <tr>\n",
       "      <th>1011</th>\n",
       "      <td>0.657354</td>\n",
       "      <td>0.449251</td>\n",
       "      <td>85.0</td>\n",
       "    </tr>\n",
       "    <tr>\n",
       "      <th>1012</th>\n",
       "      <td>0.822846</td>\n",
       "      <td>-0.124997</td>\n",
       "      <td>120.0</td>\n",
       "    </tr>\n",
       "    <tr>\n",
       "      <th>1013</th>\n",
       "      <td>-0.248597</td>\n",
       "      <td>0.264066</td>\n",
       "      <td>120.0</td>\n",
       "    </tr>\n",
       "  </tbody>\n",
       "</table>\n",
       "<p>1014 rows × 3 columns</p>\n",
       "</div>"
      ],
      "text/plain": [
       "           PC1       PC2  SystolicBP\n",
       "0     0.739873  0.260944       130.0\n",
       "1     0.791925 -0.064132       140.0\n",
       "2     0.443923  0.399980        90.0\n",
       "3     0.367883  0.170216       140.0\n",
       "4    -0.632608  0.054168       120.0\n",
       "...        ...       ...         ...\n",
       "1009  0.589412  0.504357       120.0\n",
       "1010  0.839737 -0.289294       120.0\n",
       "1011  0.657354  0.449251        85.0\n",
       "1012  0.822846 -0.124997       120.0\n",
       "1013 -0.248597  0.264066       120.0\n",
       "\n",
       "[1014 rows x 3 columns]"
      ]
     },
     "execution_count": 88,
     "metadata": {},
     "output_type": "execute_result"
    }
   ],
   "source": [
    "#We will recombine the principal components with the targets now.\n",
    "\n",
    "Final_df = pd.concat([New_df, df[['SystolicBP']]], axis = 1)\n",
    "\n",
    "Final_df"
   ]
  },
  {
   "cell_type": "code",
   "execution_count": 89,
   "id": "830fff96",
   "metadata": {},
   "outputs": [
    {
     "data": {
      "text/plain": [
       "array([0.54611819, 0.1659764 ])"
      ]
     },
     "execution_count": 89,
     "metadata": {},
     "output_type": "execute_result"
    }
   ],
   "source": [
    "#Let's see how much of the variance is explained.\n",
    "\n",
    "pca.explained_variance_ratio_"
   ]
  },
  {
   "cell_type": "code",
   "execution_count": 90,
   "id": "f143808e",
   "metadata": {},
   "outputs": [],
   "source": [
    "# splitting the data\n",
    "X = Final_df.drop(['SystolicBP'], axis = 1)\n",
    "y = Final_df['SystolicBP']"
   ]
  },
  {
   "cell_type": "code",
   "execution_count": 91,
   "id": "3ed184e7",
   "metadata": {},
   "outputs": [],
   "source": [
    " # split to train and test data\n",
    "X_train, X_test, y_train, y_test = train_test_split(X, y, test_size=0.2, random_state=0) # using 20% of the data for testing"
   ]
  },
  {
   "cell_type": "code",
   "execution_count": 92,
   "id": "d6181bf8",
   "metadata": {},
   "outputs": [],
   "source": [
    "#creating instance of the model\n",
    "\n",
    "lin_reg = LinearRegression()"
   ]
  },
  {
   "cell_type": "code",
   "execution_count": 93,
   "id": "3adb8198",
   "metadata": {},
   "outputs": [
    {
     "data": {
      "text/html": [
       "<style>#sk-container-id-8 {color: black;background-color: white;}#sk-container-id-8 pre{padding: 0;}#sk-container-id-8 div.sk-toggleable {background-color: white;}#sk-container-id-8 label.sk-toggleable__label {cursor: pointer;display: block;width: 100%;margin-bottom: 0;padding: 0.3em;box-sizing: border-box;text-align: center;}#sk-container-id-8 label.sk-toggleable__label-arrow:before {content: \"▸\";float: left;margin-right: 0.25em;color: #696969;}#sk-container-id-8 label.sk-toggleable__label-arrow:hover:before {color: black;}#sk-container-id-8 div.sk-estimator:hover label.sk-toggleable__label-arrow:before {color: black;}#sk-container-id-8 div.sk-toggleable__content {max-height: 0;max-width: 0;overflow: hidden;text-align: left;background-color: #f0f8ff;}#sk-container-id-8 div.sk-toggleable__content pre {margin: 0.2em;color: black;border-radius: 0.25em;background-color: #f0f8ff;}#sk-container-id-8 input.sk-toggleable__control:checked~div.sk-toggleable__content {max-height: 200px;max-width: 100%;overflow: auto;}#sk-container-id-8 input.sk-toggleable__control:checked~label.sk-toggleable__label-arrow:before {content: \"▾\";}#sk-container-id-8 div.sk-estimator input.sk-toggleable__control:checked~label.sk-toggleable__label {background-color: #d4ebff;}#sk-container-id-8 div.sk-label input.sk-toggleable__control:checked~label.sk-toggleable__label {background-color: #d4ebff;}#sk-container-id-8 input.sk-hidden--visually {border: 0;clip: rect(1px 1px 1px 1px);clip: rect(1px, 1px, 1px, 1px);height: 1px;margin: -1px;overflow: hidden;padding: 0;position: absolute;width: 1px;}#sk-container-id-8 div.sk-estimator {font-family: monospace;background-color: #f0f8ff;border: 1px dotted black;border-radius: 0.25em;box-sizing: border-box;margin-bottom: 0.5em;}#sk-container-id-8 div.sk-estimator:hover {background-color: #d4ebff;}#sk-container-id-8 div.sk-parallel-item::after {content: \"\";width: 100%;border-bottom: 1px solid gray;flex-grow: 1;}#sk-container-id-8 div.sk-label:hover label.sk-toggleable__label {background-color: #d4ebff;}#sk-container-id-8 div.sk-serial::before {content: \"\";position: absolute;border-left: 1px solid gray;box-sizing: border-box;top: 0;bottom: 0;left: 50%;z-index: 0;}#sk-container-id-8 div.sk-serial {display: flex;flex-direction: column;align-items: center;background-color: white;padding-right: 0.2em;padding-left: 0.2em;position: relative;}#sk-container-id-8 div.sk-item {position: relative;z-index: 1;}#sk-container-id-8 div.sk-parallel {display: flex;align-items: stretch;justify-content: center;background-color: white;position: relative;}#sk-container-id-8 div.sk-item::before, #sk-container-id-8 div.sk-parallel-item::before {content: \"\";position: absolute;border-left: 1px solid gray;box-sizing: border-box;top: 0;bottom: 0;left: 50%;z-index: -1;}#sk-container-id-8 div.sk-parallel-item {display: flex;flex-direction: column;z-index: 1;position: relative;background-color: white;}#sk-container-id-8 div.sk-parallel-item:first-child::after {align-self: flex-end;width: 50%;}#sk-container-id-8 div.sk-parallel-item:last-child::after {align-self: flex-start;width: 50%;}#sk-container-id-8 div.sk-parallel-item:only-child::after {width: 0;}#sk-container-id-8 div.sk-dashed-wrapped {border: 1px dashed gray;margin: 0 0.4em 0.5em 0.4em;box-sizing: border-box;padding-bottom: 0.4em;background-color: white;}#sk-container-id-8 div.sk-label label {font-family: monospace;font-weight: bold;display: inline-block;line-height: 1.2em;}#sk-container-id-8 div.sk-label-container {text-align: center;}#sk-container-id-8 div.sk-container {/* jupyter's `normalize.less` sets `[hidden] { display: none; }` but bootstrap.min.css set `[hidden] { display: none !important; }` so we also need the `!important` here to be able to override the default hidden behavior on the sphinx rendered scikit-learn.org. See: https://github.com/scikit-learn/scikit-learn/issues/21755 */display: inline-block !important;position: relative;}#sk-container-id-8 div.sk-text-repr-fallback {display: none;}</style><div id=\"sk-container-id-8\" class=\"sk-top-container\"><div class=\"sk-text-repr-fallback\"><pre>LinearRegression()</pre><b>In a Jupyter environment, please rerun this cell to show the HTML representation or trust the notebook. <br />On GitHub, the HTML representation is unable to render, please try loading this page with nbviewer.org.</b></div><div class=\"sk-container\" hidden><div class=\"sk-item\"><div class=\"sk-estimator sk-toggleable\"><input class=\"sk-toggleable__control sk-hidden--visually\" id=\"sk-estimator-id-12\" type=\"checkbox\" checked><label for=\"sk-estimator-id-12\" class=\"sk-toggleable__label sk-toggleable__label-arrow\">LinearRegression</label><div class=\"sk-toggleable__content\"><pre>LinearRegression()</pre></div></div></div></div></div>"
      ],
      "text/plain": [
       "LinearRegression()"
      ]
     },
     "execution_count": 93,
     "metadata": {},
     "output_type": "execute_result"
    }
   ],
   "source": [
    "# Training the model\n",
    "\n",
    "lin_reg.fit(X_train,y_train )"
   ]
  },
  {
   "cell_type": "code",
   "execution_count": 94,
   "id": "87985863",
   "metadata": {},
   "outputs": [
    {
     "data": {
      "text/html": [
       "<div>\n",
       "<style scoped>\n",
       "    .dataframe tbody tr th:only-of-type {\n",
       "        vertical-align: middle;\n",
       "    }\n",
       "\n",
       "    .dataframe tbody tr th {\n",
       "        vertical-align: top;\n",
       "    }\n",
       "\n",
       "    .dataframe thead th {\n",
       "        text-align: right;\n",
       "    }\n",
       "</style>\n",
       "<table border=\"1\" class=\"dataframe\">\n",
       "  <thead>\n",
       "    <tr style=\"text-align: right;\">\n",
       "      <th></th>\n",
       "      <th>RMSE</th>\n",
       "      <th>MAE</th>\n",
       "      <th>R-squared</th>\n",
       "      <th>Adj. R-squared</th>\n",
       "      <th>MAPE</th>\n",
       "    </tr>\n",
       "  </thead>\n",
       "  <tbody>\n",
       "    <tr>\n",
       "      <th>0</th>\n",
       "      <td>12.605643</td>\n",
       "      <td>10.457168</td>\n",
       "      <td>0.516942</td>\n",
       "      <td>0.515747</td>\n",
       "      <td>9.754754</td>\n",
       "    </tr>\n",
       "  </tbody>\n",
       "</table>\n",
       "</div>"
      ],
      "text/plain": [
       "        RMSE        MAE  R-squared  Adj. R-squared      MAPE\n",
       "0  12.605643  10.457168   0.516942        0.515747  9.754754"
      ]
     },
     "execution_count": 94,
     "metadata": {},
     "output_type": "execute_result"
    }
   ],
   "source": [
    "model_train_5= model_performance_regression(lin_reg, X_train, y_train)\n",
    "model_train_5"
   ]
  },
  {
   "cell_type": "markdown",
   "id": "2a88bef2",
   "metadata": {},
   "source": [
    "##### Observations from the train model\n",
    "- The model is making a RMSE error of 12.6 and a mean absolute error of 10.4\n",
    "- We have a R-squared of 51% and adjusted R squared of 51% in predicting the Systolic BP"
   ]
  },
  {
   "cell_type": "code",
   "execution_count": 95,
   "id": "232601d5",
   "metadata": {},
   "outputs": [
    {
     "data": {
      "text/html": [
       "<div>\n",
       "<style scoped>\n",
       "    .dataframe tbody tr th:only-of-type {\n",
       "        vertical-align: middle;\n",
       "    }\n",
       "\n",
       "    .dataframe tbody tr th {\n",
       "        vertical-align: top;\n",
       "    }\n",
       "\n",
       "    .dataframe thead th {\n",
       "        text-align: right;\n",
       "    }\n",
       "</style>\n",
       "<table border=\"1\" class=\"dataframe\">\n",
       "  <thead>\n",
       "    <tr style=\"text-align: right;\">\n",
       "      <th></th>\n",
       "      <th>RMSE</th>\n",
       "      <th>MAE</th>\n",
       "      <th>R-squared</th>\n",
       "      <th>Adj. R-squared</th>\n",
       "      <th>MAPE</th>\n",
       "    </tr>\n",
       "  </thead>\n",
       "  <tbody>\n",
       "    <tr>\n",
       "      <th>0</th>\n",
       "      <td>14.036591</td>\n",
       "      <td>12.065414</td>\n",
       "      <td>0.410907</td>\n",
       "      <td>0.405016</td>\n",
       "      <td>11.204778</td>\n",
       "    </tr>\n",
       "  </tbody>\n",
       "</table>\n",
       "</div>"
      ],
      "text/plain": [
       "        RMSE        MAE  R-squared  Adj. R-squared       MAPE\n",
       "0  14.036591  12.065414   0.410907        0.405016  11.204778"
      ]
     },
     "execution_count": 95,
     "metadata": {},
     "output_type": "execute_result"
    }
   ],
   "source": [
    "# applying to the test data\n",
    "model_test_5 = model_performance_regression(lin_reg, X_test, y_test)\n",
    "model_test_5"
   ]
  },
  {
   "cell_type": "markdown",
   "id": "75c33698",
   "metadata": {},
   "source": [
    "##### Observations from the train model\n",
    "- The model is making a RMSE error of 14.0 and a mean absolute error of 12.0\n",
    "- We have a R-squared of 41% and adjusted R squared of 40% in predicting the Systolic BP"
   ]
  },
  {
   "cell_type": "code",
   "execution_count": 96,
   "id": "34e493e8",
   "metadata": {},
   "outputs": [
    {
     "data": {
      "text/html": [
       "<div>\n",
       "<style scoped>\n",
       "    .dataframe tbody tr th:only-of-type {\n",
       "        vertical-align: middle;\n",
       "    }\n",
       "\n",
       "    .dataframe tbody tr th {\n",
       "        vertical-align: top;\n",
       "    }\n",
       "\n",
       "    .dataframe thead th {\n",
       "        text-align: right;\n",
       "    }\n",
       "</style>\n",
       "<table border=\"1\" class=\"dataframe\">\n",
       "  <thead>\n",
       "    <tr style=\"text-align: right;\">\n",
       "      <th></th>\n",
       "      <th>Models</th>\n",
       "      <th>Accuracy</th>\n",
       "    </tr>\n",
       "  </thead>\n",
       "  <tbody>\n",
       "    <tr>\n",
       "      <th>0</th>\n",
       "      <td>Model</td>\n",
       "      <td>67.0</td>\n",
       "    </tr>\n",
       "    <tr>\n",
       "      <th>1</th>\n",
       "      <td>Model_1</td>\n",
       "      <td>65.9</td>\n",
       "    </tr>\n",
       "    <tr>\n",
       "      <th>2</th>\n",
       "      <td>Model_2</td>\n",
       "      <td>66.6</td>\n",
       "    </tr>\n",
       "    <tr>\n",
       "      <th>3</th>\n",
       "      <td>Model_3</td>\n",
       "      <td>66.6</td>\n",
       "    </tr>\n",
       "    <tr>\n",
       "      <th>4</th>\n",
       "      <td>Model_4</td>\n",
       "      <td>66.6</td>\n",
       "    </tr>\n",
       "  </tbody>\n",
       "</table>\n",
       "</div>"
      ],
      "text/plain": [
       "    Models  Accuracy\n",
       "0    Model      67.0\n",
       "1  Model_1      65.9\n",
       "2  Model_2      66.6\n",
       "3  Model_3      66.6\n",
       "4  Model_4      66.6"
      ]
     },
     "execution_count": 96,
     "metadata": {},
     "output_type": "execute_result"
    }
   ],
   "source": [
    "Models = ['Model', 'Model_1', 'Model_2','Model_3','Model_4']\n",
    "accuracy = [67.0,65.9,66.6,66.6,66.6]\n",
    "\n",
    "dict = {'Models': Models,\n",
    "       'Accuracy': accuracy}\n",
    "\n",
    "df_model = pd.DataFrame(dict)\n",
    "df_model"
   ]
  },
  {
   "cell_type": "markdown",
   "id": "1b7ce944",
   "metadata": {},
   "source": [
    "### The relationship between age and heartrate  by means of age grouping."
   ]
  },
  {
   "cell_type": "code",
   "execution_count": 97,
   "id": "47fad7f3",
   "metadata": {},
   "outputs": [
    {
     "data": {
      "text/html": [
       "<div>\n",
       "<style scoped>\n",
       "    .dataframe tbody tr th:only-of-type {\n",
       "        vertical-align: middle;\n",
       "    }\n",
       "\n",
       "    .dataframe tbody tr th {\n",
       "        vertical-align: top;\n",
       "    }\n",
       "\n",
       "    .dataframe thead th {\n",
       "        text-align: right;\n",
       "    }\n",
       "</style>\n",
       "<table border=\"1\" class=\"dataframe\">\n",
       "  <thead>\n",
       "    <tr style=\"text-align: right;\">\n",
       "      <th></th>\n",
       "      <th>Age</th>\n",
       "      <th>HeartRate</th>\n",
       "    </tr>\n",
       "  </thead>\n",
       "  <tbody>\n",
       "    <tr>\n",
       "      <th>0</th>\n",
       "      <td>25.0</td>\n",
       "      <td>86.0</td>\n",
       "    </tr>\n",
       "    <tr>\n",
       "      <th>1</th>\n",
       "      <td>35.0</td>\n",
       "      <td>70.0</td>\n",
       "    </tr>\n",
       "    <tr>\n",
       "      <th>2</th>\n",
       "      <td>29.0</td>\n",
       "      <td>80.0</td>\n",
       "    </tr>\n",
       "    <tr>\n",
       "      <th>3</th>\n",
       "      <td>30.0</td>\n",
       "      <td>70.0</td>\n",
       "    </tr>\n",
       "    <tr>\n",
       "      <th>4</th>\n",
       "      <td>35.0</td>\n",
       "      <td>76.0</td>\n",
       "    </tr>\n",
       "  </tbody>\n",
       "</table>\n",
       "</div>"
      ],
      "text/plain": [
       "    Age  HeartRate\n",
       "0  25.0       86.0\n",
       "1  35.0       70.0\n",
       "2  29.0       80.0\n",
       "3  30.0       70.0\n",
       "4  35.0       76.0"
      ]
     },
     "execution_count": 97,
     "metadata": {},
     "output_type": "execute_result"
    }
   ],
   "source": [
    "# getting the age and heartrate into one dataframe\n",
    "df_ah= df[['Age', 'HeartRate']]\n",
    "df_ah.head()"
   ]
  },
  {
   "cell_type": "code",
   "execution_count": 98,
   "id": "a83d7a89",
   "metadata": {},
   "outputs": [],
   "source": [
    "# choosing bins\n",
    "bins = [10, 20, 30, 40, 50,60,70]\n",
    "\n",
    "df_ah['age_range'] = pd.cut(df_ah['Age'], bins)"
   ]
  },
  {
   "cell_type": "code",
   "execution_count": 99,
   "id": "27553c88",
   "metadata": {},
   "outputs": [
    {
     "data": {
      "text/html": [
       "<div>\n",
       "<style scoped>\n",
       "    .dataframe tbody tr th:only-of-type {\n",
       "        vertical-align: middle;\n",
       "    }\n",
       "\n",
       "    .dataframe tbody tr th {\n",
       "        vertical-align: top;\n",
       "    }\n",
       "\n",
       "    .dataframe thead th {\n",
       "        text-align: right;\n",
       "    }\n",
       "</style>\n",
       "<table border=\"1\" class=\"dataframe\">\n",
       "  <thead>\n",
       "    <tr style=\"text-align: right;\">\n",
       "      <th></th>\n",
       "      <th>age_range</th>\n",
       "      <th>mean_heart_rate</th>\n",
       "    </tr>\n",
       "  </thead>\n",
       "  <tbody>\n",
       "    <tr>\n",
       "      <th>0</th>\n",
       "      <td>(10, 20]</td>\n",
       "      <td>73.053872</td>\n",
       "    </tr>\n",
       "    <tr>\n",
       "      <th>1</th>\n",
       "      <td>(20, 30]</td>\n",
       "      <td>75.165079</td>\n",
       "    </tr>\n",
       "    <tr>\n",
       "      <th>2</th>\n",
       "      <td>(30, 40]</td>\n",
       "      <td>74.956284</td>\n",
       "    </tr>\n",
       "    <tr>\n",
       "      <th>3</th>\n",
       "      <td>(40, 50]</td>\n",
       "      <td>76.458333</td>\n",
       "    </tr>\n",
       "    <tr>\n",
       "      <th>4</th>\n",
       "      <td>(50, 60]</td>\n",
       "      <td>71.931034</td>\n",
       "    </tr>\n",
       "    <tr>\n",
       "      <th>5</th>\n",
       "      <td>(60, 70]</td>\n",
       "      <td>79.250000</td>\n",
       "    </tr>\n",
       "  </tbody>\n",
       "</table>\n",
       "</div>"
      ],
      "text/plain": [
       "  age_range  mean_heart_rate\n",
       "0  (10, 20]        73.053872\n",
       "1  (20, 30]        75.165079\n",
       "2  (30, 40]        74.956284\n",
       "3  (40, 50]        76.458333\n",
       "4  (50, 60]        71.931034\n",
       "5  (60, 70]        79.250000"
      ]
     },
     "execution_count": 99,
     "metadata": {},
     "output_type": "execute_result"
    }
   ],
   "source": [
    "# grouping with the bins\n",
    "df_ah = (df_ah.groupby('age_range')['HeartRate'].agg(mean_heart_rate='mean')).reset_index()\n",
    "df_ah"
   ]
  },
  {
   "cell_type": "code",
   "execution_count": 100,
   "id": "495ae3c4",
   "metadata": {},
   "outputs": [
    {
     "data": {
      "image/png": "[encoded data removed]",
      "text/plain": [
       "<Figure size 792x648 with 1 Axes>"
      ]
     },
     "metadata": {
      "needs_background": "light"
     },
     "output_type": "display_data"
    }
   ],
   "source": [
    "fig = plt.figure(figsize=(11, 9))\n",
    "\n",
    "sns.barplot(x = df_ah[\"age_range\"], y = df_ah[\"mean_heart_rate\"])\n",
    "plt.title(\"Relationship between Age and Heart Rate\", size=20)\n",
    "plt.show()"
   ]
  },
  {
   "cell_type": "markdown",
   "id": "30ac6496",
   "metadata": {},
   "source": [
    "Describe how would you investigate associations between pairs high/high, normal/normal, and low/low diastolic and systolic blood pressure.  \n",
    "Calculate, and interpret the following:\n",
    "(1)    Support\n",
    "(2)    Confidence\n",
    "(3)    Conviction\n",
    "(4)    Lift\n",
    "\n",
    "\n",
    "Assume, the high systolic blood pressure starts from 140, the high diastolic blood pressure starts from 90. The normal systolic pressure is in the range (110, 140). The normal diastolic blood pressure is in the range (70, 90). The low systolic pressure is lower than 110, and low diastolic is less than 70."
   ]
  },
  {
   "cell_type": "markdown",
   "id": "c8d8edec",
   "metadata": {},
   "source": [
    "##### Calculating the  Support"
   ]
  },
  {
   "cell_type": "code",
   "execution_count": 101,
   "id": "1ff0277c",
   "metadata": {},
   "outputs": [],
   "source": [
    "# select where the SystolicBP and DiastolicBP are high\n",
    "df_high = df[(df['SystolicBP']>= 140) & (df['DiastolicBP']>=90)]"
   ]
  },
  {
   "cell_type": "code",
   "execution_count": 102,
   "id": "68b38020",
   "metadata": {},
   "outputs": [
    {
     "name": "stdout",
     "output_type": "stream",
     "text": [
      " Support for this high Diastolic and Systolic BP is 0.12\n"
     ]
    }
   ],
   "source": [
    "support_high = len(df_high) / len(df)\n",
    "print(f' Support for this high Diastolic and Systolic BP is {support_high:.2f}')\n"
   ]
  },
  {
   "cell_type": "code",
   "execution_count": 103,
   "id": "385a08cf",
   "metadata": {},
   "outputs": [],
   "source": [
    "# select where the SystolicBP and DiastolicBP are low\n",
    "df_low = df[(df['SystolicBP']< 110) & (df['DiastolicBP']<70)]"
   ]
  },
  {
   "cell_type": "code",
   "execution_count": 104,
   "id": "3a53fb70",
   "metadata": {},
   "outputs": [
    {
     "name": "stdout",
     "output_type": "stream",
     "text": [
      " Support for this low Diastolic and Systolic BP is 0.27\n"
     ]
    }
   ],
   "source": [
    "support_low = len(df_low) / len(df)\n",
    "print(f' Support for this low Diastolic and Systolic BP is {support_low:.2f}')\n"
   ]
  },
  {
   "cell_type": "code",
   "execution_count": 105,
   "id": "31678132",
   "metadata": {},
   "outputs": [],
   "source": [
    "# slicing to get the normal BP rates\n",
    "df_normal = df[(df['SystolicBP'] >= 110) & (df['SystolicBP'] < 140) &(df['DiastolicBP']>=70) & (df['DiastolicBP']<90)]"
   ]
  },
  {
   "cell_type": "code",
   "execution_count": 106,
   "id": "965e570e",
   "metadata": {},
   "outputs": [
    {
     "name": "stdout",
     "output_type": "stream",
     "text": [
      " Support for this normal Diastolic and Systolic BP is 0.34\n"
     ]
    }
   ],
   "source": [
    "support_normal = len(df_normal) / len(df)\n",
    "print(f' Support for this normal Diastolic and Systolic BP is {support_normal:.2f}')\n"
   ]
  },
  {
   "cell_type": "markdown",
   "id": "da815615",
   "metadata": {},
   "source": [
    "##### Calculating the  Confidence"
   ]
  },
  {
   "cell_type": "code",
   "execution_count": 107,
   "id": "9c092f29",
   "metadata": {},
   "outputs": [],
   "source": [
    "# get the frequence of high for both diastolic and systolic BP\n",
    "freq_sys_h = df[(df['SystolicBP'] >= 140)] # frequency of high systolic BP\n",
    "freq_dia_h = df[(df['DiastolicBP']>=90)] # frequency of high diastolic BP"
   ]
  },
  {
   "cell_type": "code",
   "execution_count": 108,
   "id": "a172c7f3",
   "metadata": {},
   "outputs": [
    {
     "name": "stdout",
     "output_type": "stream",
     "text": [
      " Confidence for this high Diastolic and Systolic BP is 0.42\n"
     ]
    }
   ],
   "source": [
    "confidence_high = len(df_high) / len(freq_dia_h)\n",
    "print(f' Confidence for this high Diastolic and Systolic BP is {confidence_high:.2f}')"
   ]
  },
  {
   "cell_type": "code",
   "execution_count": 109,
   "id": "bedcae17",
   "metadata": {},
   "outputs": [],
   "source": [
    "# get the frequence of low for both diastolic and systolic BP\n",
    "freq_sys_l = df[(df['SystolicBP'] < 110)] # frequency of low systolic BP\n",
    "freq_dia_l = df[(df['DiastolicBP']<70)] # frequency of low diastolic BP"
   ]
  },
  {
   "cell_type": "code",
   "execution_count": 110,
   "id": "04911cec",
   "metadata": {},
   "outputs": [
    {
     "name": "stdout",
     "output_type": "stream",
     "text": [
      " Confidence for this low Diastolic and Systolic BP is 0.84\n"
     ]
    }
   ],
   "source": [
    "confidence_low = len(df_low) / len(freq_dia_l)\n",
    "print(f' Confidence for this low Diastolic and Systolic BP is {confidence_low:.2f}')"
   ]
  },
  {
   "cell_type": "code",
   "execution_count": 111,
   "id": "a6934afe",
   "metadata": {},
   "outputs": [],
   "source": [
    "# get the frequence of normal for both diastolic and systolic BP\n",
    "freq_sys_n = df[(df['SystolicBP'] >= 110) & (df['SystolicBP']<140)] # frequency of normal systolic BP\n",
    "freq_dia_n = df[(df['DiastolicBP']>=70)&(df['DiastolicBP']<90)] # frequency of normal diastolic BP"
   ]
  },
  {
   "cell_type": "code",
   "execution_count": 112,
   "id": "7650b252",
   "metadata": {},
   "outputs": [
    {
     "name": "stdout",
     "output_type": "stream",
     "text": [
      " Confidence for this normal Diastolic and Systolic BP is 0.82\n"
     ]
    }
   ],
   "source": [
    "confidence_normal = len(df_normal) / len(freq_dia_n)\n",
    "print(f' Confidence for this normal Diastolic and Systolic BP is {confidence_normal:.2f}')"
   ]
  },
  {
   "cell_type": "markdown",
   "id": "a09e6742",
   "metadata": {},
   "source": [
    "##### Calculating the Completeness"
   ]
  },
  {
   "cell_type": "code",
   "execution_count": 113,
   "id": "bb2218ef",
   "metadata": {},
   "outputs": [
    {
     "name": "stdout",
     "output_type": "stream",
     "text": [
      " Completeness for this high Diastolic and Systolic BP is 0.90\n"
     ]
    }
   ],
   "source": [
    "# completeness for high-high\n",
    "completeness_high = len(df_high) / len(freq_sys_h)\n",
    "print(f' Completeness for this high Diastolic and Systolic BP is {completeness_high:.2f}')"
   ]
  },
  {
   "cell_type": "code",
   "execution_count": 114,
   "id": "3dc63538",
   "metadata": {},
   "outputs": [
    {
     "name": "stdout",
     "output_type": "stream",
     "text": [
      " Completeness for this low Diastolic and Systolic BP is 0.78\n"
     ]
    }
   ],
   "source": [
    "# completeness for low-low\n",
    "completeness_low = len(df_low) / len(freq_sys_l)\n",
    "print(f' Completeness for this low Diastolic and Systolic BP is {completeness_low:.2f}')"
   ]
  },
  {
   "cell_type": "code",
   "execution_count": 115,
   "id": "8d0bec48",
   "metadata": {},
   "outputs": [
    {
     "name": "stdout",
     "output_type": "stream",
     "text": [
      " Completeness for this normal Diastolic and Systolic BP is 0.63\n"
     ]
    }
   ],
   "source": [
    "# completeness for normal -normal\n",
    "completeness_norm = len(df_normal) / len(freq_sys_n)\n",
    "print(f' Completeness for this normal Diastolic and Systolic BP is {completeness_norm:.2f}')"
   ]
  },
  {
   "cell_type": "markdown",
   "id": "e7e4d916",
   "metadata": {},
   "source": [
    "##### Calculating for Conviction"
   ]
  },
  {
   "cell_type": "code",
   "execution_count": 116,
   "id": "0b21c3df",
   "metadata": {},
   "outputs": [
    {
     "name": "stdout",
     "output_type": "stream",
     "text": [
      " Conviction for this high Diastolic and Systolic BP is 1.51\n"
     ]
    }
   ],
   "source": [
    "# conviction for high-high\n",
    "\n",
    "support_high_sys = len(freq_sys_h)/ len(df)\n",
    "support_high_dia = len(freq_dia_h) / len(df)\n",
    "conf_1 = len(df_high) / len(freq_dia_h)\n",
    "conf_2 = len(df_high) / len(freq_sys_h)\n",
    "\n",
    "conv_high = (1 - support_high_sys)/(1-conf_1)\n",
    "print(f' Conviction for this high Diastolic and Systolic BP is {conv_high:.2f}')"
   ]
  },
  {
   "cell_type": "code",
   "execution_count": 117,
   "id": "4ac14b68",
   "metadata": {},
   "outputs": [
    {
     "name": "stdout",
     "output_type": "stream",
     "text": [
      " Conviction for this low Diastolic and Systolic BP is 4.16\n"
     ]
    }
   ],
   "source": [
    "# conviction for low-low\n",
    "\n",
    "support_low_sys = len(freq_sys_l)/ len(df)\n",
    "support_low_dia = len(freq_dia_l) / len(df)\n",
    "conf_1 = len(df_low) / len(freq_dia_l)\n",
    "conf_2 = len(df_low) / len(freq_sys_l)\n",
    "\n",
    "conv_low = (1 - support_low_sys)/(1-conf_1)\n",
    "print(f' Conviction for this low Diastolic and Systolic BP is {conv_low:.2f}')"
   ]
  },
  {
   "cell_type": "code",
   "execution_count": 118,
   "id": "01c44426",
   "metadata": {},
   "outputs": [
    {
     "name": "stdout",
     "output_type": "stream",
     "text": [
      " Conviction for this normal Diastolic and Systolic BP is 2.53\n"
     ]
    }
   ],
   "source": [
    "# conviction for normal-normal\n",
    "\n",
    "support_norm_sys = len(freq_sys_n)/ len(df)\n",
    "support_norm_dia = len(freq_dia_n) / len(df)\n",
    "conf_1 = len(df_normal) / len(freq_dia_n)\n",
    "conf_2 = len(df_normal) / len(freq_sys_n)\n",
    "\n",
    "conv_norm = (1 - support_norm_sys)/(1-conf_1)\n",
    "print(f' Conviction for this normal Diastolic and Systolic BP is {conv_norm:.2f}')"
   ]
  },
  {
   "cell_type": "markdown",
   "id": "ee0ee0a2",
   "metadata": {},
   "source": [
    "##### Calculating the Lift"
   ]
  },
  {
   "cell_type": "code",
   "execution_count": 119,
   "id": "9b5bb01d",
   "metadata": {},
   "outputs": [
    {
     "name": "stdout",
     "output_type": "stream",
     "text": [
      " Lift for this high Diastolic and Systolic BP is 3.31\n"
     ]
    }
   ],
   "source": [
    "# lift for high - high\n",
    "\n",
    "lift_high = support_high / (support_high_dia * support_high_sys)\n",
    "print(f' Lift for this high Diastolic and Systolic BP is {lift_high:.2f}')"
   ]
  },
  {
   "cell_type": "code",
   "execution_count": 120,
   "id": "f63c9101",
   "metadata": {},
   "outputs": [
    {
     "name": "stdout",
     "output_type": "stream",
     "text": [
      " Lift for this low Diastolic and Systolic BP is 2.48\n"
     ]
    }
   ],
   "source": [
    "# lift for low - low\n",
    "\n",
    "lift_low = support_low / (support_low_dia * support_low_sys)\n",
    "print(f' Lift for this low Diastolic and Systolic BP is {lift_low:.2f}')"
   ]
  },
  {
   "cell_type": "code",
   "execution_count": 121,
   "id": "a6af5e97",
   "metadata": {},
   "outputs": [
    {
     "name": "stdout",
     "output_type": "stream",
     "text": [
      " Lift for this normal Diastolic and Systolic BP is 1.53\n"
     ]
    }
   ],
   "source": [
    "# lift for normal - normal\n",
    "\n",
    "lift_norm = support_normal / (support_norm_dia * support_norm_sys)\n",
    "print(f' Lift for this normal Diastolic and Systolic BP is {lift_norm:.2f}')"
   ]
  },
  {
   "cell_type": "markdown",
   "id": "c78e650e",
   "metadata": {},
   "source": [
    "##### Correlation between Age and Systolic BP.\n",
    "The heat map in Heatmap displays the degrees of association between individual variables of the data set. The correlation between Age and systolic BP is 0.42, there is moderate positive correlation between the two variables, an increase in age can directly cause increase in systolic bp (This increase may not be linear). \n"
   ]
  },
  {
   "cell_type": "markdown",
   "id": "a80e2d16",
   "metadata": {},
   "source": [
    "##### Conclusion.\n",
    "We have built a model that have 64% performance in predicting the systolic blood pressure for pregnant women. The reduction of maternal mortality is of focus and this study has provided areas that can be monitored to reduce maternal mortality. From the result of the associated rule, we noticed that the lift score was above 1, which signifies that diastolic bp and systolic bp are dependent on one another and a useful association rule. Hypertensive disorders affect women and child in the womb and constant monitoring can reduce critical conditions in pregnant women. This study also provided insight on age and systolic bp, from their correlation we observed that they are moderately positively correlated, same amount of care should be given to women of any age during pregnancy. Below are some recommendations on how to improve maternal health.\n",
    "- a.\tEducating women on pregnancy and the importance of reporting changes.\n",
    "- b.\tConstant monitoring of blood pressure.\n",
    "\n",
    "Further study can be made to ascertain the changes in blood pressure during and day and night during pregnancy, this is to determine the rates when at rest and when the body is in motion.\n"
   ]
  },
  {
   "cell_type": "code",
   "execution_count": null,
   "id": "6c569f7f",
   "metadata": {},
   "outputs": [],
   "source": []
  }
 ],
 "metadata": {
  "kernelspec": {
   "display_name": "Python 3 (ipykernel)",
   "language": "python",
   "name": "python3"
  },
  "language_info": {
   "codemirror_mode": {
    "name": "ipython",
    "version": 3
   },
   "file_extension": ".py",
   "mimetype": "text/x-python",
   "name": "python",
   "nbconvert_exporter": "python",
   "pygments_lexer": "ipython3",
   "version": "3.9.7"
  }
 },
 "nbformat": 4,
 "nbformat_minor": 5
}
